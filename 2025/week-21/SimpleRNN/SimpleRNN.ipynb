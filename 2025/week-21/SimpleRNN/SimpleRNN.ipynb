{
 "cells": [
  {
   "cell_type": "markdown",
   "metadata": {},
   "source": [
    "## 📘 Simple RNN от посимвольной до пословной токенизации"
   ]
  },
  {
   "cell_type": "markdown",
   "metadata": {},
   "source": [
    "### Подключим необходимые пакеты"
   ]
  },
  {
   "cell_type": "code",
   "execution_count": null,
   "metadata": {
    "execution": {
     "iopub.execute_input": "2024-05-27T05:40:03.216438Z",
     "iopub.status.busy": "2024-05-27T05:40:03.215797Z",
     "iopub.status.idle": "2024-05-27T05:40:03.244527Z",
     "shell.execute_reply": "2024-05-27T05:40:03.243650Z",
     "shell.execute_reply.started": "2024-05-27T05:40:03.216405Z"
    },
    "trusted": true
   },
   "outputs": [
    {
     "data": {
      "text/plain": [
       "'cuda'"
      ]
     },
     "execution_count": 2,
     "metadata": {},
     "output_type": "execute_result"
    }
   ],
   "source": [
    "\"\"\"\n",
    "Реализация моделей RNN с посимвольной и пословной токенизацией для генерации текста.\n",
    "\n",
    "Данный модуль обеспечивает создание, обучение и применение рекуррентных нейронных сетей\n",
    "для генерации текста на русском языке. Реализованы два подхода: символьная и словесная токенизация.\n",
    "Основной целью является демонстрация базовых принципов работы рекуррентных моделей\n",
    "и сравнение эффективности различных методов токенизации.\n",
    "\"\"\"\n",
    "\n",
    "# Библиотеки для работы с данными и базами данных\n",
    "import sqlite3\n",
    "from collections import Counter\n",
    "from typing import List, Dict, Any, Optional, Union, Tuple\n",
    "\n",
    "import pandas as pd\n",
    "from datasets import load_dataset\n",
    "from sklearn.model_selection import train_test_split\n",
    "\n",
    "# Библиотеки для обработки текста\n",
    "import nltk\n",
    "from nltk.tokenize import sent_tokenize\n",
    "\n",
    "# Библиотеки глубокого обучения\n",
    "import torch\n",
    "import torch.nn as nn\n",
    "from torch.utils.data import Dataset, DataLoader\n",
    "\n",
    "# Библиотеки для визуализации и анализа\n",
    "import matplotlib.pyplot as plt\n",
    "import seaborn as sns\n",
    "import numpy as np\n",
    "\n",
    "# Утилиты\n",
    "from tqdm import tqdm\n",
    "\n",
    "# Настройка визуализации\n",
    "seaborn.set(palette='summer')\n",
    "\n",
    "# Определение устройства для вычислений\n",
    "device = 'cuda' if torch.cuda.is_available() else 'cpu'\n",
    "device"
   ]
  },
  {
   "cell_type": "markdown",
   "metadata": {},
   "source": [
    "### Load Data\n",
    "\n",
    "В качестве датасета испльзуюся старницы Wiki на русском языке.\n",
    "wikibooks-dataset"
   ]
  },
  {
   "cell_type": "code",
   "execution_count": 3,
   "metadata": {
    "execution": {
     "iopub.execute_input": "2024-05-27T05:40:03.246047Z",
     "iopub.status.busy": "2024-05-27T05:40:03.245708Z",
     "iopub.status.idle": "2024-05-27T05:40:06.488919Z",
     "shell.execute_reply": "2024-05-27T05:40:06.488017Z",
     "shell.execute_reply.started": "2024-05-27T05:40:03.246016Z"
    },
    "trusted": true
   },
   "outputs": [],
   "source": [
    "conn = sqlite3.connect('/kaggle/input/wikibooks-dataset/wikibooks.sqlite')\n",
    "\n",
    "df = pd.read_sql_query(\"SELECT * FROM ru LIMIT 3300\", conn)"
   ]
  },
  {
   "cell_type": "markdown",
   "metadata": {},
   "source": [
    "### Preprocessing data"
   ]
  },
  {
   "cell_type": "markdown",
   "metadata": {},
   "source": [
    "Разобьём страницы на тексты длиной 256 символов"
   ]
  },
  {
   "cell_type": "code",
   "execution_count": null,
   "metadata": {
    "execution": {
     "iopub.execute_input": "2024-05-27T05:40:06.491765Z",
     "iopub.status.busy": "2024-05-27T05:40:06.491418Z",
     "iopub.status.idle": "2024-05-27T05:40:16.817907Z",
     "shell.execute_reply": "2024-05-27T05:40:16.817019Z",
     "shell.execute_reply.started": "2024-05-27T05:40:06.491736Z"
    },
    "trusted": true
   },
   "outputs": [
    {
     "name": "stderr",
     "output_type": "stream",
     "text": [
      "100%|██████████| 3300/3300 [00:10<00:00, 319.92it/s]"
     ]
    },
    {
     "name": "stdout",
     "output_type": "stream",
     "text": [
      "Количество предложений 120873\n"
     ]
    },
    {
     "name": "stderr",
     "output_type": "stream",
     "text": [
      "\n"
     ]
    }
   ],
   "source": [
    "# Извлечение предложений из текстов\n",
    "sentences = []\n",
    "\n",
    "for sentence in tqdm(df['body_text']):\n",
    "    sentences.extend(\n",
    "        [x.lower() for x in sent_tokenize(sentence, language='russian') if len(x) < 256]\n",
    "        )\n",
    "    \n",
    "print(\"Количество предложений\", len(sentences))"
   ]
  },
  {
   "cell_type": "markdown",
   "metadata": {},
   "source": [
    "### 📚 Токенизация на уровне символов: построение словаря\n",
    "\n",
    "<details> \n",
    "    <summary><em><strong>построение словаря 👈</strong></em></summary>\n",
    "\n",
    "Теперь мы приступим к важному этапу подготовки данных — **токенизации на уровне символов**. Этот шаг лежит в основе создания языковой модели, поскольку позволяет преобразовать текст в числовую форму, пригодную для обработки нейронной сетью.\n",
    "\n",
    "#### 🔍 Что происходит в коде?\n",
    "\n",
    "Давайте разберёмся по шагам, что делает наш блок кода:\n",
    "\n",
    "1. **Определение `stop_chars`**  \n",
    "   Мы задаём список знаков препинания и специальных символов, которые хотим исключить из словаря. Это помогает уменьшить его размер и сосредоточиться на более значимых символах.\n",
    "\n",
    "2. **Подсчёт частоты символов**  \n",
    "   Используем `Counter` из библиотеки `collections`, чтобы определить, как часто встречается каждый символ в корпусе текста.\n",
    "\n",
    "3. **Фильтрация и перебор**  \n",
    "   Проходим по всем предложениям и символам, игнорируя те, что находятся в списке `stop_chars`.\n",
    "\n",
    "4. **Инициализация словаря (`vocab`)**  \n",
    "   Создаём начальный словарь, включающий четыре **специальных токена**, о которых поговорим чуть ниже.\n",
    "\n",
    "5. **Порог отбора (`counter_threshold = 500`)**  \n",
    "   Устанавливаем порог, согласно которому в словарь войдут только те символы, которые встречаются чаще 500 раз.\n",
    "\n",
    "6. **Формирование финального словаря**  \n",
    "   Добавляем в `vocab` только те символы, которые соответствуют установленному порогу.\n",
    "\n",
    "#### ⚙️ Специальные токены и их роль\n",
    "\n",
    "Словарь начинается с четырёх **специальных токенов**, которые играют ключевую роль в обучении и генерации текста:\n",
    "\n",
    "| Токен    | Название                    | Описание |\n",
    "|----------|-----------------------------|----------|\n",
    "| `<unk>`  | *Unknown*                   | Используется для неизвестных или редких символов, которых нет в словаре. |\n",
    "| `<bos>`  | *Beginning of Sequence*     | Обозначает начало последовательности (например, предложения). Помогает модели понять контекст начала текста. |\n",
    "| `<eos>`  | *End of Sequence*           | Сигнализирует о завершении последовательности. Важно для обучения модели корректно заканчивать генерацию. |\n",
    "| `<pad>`  | *Padding*                   | Токен заполнения, используется для выравнивания длины последовательностей в пакете. |\n",
    "\n",
    "Эти токены дают модели возможность работать с различными длинами предложений и адекватно интерпретировать начало и конец текста.\n",
    "\n",
    "#### 📉 Почему мы используем пороговое значение?\n",
    "\n",
    "Установка порога (`counter_threshold = 500`) — это стратегическое решение, которое:\n",
    "\n",
    "- ✅ **Уменьшает размер словаря**, делая модель более компактной и эффективной\n",
    "- ✅ **Фокусирует обучение на наиболее часто встречающихся символах**\n",
    "- ✅ **Снижает риск переобучения** на редкие или случайные комбинации\n",
    "- ✅ **Ускоряет обучение** и уменьшает требования к памяти\n",
    "\n",
    "Благодаря этому подходу мы сохраняем важную информацию, игнорируя шум и малозначимые детали.\n",
    "\n",
    "#### 🧱 Итог\n",
    "\n",
    "Этот этап — основа всей последующей работы модели. Посимвольная токенизация даёт модели возможность учиться на тонких закономерностях текста, таких как пунктуация, регистр, морфология и даже стиль. С правильно построенным словарём и чёткой системой токенов мы готовы двигаться дальше — к созданию самой языковой модели.\n",
    "\n",
    "</details> "
   ]
  },
  {
   "cell_type": "code",
   "execution_count": null,
   "metadata": {
    "execution": {
     "iopub.execute_input": "2024-05-27T05:40:16.819319Z",
     "iopub.status.busy": "2024-05-27T05:40:16.819042Z",
     "iopub.status.idle": "2024-05-27T05:40:25.654861Z",
     "shell.execute_reply": "2024-05-27T05:40:25.654001Z",
     "shell.execute_reply.started": "2024-05-27T05:40:16.819296Z"
    },
    "trusted": true
   },
   "outputs": [
    {
     "name": "stderr",
     "output_type": "stream",
     "text": [
      "100%|██████████| 120873/120873 [00:08<00:00, 13696.57it/s]"
     ]
    },
    {
     "name": "stdout",
     "output_type": "stream",
     "text": [
      "Размер словаря: 91\n"
     ]
    },
    {
     "name": "stderr",
     "output_type": "stream",
     "text": [
      "\n"
     ]
    }
   ],
   "source": [
    "# Обработка и токенизация на уровне символов\n",
    "stop_chars = [\n",
    "    \"\\t\", \",\", \".\", \"!\", \"@\", \"'\", '\"', \";\", \"\\n\", \"(\", \")\",\n",
    "    \"[\", \"]\", \"{\", \"}\", \"?\", \":\", \"-\", \"_\", \"+\", \"=\", \"^\", \"*\", \n",
    "    \"&\", \"`\", \"~\"\n",
    "]\n",
    "\n",
    "chars = Counter()\n",
    "\n",
    "for sentence in tqdm(sentences):\n",
    "    for char in sentence:\n",
    "        if char in stop_chars:\n",
    "            continue\n",
    "        chars[char] += 1\n",
    "        \n",
    "vocab = set(['<unk>', '<bos>', '<eos>', '<pad>'])\n",
    "counter_threshold = 500\n",
    "\n",
    "for char, cnt in chars.items():\n",
    "    if cnt > counter_threshold:\n",
    "        vocab.add(char)\n",
    "        \n",
    "print(\"Размер словаря:\", len(vocab))"
   ]
  },
  {
   "cell_type": "code",
   "execution_count": 6,
   "metadata": {
    "execution": {
     "iopub.execute_input": "2024-05-27T05:40:25.656357Z",
     "iopub.status.busy": "2024-05-27T05:40:25.656075Z",
     "iopub.status.idle": "2024-05-27T05:40:25.661202Z",
     "shell.execute_reply": "2024-05-27T05:40:25.660198Z",
     "shell.execute_reply.started": "2024-05-27T05:40:25.656334Z"
    },
    "trusted": true
   },
   "outputs": [],
   "source": [
    "char2ind = {char: i for i, char in enumerate(vocab)}\n",
    "ind2char = {i: char for char, i in char2ind.items()}"
   ]
  },
  {
   "cell_type": "markdown",
   "metadata": {},
   "source": [
    "### 🧪 Подготовка данных для обучения RNN: от текста к тензорам\n",
    "\n",
    "<details> \n",
    "    <summary><em><strong>от текста к тензорам 👈</strong></em></summary>\n",
    "\n",
    "Теперь, когда у нас есть **словарь символов**, мы можем перейти к следующему этапу — подготовке данных для обучения рекуррентной нейронной сети (RNN). Этот этап преобразует \"сырой\" текст в последовательности чисел, а затем — в тензоры, с которыми работает модель.\n",
    "\n",
    "#### 📦 1. Создание специализированного датасета (`CharDataset`)\n",
    "\n",
    "```python\n",
    "class CharDataset:\n",
    "    # ... код класса ...\n",
    "```\n",
    "\n",
    "Для удобства работы с данными мы создаём собственный класс `CharDataset`, который:\n",
    "\n",
    "- ✅ Хранит список предложений и предоставляет к ним доступ по индексу\n",
    "- ✅ Токенизирует текст \"на лету\", используя наш словарь\n",
    "- ✅ Добавляет специальные токены `<bos>` в начало и `<eos>` в конец каждого предложения\n",
    "- ✅ Заменяет неизвестные символы на `<unk>`, чтобы избежать ошибок\n",
    "\n",
    "Когда вы вызываете `dataset[i]`, метод `__getitem__` возвращает **последовательность числовых индексов**, соответствующих символам предложения. Это первый шаг к тому, чтобы данные стали \"понятны\" нейросети.\n",
    "\n",
    "#### 🔄 2. Упаковка данных в батчи с выравниванием (`collate_fn_with_padding`)\n",
    "\n",
    "```python\n",
    "def collate_fn_with_padding(input_batch, pad_id=char2ind['<pad>']):\n",
    "    # ... код функции ...\n",
    "```\n",
    "\n",
    "Поскольку предложения имеют разную длину, нам нужно их **выравнивать** внутри батча. Для этого используется функция `collate_fn_with_padding`, которая:\n",
    "\n",
    "- 🔁 Определяет максимальную длину последовательности в текущем батче\n",
    "- ⬛ Добавляет паддинг-токены `<pad>` ко всем коротким последовательностям\n",
    "- 🧮 Преобразует списки в тензоры PyTorch\n",
    "- 🎯 Формирует пары `(input_ids, target_ids)` для обучения языковой модели\n",
    "\n",
    "##### Пример вход-выход:\n",
    "Если исходное предложение:  \n",
    "`<bos>привет<eos>`\n",
    "\n",
    "Тогда:\n",
    "- `input_ids`: `[<bos>, п, р, и, в, е]`\n",
    "- `target_ids`: `[п, р, и, в, е, т]`\n",
    "\n",
    "Модель учится предсказывать **следующий символ** на основе всех предыдущих. Именно так реализуется задача языкового моделирования на уровне символов.\n",
    "\n",
    "#### 🚀 3. Создание загрузчиков данных\n",
    "\n",
    "```python\n",
    "# Разделение данных на обучающую и тестовую выборки\n",
    "train_sentences, eval_sentences = train_test_split(sentences, test_size=0.2)\n",
    "\n",
    "# Создание датасетов и загрузчиков данных\n",
    "train_dataset = CharDataset(train_sentences)\n",
    "eval_dataset = CharDataset(eval_sentences)\n",
    "\n",
    "train_dataloader = DataLoader(\n",
    "    train_dataset, \n",
    "    collate_fn=collate_fn_with_padding, \n",
    "    batch_size=256\n",
    ")\n",
    "\n",
    "eval_dataloader = DataLoader(\n",
    "    eval_dataset, \n",
    "    collate_fn=collate_fn_with_padding, \n",
    "    batch_size=256\n",
    ")\n",
    "```\n",
    "\n",
    "На этом этапе мы:\n",
    "\n",
    "1. 📊 Делим данные на обучающую (80%) и валидационную (20%) выборки\n",
    "2. 📚 Создаем экземпляры `CharDataset` для каждой выборки\n",
    "3. 🚣‍♂️ Инициализируем `DataLoader`'ы, которые:\n",
    "   - 📦 Формируют батчи размером 256 предложений\n",
    "   - 🔀 Перемешивают данные между эпохами\n",
    "   - 📐 Применяют функцию `collate_fn_with_padding` для обработки батча\n",
    "   - 📈 Автоматически преобразуют данные в тензоры PyTorch\n",
    "\n",
    "Эти загрузчики обеспечивают **эффективную подачу данных** в модель во время обучения и оценки.\n",
    "\n",
    "#### 🧠 Важно запомнить\n",
    "\n",
    "Весь процесс подготовки данных можно представить как конвейер:\n",
    "\n",
    "**Текст → Символы → Токены → Индексы → Тензоры**\n",
    "\n",
    "Эта цепочка позволяет модели эффективно учиться на текстовых данных любого объёма и структуры. Особенно важно то, что вся логика токенизации и выравнивания скрыта внутри датасета и функции `collate_fn`, что делает обучение чистым, модульным и масштабируемым.\n",
    "\n",
    "</details> "
   ]
  },
  {
   "cell_type": "markdown",
   "metadata": {},
   "source": [
    "Определим класс CharDataset для последующей загрузки его в dataloader"
   ]
  },
  {
   "cell_type": "code",
   "execution_count": null,
   "metadata": {
    "execution": {
     "iopub.execute_input": "2024-05-27T05:40:25.662793Z",
     "iopub.status.busy": "2024-05-27T05:40:25.662460Z",
     "iopub.status.idle": "2024-05-27T05:40:25.673549Z",
     "shell.execute_reply": "2024-05-27T05:40:25.672810Z",
     "shell.execute_reply.started": "2024-05-27T05:40:25.662764Z"
    },
    "trusted": true
   },
   "outputs": [],
   "source": [
    "class CharDataset:\n",
    "    \"\"\"\n",
    "    Description:\n",
    "    ---------------\n",
    "        Датасет для работы с посимвольной токенизацией текста.\n",
    "\n",
    "    Args:\n",
    "    ---------------\n",
    "        sentences: Список предложений для обработки\n",
    "\n",
    "    Examples:\n",
    "    ---------------\n",
    "        >>> dataset = CharDataset(sentences)\n",
    "        >>> sample = dataset[0]\n",
    "        >>> len(sample)\n",
    "        # Длина токенизированного предложения\n",
    "    \"\"\"\n",
    "    def __init__(self, sentences: List[str]) -> None:\n",
    "        self.data = sentences\n",
    "        self.unk_id = char2ind['<unk>']\n",
    "        self.bos_id = char2ind['<bos>']\n",
    "        self.eos_id = char2ind['<eos>']\n",
    "        self.pad_id = char2ind['<pad>']\n",
    "\n",
    "    def __getitem__(self, idx: int) -> List[int]:\n",
    "        \"\"\"\n",
    "        Description:\n",
    "        ---------------\n",
    "            Преобразует предложение в последовательность индексов символов.\n",
    "\n",
    "        Args:\n",
    "        ---------------\n",
    "            idx: Индекс предложения в датасете\n",
    "\n",
    "        Returns:\n",
    "        ---------------\n",
    "            List[int]: Токенизированное предложение как список индексов\n",
    "        \"\"\"\n",
    "        tokenized_sentence = [self.bos_id]\n",
    "        tokenized_sentence += [\n",
    "            char2ind.get(char, self.unk_id) for char in self.data[idx]\n",
    "        ]\n",
    "        tokenized_sentence += [self.eos_id]\n",
    "\n",
    "        return tokenized_sentence\n",
    "\n",
    "    def __len__(self) -> int:\n",
    "        \"\"\"\n",
    "        Description:\n",
    "        ---------------\n",
    "            Возвращает размер датасета.\n",
    "\n",
    "        Returns:\n",
    "        ---------------\n",
    "            int: Количество предложений в датасете\n",
    "        \"\"\"\n",
    "        return len(self.data)"
   ]
  },
  {
   "cell_type": "markdown",
   "metadata": {},
   "source": [
    "Определим функцию дополнения предложений до max_seq_len"
   ]
  },
  {
   "cell_type": "code",
   "execution_count": null,
   "metadata": {
    "execution": {
     "iopub.execute_input": "2024-05-27T05:40:25.675140Z",
     "iopub.status.busy": "2024-05-27T05:40:25.674669Z",
     "iopub.status.idle": "2024-05-27T05:40:25.687892Z",
     "shell.execute_reply": "2024-05-27T05:40:25.687011Z",
     "shell.execute_reply.started": "2024-05-27T05:40:25.675116Z"
    },
    "trusted": true
   },
   "outputs": [],
   "source": [
    "def collate_fn_with_padding(\n",
    "    input_batch: List[List[int]], \n",
    "    pad_id: int = char2ind['<pad>']\n",
    ") -> Dict[str, torch.Tensor]:\n",
    "    \"\"\"\n",
    "    Description:\n",
    "    ---------------\n",
    "        Функция для преобразования батча данных: добавляет паддинг и \n",
    "        создает тензоры ввода и целевых значений.\n",
    "\n",
    "    Args:\n",
    "    ---------------\n",
    "        input_batch: Пакет токенизированных предложений\n",
    "        pad_id: Идентификатор токена для заполнения (паддинга)\n",
    "\n",
    "    Returns:\n",
    "    ---------------\n",
    "        Dict[str, torch.Tensor]: Словарь с тензорами входных и целевых id\n",
    "    \"\"\"\n",
    "    seq_lens = [len(x) for x in input_batch]\n",
    "    max_seq_len = max(seq_lens)\n",
    "\n",
    "    new_batch = []\n",
    "    for sequence in input_batch:\n",
    "        for _ in range(max_seq_len - len(sequence)):\n",
    "            sequence.append(pad_id)\n",
    "        new_batch.append(sequence)\n",
    "\n",
    "    sequences = torch.LongTensor(new_batch).to(device)\n",
    "\n",
    "    new_batch = {\n",
    "        'input_ids': sequences[:, :-1],\n",
    "        'target_ids': sequences[:, 1:]\n",
    "    }\n",
    "\n",
    "    return new_batch"
   ]
  },
  {
   "cell_type": "markdown",
   "metadata": {},
   "source": [
    "Создадим dataloader для train и eval датасетов"
   ]
  },
  {
   "cell_type": "code",
   "execution_count": null,
   "metadata": {
    "execution": {
     "iopub.execute_input": "2024-05-27T05:40:25.690337Z",
     "iopub.status.busy": "2024-05-27T05:40:25.690068Z",
     "iopub.status.idle": "2024-05-27T05:40:25.737037Z",
     "shell.execute_reply": "2024-05-27T05:40:25.736209Z",
     "shell.execute_reply.started": "2024-05-27T05:40:25.690305Z"
    },
    "trusted": true
   },
   "outputs": [],
   "source": [
    "# Разделение данных на обучающую и тестовую выборки\n",
    "train_sentences, eval_sentences = train_test_split(\n",
    "    sentences, test_size=0.2\n",
    ")\n",
    "\n",
    "# Создание датасетов и загрузчиков данных\n",
    "train_dataset = CharDataset(train_sentences)\n",
    "eval_dataset = CharDataset(eval_sentences)\n",
    "\n",
    "train_dataloader = DataLoader(\n",
    "    train_dataset, \n",
    "    collate_fn=collate_fn_with_padding, \n",
    "    batch_size=256\n",
    ")\n",
    "\n",
    "eval_dataloader = DataLoader(\n",
    "    eval_dataset, \n",
    "    collate_fn=collate_fn_with_padding, \n",
    "    batch_size=256\n",
    ")"
   ]
  },
  {
   "cell_type": "markdown",
   "metadata": {},
   "source": [
    "### 🧠 Обучение рекуррентной нейронной сети: от теории к практике\n",
    "\n",
    "<details> \n",
    "    <summary><em><strong>от теории к практике 👈</strong></em></summary>\n",
    "\n",
    "Теперь, когда данные подготовлены, мы можем приступить к обучению модели. Этот этап — сердце всего процесса создания языковой модели: модель будет учиться предсказывать следующий символ на основе предыдущих.\n",
    "\n",
    "#### 🎯 Зачем мы это делаем?\n",
    "\n",
    "Цель обучения — научить модель **понимать** закономерности в последовательностях символов. Модель должна \"выучить\" не только грамматику и словарный запас, но и стилистику, частотные паттерны и даже логику построения предложений.\n",
    "\n",
    "#### 🚦 1. Функция `fit_epoch`: обучение на одной эпохе\n",
    "\n",
    "```python\n",
    "def fit_epoch(model, train_loader, criterion, optimizer):\n",
    "    # ... код ...\n",
    "```\n",
    "\n",
    "Эта функция реализует **один полный проход** через все данные обучающей выборки (эпоха). Вот основные шаги:\n",
    "\n",
    "1. **`model.train()`** — активируем режим обучения  \n",
    "   - Включаются такие механизмы, как Dropout или BatchNorm\n",
    "   - Включается вычисление градиентов\n",
    "\n",
    "2. **Обработка батч за батчем**  \n",
    "   - Данные разбиваются на порции для эффективного использования памяти\n",
    "\n",
    "3. **Для каждого батча:**\n",
    "   - ❌ `optimizer.zero_grad()` — очищаем старые градиенты\n",
    "   - 🔁 Прямое распространение (`model(input_ids)`) — получаем предсказания\n",
    "   - 📉 Вычисляем loss — сравниваем предсказания с реальными символами\n",
    "   - ⬅️ `loss.backward()` — вычисляем градиенты\n",
    "   - ✅ `optimizer.step()` — обновляем веса модели\n",
    "\n",
    "4. **Отслеживание метрик**\n",
    "   - Сохраняем значение loss\n",
    "   - Считаем перплексию: `torch.exp(loss)`  \n",
    "     Это стандартная метрика качества языковых моделей\n",
    "\n",
    "> 💡 **Перплексия (Perplexity)** — это мера \"неожиданности\" текста для модели:\n",
    "- Перплексия = 1 → модель идеально предсказывает следующий символ\n",
    "- Перплексия = 10 → модель в среднем рассматривает 10 возможных следующих символов\n",
    "- Чем ниже — тем лучше!\n",
    "\n",
    "#### 🔍 2. Функция `eval_epoch`: оценка на валидационной выборке\n",
    "\n",
    "```python\n",
    "def eval_epoch(model, val_loader, criterion):\n",
    "    # ... код ...\n",
    "```\n",
    "\n",
    "Функция `eval_epoch` проверяет, **насколько хорошо модель обобщает знания** на новых данных, которые она не видела при обучении.\n",
    "\n",
    "Основные особенности:\n",
    "- **`model.eval()`** — переходим в режим оценки:\n",
    "  - Отключается Dropout\n",
    "  - Не вычисляются градиенты\n",
    "- **Контекст `with torch.no_grad()`** — экономим память и повышаем производительность\n",
    "- **Вычисляем те же метрики**, что и при обучении — чтобы можно было сравнить результаты\n",
    "\n",
    "##### Почему важна валидация?\n",
    "- Позволяет **обнаружить переобучение** (когда модель \"зубрит\", а не \"понимает\")\n",
    "- Помогает выбрать **момент остановки** обучения\n",
    "- Указывает на **реальное качество модели**\n",
    "\n",
    "#### 🏋️‍♂️ 3. Функция `train`: полный цикл обучения\n",
    "\n",
    "```python\n",
    "def train(...):\n",
    "    # ... код ...\n",
    "```\n",
    "\n",
    "Это \"дирижёр\" всего процесса. Он координирует работу `fit_epoch` и `eval_epoch`, управляет оптимизатором и контролирует сохранение лучшей модели.\n",
    "\n",
    "Что происходит внутри:\n",
    "\n",
    "##### 🔧 Настройка инструментов обучения\n",
    "- Инициализация **оптимизатора** (`Adam`) — алгоритм обновления весов\n",
    "- Инициализация **функции потерь** (`CrossEntropyLoss`) — способ сравнения предсказаний и целевых значений\n",
    "- Указание `ignore_index=char2ind['<pad>']` — игнорируем лишние паддинги при обучении\n",
    "\n",
    "##### 🛑 Early Stopping\n",
    "- Отслеживаем **лучшую модель** по минимальной перплексии\n",
    "- Сохраняем **веса лучшей модели**\n",
    "- Прерываем обучение, если улучшений нет долгое время\n",
    "\n",
    "##### 📈 Логирование и визуализация\n",
    "- Сохраняем историю метрик\n",
    "- Используем `tqdm` для красивого прогресс-бара\n",
    "- Выводим понятную таблицу результатов после каждой эпохи\n",
    "\n",
    "#### 🔄 Как всё работает вместе?\n",
    "\n",
    "Процесс обучения строится как цикл:\n",
    "\n",
    "```\n",
    "ПОКА НЕ ДОСТИГНУТО УСЛОВИЕ ОСТАНОВКИ:\n",
    "    1. Пройти по всем данным (одна эпоха)\n",
    "    2. Обновить веса модели\n",
    "    3. Протестировать на валидации\n",
    "    4. Если результат лучше — сохранить модель\n",
    "```\n",
    "\n",
    "По завершении обучения загружается **лучшая версия модели**, найденная за весь процесс.\n",
    "\n",
    "#### 🧮 Итак, что мы измеряем?\n",
    "\n",
    "| Метрика       | Что показывает                              | Интерпретация                        |\n",
    "|---------------|----------------------------------------------|---------------------------------------|\n",
    "| Loss          | Средняя величина ошибки                      | Меньше — лучше                         |\n",
    "| Perplexity    | Экспонента от loss                           | Ближе к 1 — лучше                      |\n",
    "\n",
    "Модель стремится минимизировать loss и, соответственно, перплексию — это и есть **обучение**.\n",
    "\n",
    "#### 📦 Подводя итог\n",
    "\n",
    "Весь процесс обучения можно представить как:\n",
    "\n",
    "**Данные → Прогноз → Ошибка → Обновление → Лучший прогноз**\n",
    "\n",
    "Модель учится \"предугадывать\" следующий символ, опираясь на предыдущие. Так, шаг за шагом, она осваивает язык и становится способной не только воспроизводить, но и **генерировать** текст.\n",
    "\n",
    "</details> "
   ]
  },
  {
   "cell_type": "markdown",
   "metadata": {},
   "source": [
    "### Train loop"
   ]
  },
  {
   "cell_type": "code",
   "execution_count": null,
   "metadata": {
    "execution": {
     "iopub.execute_input": "2024-05-27T05:40:25.741321Z",
     "iopub.status.busy": "2024-05-27T05:40:25.741078Z",
     "iopub.status.idle": "2024-05-27T05:40:25.748097Z",
     "shell.execute_reply": "2024-05-27T05:40:25.747272Z",
     "shell.execute_reply.started": "2024-05-27T05:40:25.741300Z"
    },
    "trusted": true
   },
   "outputs": [],
   "source": [
    "def fit_epoch(\n",
    "    model: nn.Module, \n",
    "    train_loader: DataLoader, \n",
    "    criterion: nn.Module, \n",
    "    optimizer: torch.optim.Optimizer, \n",
    "    sheduler: Optional[torch.optim.lr_scheduler._LRScheduler] = None\n",
    ") -> Tuple[float, float]:\n",
    "    \"\"\"\n",
    "    Description:\n",
    "    ---------------\n",
    "        Выполняет одну эпоху обучения модели.\n",
    "\n",
    "    Args:\n",
    "    ---------------\n",
    "        model: Модель для обучения\n",
    "        train_loader: Загрузчик обучающих данных\n",
    "        criterion: Функция потерь\n",
    "        optimizer: Оптимизатор\n",
    "        sheduler: Планировщик скорости обучения (опционально)\n",
    "\n",
    "    Returns:\n",
    "    ---------------\n",
    "        Tuple[float, float]: Перплексия и значение функции потерь\n",
    "    \"\"\"\n",
    "    model.train()\n",
    "    running_loss = 0.0\n",
    "    running_corrects = 0\n",
    "    processed_data = 0\n",
    "    losses = []\n",
    "    perplexity = []\n",
    "    \n",
    "    for batch in train_loader:\n",
    "        optimizer.zero_grad()\n",
    "\n",
    "        # Распространение прямое и обратное\n",
    "        logits = model(batch['input_ids']).flatten(start_dim=0, end_dim=1)\n",
    "        loss = criterion(\n",
    "            logits, batch['target_ids'].flatten()\n",
    "        )\n",
    "        loss.backward()\n",
    "        optimizer.step()\n",
    "        \n",
    "        # Сохранение метрик\n",
    "        perplexity.append(torch.exp(loss).item())\n",
    "        losses.append(loss.item())\n",
    "        \n",
    "    # Расчет средних значений метрик\n",
    "    perplexity_avg = sum(perplexity) / len(perplexity)\n",
    "    losses_avg = sum(losses) / len(losses)    \n",
    "    \n",
    "    return perplexity_avg, losses_avg"
   ]
  },
  {
   "cell_type": "code",
   "execution_count": null,
   "metadata": {
    "execution": {
     "iopub.execute_input": "2024-05-27T05:40:25.749505Z",
     "iopub.status.busy": "2024-05-27T05:40:25.749186Z",
     "iopub.status.idle": "2024-05-27T05:40:25.762628Z",
     "shell.execute_reply": "2024-05-27T05:40:25.761796Z",
     "shell.execute_reply.started": "2024-05-27T05:40:25.749477Z"
    },
    "trusted": true
   },
   "outputs": [],
   "source": [
    "def eval_epoch(\n",
    "    model: nn.Module, \n",
    "    val_loader: DataLoader, \n",
    "    criterion: nn.Module\n",
    ") -> Tuple[float, float]:\n",
    "    \"\"\"\n",
    "    Description:\n",
    "    ---------------\n",
    "        Оценивает модель на валидационном наборе данных.\n",
    "\n",
    "    Args:\n",
    "    ---------------\n",
    "        model: Модель для оценки\n",
    "        val_loader: Загрузчик валидационных данных\n",
    "        criterion: Функция потерь\n",
    "\n",
    "    Returns:\n",
    "    ---------------\n",
    "        Tuple[float, float]: Перплексия и значение функции потерь\n",
    "    \"\"\"\n",
    "    model.eval()\n",
    "    perplexity = []\n",
    "    losses = []\n",
    "    \n",
    "    with torch.no_grad():\n",
    "        for batch in val_loader:\n",
    "            logits = model(batch['input_ids']).flatten(start_dim=0, end_dim=1)\n",
    "            loss = criterion(\n",
    "                logits,\n",
    "                batch['target_ids'].flatten()\n",
    "            )\n",
    "            perplexity.append(torch.exp(loss).item())\n",
    "            losses.append(loss.item())\n",
    "\n",
    "    # Расчет средних значений метрик\n",
    "    perplexity_avg = sum(perplexity) / len(perplexity)\n",
    "    losses_avg = sum(losses) / len(losses)\n",
    "    \n",
    "    return perplexity_avg, losses_avg"
   ]
  },
  {
   "cell_type": "code",
   "execution_count": null,
   "metadata": {
    "execution": {
     "iopub.execute_input": "2024-05-27T06:03:44.425629Z",
     "iopub.status.busy": "2024-05-27T06:03:44.425275Z",
     "iopub.status.idle": "2024-05-27T06:03:44.435257Z",
     "shell.execute_reply": "2024-05-27T06:03:44.434467Z",
     "shell.execute_reply.started": "2024-05-27T06:03:44.425604Z"
    },
    "trusted": true
   },
   "outputs": [],
   "source": [
    "def train(\n",
    "    train_dataloader: DataLoader, \n",
    "    eval_dataloader: DataLoader, \n",
    "    model: nn.Module, \n",
    "    epochs: int, \n",
    "    ignore_index: int = char2ind['<pad>'],\n",
    "    optimizer: Optional[torch.optim.Optimizer] = None, \n",
    "    criterion: Optional[nn.Module] = None, \n",
    "    sheduler: Optional[torch.optim.lr_scheduler._LRScheduler] = None\n",
    ") -> Tuple[nn.Module, List[Tuple[float, float, float, float]]]:\n",
    "    \"\"\"\n",
    "    Description:\n",
    "    ---------------\n",
    "        Обучает модель на заданном количестве эпох.\n",
    "\n",
    "    Args:\n",
    "    ---------------\n",
    "        train_dataloader: Загрузчик обучающих данных\n",
    "        eval_dataloader: Загрузчик валидационных данных\n",
    "        model: Модель для обучения\n",
    "        epochs: Количество эпох обучения\n",
    "        ignore_index: Индекс токена, который не учитывается в функции потерь\n",
    "        optimizer: Оптимизатор (по умолчанию Adam)\n",
    "        criterion: Функция потерь (по умолчанию CrossEntropyLoss)\n",
    "        sheduler: Планировщик скорости обучения (опционально)\n",
    "\n",
    "    Returns:\n",
    "    ---------------\n",
    "        Tuple[nn.Module, List[Tuple[float, float, float, float]]]: \n",
    "            Обученная модель и история обучения\n",
    "    \"\"\"\n",
    "    # Инициализация оптимизатора и функции потерь, если не указаны\n",
    "    if optimizer is None:\n",
    "      optimizer = torch.optim.Adam(model.parameters())\n",
    "\n",
    "    if criterion is None:\n",
    "      criterion = nn.CrossEntropyLoss(ignore_index=ignore_index)\n",
    "\n",
    "    # Сохранение лучших весов модели\n",
    "    best_model_wts = model.state_dict()\n",
    "    best_perplexity = 10e10\n",
    "\n",
    "    # История обучения\n",
    "    history = []\n",
    "    log_template = \"\\nEpoch {ep:03d} train_loss: {t_loss:0.4f} \\\n",
    "    val_loss {v_loss:0.4f} train_perplexirty {t_acc:0.4f} val_perplexirty {v_acc:0.4f}\"\n",
    "\n",
    "    with tqdm(desc=\"epoch\", total=epochs) as pbar_outer:\n",
    "        for epoch in range(epochs):\n",
    "            # Обучение на одной эпохе\n",
    "            train_perplexirty, train_loss = fit_epoch(\n",
    "                model, train_dataloader, criterion, optimizer\n",
    "            )\n",
    "            \n",
    "            # Валидация модели\n",
    "            val_perplexirty, val_loss = eval_epoch(\n",
    "                model, eval_dataloader, criterion\n",
    "            )\n",
    "            \n",
    "            # Сохранение метрик\n",
    "            history.append((train_loss, train_perplexirty, val_loss, val_perplexirty))\n",
    "            \n",
    "            # Сохранение лучшей модели\n",
    "            if val_perplexirty < best_perplexity:\n",
    "                best_perplexity = val_perplexirty\n",
    "                best_model_wts = model.state_dict()\n",
    "\n",
    "            # Обновление прогресс-бара и вывод результатов\n",
    "            pbar_outer.update(1)\n",
    "            tqdm.write(log_template.format(\n",
    "                ep=epoch+1, \n",
    "                t_loss=train_loss,\n",
    "                v_loss=val_loss, \n",
    "                t_acc=train_perplexirty, \n",
    "                v_acc=val_perplexirty\n",
    "            ))\n",
    "\n",
    "    print('Best val perplexirty: {:4f}'.format(best_perplexity))\n",
    "    \n",
    "    # Загрузка лучших весов\n",
    "    model.load_state_dict(best_model_wts)\n",
    "\n",
    "    return model, history"
   ]
  },
  {
   "cell_type": "markdown",
   "metadata": {},
   "source": [
    "### 🧠 Архитектура языковой модели: Simple RNN на базе GRU\n",
    "\n",
    "<details> \n",
    "    <summary><em><strong>Simple RNN 👈</strong></em></summary>\n",
    "\n",
    "Теперь давайте посмотрим на **архитектуру нашей языковой модели**. Мы будем использовать рекуррентную нейронную сеть (RNN), а точнее её современную реализацию — **GRU (Gated Recurrent Unit)**. Это позволяет модели эффективно работать с последовательностями и \"запоминать\" контекст.\n",
    "\n",
    "#### 🔨 Основной класс модели `CharLM`\n",
    "\n",
    "```python\n",
    "class CharLM(nn.Module):\n",
    "    # ... код класса ...\n",
    "```\n",
    "\n",
    "Это наша модель для **посимвольного языкового моделирования**. Она состоит из нескольких ключевых слоёв:\n",
    "\n",
    "---\n",
    "\n",
    "#### 1. Слой эмбеддингов (`self.embedding`)\n",
    "\n",
    "```python\n",
    "self.embedding = nn.Embedding(vocab_size, hidden_dim)\n",
    "```\n",
    "\n",
    "- **Что делает**: преобразует индексы символов в плотные векторы (эмбеддинги)\n",
    "- **Зачем нужно**: позволяет модели работать с символами как с числами в многомерном пространстве, где семантически близкие символы будут расположены рядом\n",
    "- **Вход/Выход**:\n",
    "  - Вход: `[batch_size, seq_len]`\n",
    "  - Выход: `[batch_size, seq_len, hidden_dim]`\n",
    "\n",
    "---\n",
    "\n",
    "#### 2. Рекуррентный слой GRU (`self.rnn`)\n",
    "\n",
    "```python\n",
    "self.rnn = nn.GRU(hidden_dim, hidden_dim, batch_first=True)\n",
    "```\n",
    "\n",
    "- **Что делает**: обрабатывает последовательности, сохраняя информацию о предыдущих символах\n",
    "- **Как работает**:\n",
    "  - Использует **update gate** и **reset gate**, чтобы контролировать поток информации\n",
    "  - Может запоминать зависимости на длинных последовательностях\n",
    "- **Преимущества над обычным RNN**:\n",
    "  - Лучше справляется с проблемой исчезающих градиентов\n",
    "  - Более устойчив к долгосрочным зависимостям\n",
    "- **Параметр `batch_first=True`**: говорит PyTorch, что первый размер — это размер батча\n",
    "\n",
    "---\n",
    "\n",
    "#### 3. Дополнительные слои обработки\n",
    "\n",
    "```python\n",
    "self.linear = nn.Linear(hidden_dim, hidden_dim)\n",
    "self.non_lin = nn.Tanh()\n",
    "self.dropout = nn.Dropout(p=0.1)\n",
    "```\n",
    "\n",
    "- **Линейный слой (`linear`)**: тонкая настройка скрытых представлений\n",
    "- **Нелинейность (`Tanh`)**: добавляет нелинейность в модель, увеличивая её выразительность\n",
    "- **Dropout (`p=0.1`)**: уменьшает переобучение, случайно \"отключая\" часть нейронов во время обучения\n",
    "\n",
    "---\n",
    "\n",
    "#### 4. Проекционный слой (`self.projection`)\n",
    "\n",
    "```python\n",
    "self.projection = nn.Linear(hidden_dim, vocab_size)\n",
    "```\n",
    "\n",
    "- **Что делает**: преобразует скрытое состояние сети в логиты — значения, из которых затем строится распределение вероятностей по всем символам словаря\n",
    "- **Размерность выхода**: `[batch_size, seq_len, vocab_size]`\n",
    "- **Итог**: для каждой позиции в последовательности мы получаем вероятности всех возможных следующих символов\n",
    "\n",
    "---\n",
    "\n",
    "#### 🔄 Прямой проход (`forward`)\n",
    "\n",
    "Метод `forward` определяет, как данные проходят через модель:\n",
    "\n",
    "1. **Эмбеддинги**: индексы превращаются в векторы\n",
    "2. **GRU**: обработка последовательности с учётом контекста\n",
    "3. **Дополнительная обработка**: линейное преобразование + Tanh + Dropout\n",
    "4. **Проекция**: получаем логиты — ненормированные вероятности следующего символа\n",
    "\n",
    "---\n",
    "\n",
    "#### 💡 Почему именно такая архитектура?\n",
    "\n",
    "Эта модель представляет собой **классический пример рекуррентной сети для языкового моделирования**. Вот почему она работает хорошо:\n",
    "\n",
    "| Компонент      | Зачем он нужен |\n",
    "|----------------|----------------|\n",
    "| GRU            | хорошо работает с последовательностями, запоминает контекст |\n",
    "| Эмбеддинги     | представляют символы в числовом виде |\n",
    "| Dropout        | защищает от переобучения |\n",
    "| Дополнительные слои | увеличивают выразительность модели |\n",
    "| Размерность 256 | баланс между скоростью и качеством |\n",
    "\n",
    "---\n",
    "\n",
    "#### 📦 Что получаем в итоге?\n",
    "\n",
    "Модель, которая:\n",
    "- ✅ Может обучаться на больших объёмах текста\n",
    "- ✅ Улавливает закономерности на уровне символов\n",
    "- ✅ Генерирует текст, напоминающий обучающие данные\n",
    "- ✅ Имеет около **296 тысяч параметров** — достаточно компактна, но при этом эффективна\n",
    "\n",
    "---\n",
    "\n",
    "#### 🧩 На заметку\n",
    "\n",
    "Хотя современные модели (например, Transformer) значительно превосходят RNN по качеству, понимание работы рекуррентных сетей остаётся важным этапом в освоении NLP. GRU — отличная отправная точка для изучения последовательного моделирования.\n",
    "\n",
    "</details>"
   ]
  },
  {
   "cell_type": "markdown",
   "metadata": {},
   "source": [
    "### Main model"
   ]
  },
  {
   "cell_type": "code",
   "execution_count": null,
   "metadata": {
    "execution": {
     "iopub.execute_input": "2024-05-27T05:40:25.775729Z",
     "iopub.status.busy": "2024-05-27T05:40:25.775183Z",
     "iopub.status.idle": "2024-05-27T05:40:25.787055Z",
     "shell.execute_reply": "2024-05-27T05:40:25.786227Z",
     "shell.execute_reply.started": "2024-05-27T05:40:25.775700Z"
    },
    "trusted": true
   },
   "outputs": [],
   "source": [
    "class CharLM(nn.Module):\n",
    "    \"\"\"\n",
    "    Description:\n",
    "    ---------------\n",
    "        Модель языковой модели на базе GRU для посимвольной генерации.\n",
    "\n",
    "    Args:\n",
    "    ---------------\n",
    "        hidden_dim: Размерность скрытого состояния\n",
    "        vocab_size: Размер словаря\n",
    "\n",
    "    Examples:\n",
    "    ---------------\n",
    "        >>> model = CharLM(hidden_dim=256, vocab_size=1000)\n",
    "        >>> input_tensor = torch.LongTensor([[1, 2, 3, 4]])\n",
    "        >>> output = model(input_tensor)\n",
    "        >>> output.shape\n",
    "        torch.Size([1, 4, 1000])\n",
    "    \"\"\"\n",
    "    def __init__(self, hidden_dim: int, vocab_size: int) -> None:\n",
    "        super().__init__()\n",
    "        self.embedding = nn.Embedding(vocab_size, hidden_dim)\n",
    "        self.rnn = nn.GRU(hidden_dim, hidden_dim, batch_first=True)\n",
    "        self.linear = nn.Linear(hidden_dim, hidden_dim)\n",
    "        self.projection = nn.Linear(hidden_dim, vocab_size)\n",
    "\n",
    "        self.non_lin = nn.Tanh()\n",
    "        self.dropout = nn.Dropout(p=0.1)\n",
    "\n",
    "    def forward(self, input_batch: torch.Tensor) -> torch.Tensor:\n",
    "        \"\"\"\n",
    "        Description:\n",
    "        ---------------\n",
    "            Прямой проход модели.\n",
    "\n",
    "        Args:\n",
    "        ---------------\n",
    "            input_batch: Тензор с индексами входных символов\n",
    "\n",
    "        Returns:\n",
    "        ---------------\n",
    "            torch.Tensor: Предсказанные логиты для каждого символа\n",
    "        \"\"\"\n",
    "        # Преобразование индексов в эмбеддинги\n",
    "        embeddings = self.embedding(input_batch)  # [batch_size, seq_len, hidden_dim]\n",
    "        \n",
    "        # Пропуск через рекуррентный слой\n",
    "        output, _ = self.rnn(embeddings)  # [batch_size, seq_len, hidden_dim]\n",
    "        \n",
    "        # Дополнительные слои\n",
    "        output = self.dropout(\n",
    "            self.linear(self.non_lin(output))\n",
    "        )  # [batch_size, seq_len, hidden_dim]\n",
    "        \n",
    "        # Проекция на размер словаря\n",
    "        projection = self.projection(\n",
    "            self.non_lin(output)\n",
    "        )  # [batch_size, seq_len, vocab_size]\n",
    "\n",
    "        return projection"
   ]
  },
  {
   "cell_type": "code",
   "execution_count": null,
   "metadata": {
    "execution": {
     "iopub.execute_input": "2024-05-27T05:40:25.788353Z",
     "iopub.status.busy": "2024-05-27T05:40:25.788043Z",
     "iopub.status.idle": "2024-05-27T05:40:26.096926Z",
     "shell.execute_reply": "2024-05-27T05:40:26.096019Z",
     "shell.execute_reply.started": "2024-05-27T05:40:25.788324Z"
    },
    "trusted": true
   },
   "outputs": [
    {
     "name": "stdout",
     "output_type": "stream",
     "text": [
      "CharLM(\n",
      "  (embedding): Embedding(91, 256)\n",
      "  (rnn): GRU(256, 256, batch_first=True)\n",
      "  (linear): Linear(in_features=256, out_features=256, bias=True)\n",
      "  (projection): Linear(in_features=256, out_features=91, bias=True)\n",
      "  (non_lin): Tanh()\n",
      "  (dropout): Dropout(p=0.1, inplace=False)\n",
      ")\n",
      "Number of model parameters: 507,227\n"
     ]
    }
   ],
   "source": [
    "# Инициализация и обучение модели на посимвольных данных\n",
    "model = CharLM(hidden_dim=256, vocab_size=len(vocab)).to(device)\n",
    "\n",
    "num_params = sum(p.numel() for p in model.parameters())\n",
    "print(model)\n",
    "print(f\"Number of model parameters: {num_params:,}\")"
   ]
  },
  {
   "cell_type": "code",
   "execution_count": 15,
   "metadata": {
    "execution": {
     "iopub.execute_input": "2024-05-27T05:40:26.098340Z",
     "iopub.status.busy": "2024-05-27T05:40:26.098023Z",
     "iopub.status.idle": "2024-05-27T05:46:10.423963Z",
     "shell.execute_reply": "2024-05-27T05:46:10.423024Z",
     "shell.execute_reply.started": "2024-05-27T05:40:26.098307Z"
    },
    "trusted": true
   },
   "outputs": [
    {
     "name": "stderr",
     "output_type": "stream",
     "text": [
      "epoch:  10%|█         | 1/10 [00:35<05:15, 35.02s/it]"
     ]
    },
    {
     "name": "stdout",
     "output_type": "stream",
     "text": [
      "\n",
      "Epoch 001 train_loss: 2.1936     val_loss 1.7596 train_perplexirty 10.3569 val_perplexirty 5.8121\n"
     ]
    },
    {
     "name": "stderr",
     "output_type": "stream",
     "text": [
      "epoch:  20%|██        | 2/10 [01:09<04:36, 34.51s/it]"
     ]
    },
    {
     "name": "stdout",
     "output_type": "stream",
     "text": [
      "\n",
      "Epoch 002 train_loss: 1.6882     val_loss 1.6169 train_perplexirty 5.4163 val_perplexirty 5.0392\n"
     ]
    },
    {
     "name": "stderr",
     "output_type": "stream",
     "text": [
      "epoch:  30%|███       | 3/10 [01:43<04:00, 34.33s/it]"
     ]
    },
    {
     "name": "stdout",
     "output_type": "stream",
     "text": [
      "\n",
      "Epoch 003 train_loss: 1.5971     val_loss 1.5598 train_perplexirty 4.9411 val_perplexirty 4.7593\n"
     ]
    },
    {
     "name": "stderr",
     "output_type": "stream",
     "text": [
      "epoch:  40%|████      | 4/10 [02:17<03:25, 34.28s/it]"
     ]
    },
    {
     "name": "stdout",
     "output_type": "stream",
     "text": [
      "\n",
      "Epoch 004 train_loss: 1.5504     val_loss 1.5254 train_perplexirty 4.7150 val_perplexirty 4.5986\n"
     ]
    },
    {
     "name": "stderr",
     "output_type": "stream",
     "text": [
      "epoch:  50%|█████     | 5/10 [02:51<02:51, 34.25s/it]"
     ]
    },
    {
     "name": "stdout",
     "output_type": "stream",
     "text": [
      "\n",
      "Epoch 005 train_loss: 1.5201     val_loss 1.5022 train_perplexirty 4.5740 val_perplexirty 4.4928\n"
     ]
    },
    {
     "name": "stderr",
     "output_type": "stream",
     "text": [
      "epoch:  60%|██████    | 6/10 [03:25<02:16, 34.21s/it]"
     ]
    },
    {
     "name": "stdout",
     "output_type": "stream",
     "text": [
      "\n",
      "Epoch 006 train_loss: 1.4979     val_loss 1.4849 train_perplexirty 4.4738 val_perplexirty 4.4157\n"
     ]
    },
    {
     "name": "stderr",
     "output_type": "stream",
     "text": [
      "epoch:  70%|███████   | 7/10 [03:59<01:42, 34.19s/it]"
     ]
    },
    {
     "name": "stdout",
     "output_type": "stream",
     "text": [
      "\n",
      "Epoch 007 train_loss: 1.4810     val_loss 1.4726 train_perplexirty 4.3987 val_perplexirty 4.3619\n"
     ]
    },
    {
     "name": "stderr",
     "output_type": "stream",
     "text": [
      "epoch:  80%|████████  | 8/10 [04:34<01:08, 34.17s/it]"
     ]
    },
    {
     "name": "stdout",
     "output_type": "stream",
     "text": [
      "\n",
      "Epoch 008 train_loss: 1.4678     val_loss 1.4623 train_perplexirty 4.3410 val_perplexirty 4.3171\n"
     ]
    },
    {
     "name": "stderr",
     "output_type": "stream",
     "text": [
      "epoch:  90%|█████████ | 9/10 [05:08<00:34, 34.15s/it]"
     ]
    },
    {
     "name": "stdout",
     "output_type": "stream",
     "text": [
      "\n",
      "Epoch 009 train_loss: 1.4568     val_loss 1.4540 train_perplexirty 4.2933 val_perplexirty 4.2817\n"
     ]
    },
    {
     "name": "stderr",
     "output_type": "stream",
     "text": [
      "epoch: 100%|██████████| 10/10 [05:42<00:00, 34.24s/it]"
     ]
    },
    {
     "name": "stdout",
     "output_type": "stream",
     "text": [
      "\n",
      "Epoch 010 train_loss: 1.4475     val_loss 1.4468 train_perplexirty 4.2539 val_perplexirty 4.2509\n",
      "Best val perplexirty: 4.250897\n"
     ]
    },
    {
     "name": "stderr",
     "output_type": "stream",
     "text": [
      "\n"
     ]
    }
   ],
   "source": [
    "model, history = train(train_dataloader, eval_dataloader, model, 10)"
   ]
  },
  {
   "cell_type": "markdown",
   "metadata": {},
   "source": [
    "Функция для генерации последовательности"
   ]
  },
  {
   "cell_type": "code",
   "execution_count": null,
   "metadata": {
    "execution": {
     "iopub.execute_input": "2024-05-27T06:25:47.128970Z",
     "iopub.status.busy": "2024-05-27T06:25:47.128524Z",
     "iopub.status.idle": "2024-05-27T06:25:47.139599Z",
     "shell.execute_reply": "2024-05-27T06:25:47.138691Z",
     "shell.execute_reply.started": "2024-05-27T06:25:47.128898Z"
    },
    "trusted": true
   },
   "outputs": [],
   "source": [
    "def generate_sequence(\n",
    "    model: nn.Module, \n",
    "    dict_2ind: Dict[str, int], \n",
    "    ind2dict: Dict[int, str], \n",
    "    starting_seq: str, \n",
    "    max_seq_len: int = 256\n",
    ") -> str:\n",
    "    \"\"\"\n",
    "    Description:\n",
    "    ---------------\n",
    "        Генерирует текстовую последовательность, начиная с заданной.\n",
    "\n",
    "    Args:\n",
    "    ---------------\n",
    "        model: Обученная языковая модель\n",
    "        dict_2ind: Словарь для преобразования символов в индексы\n",
    "        ind2dict: Словарь для преобразования индексов в символы\n",
    "        starting_seq: Начальная последовательность\n",
    "        max_seq_len: Максимальная длина генерируемой последовательности\n",
    "\n",
    "    Returns:\n",
    "    ---------------\n",
    "        str: Сгенерированная последовательность\n",
    "\n",
    "    Examples:\n",
    "    ---------------\n",
    "        >>> result = generate_sequence(model, char2ind, ind2char, \"привет\")\n",
    "        >>> print(result)\n",
    "        'привет мир...'\n",
    "    \"\"\"\n",
    "    device = 'cpu'\n",
    "    model = model.to(device)\n",
    "    \n",
    "    # Преобразование начальной последовательности в индексы\n",
    "    input_ids = [dict_2ind['<bos>']] + [\n",
    "        dict_2ind.get(char, dict_2ind['<unk>']) for char in starting_seq\n",
    "    ]\n",
    "    input_ids = torch.LongTensor(input_ids).to(device)\n",
    "\n",
    "    model.eval()\n",
    "    with torch.no_grad():\n",
    "        for i in range(max_seq_len):\n",
    "            # Получение распределения вероятностей для следующего символа\n",
    "            next_char_distribution = model(input_ids.unsqueeze(0))\n",
    "            next_char_logits = next_char_distribution[0, -1, :]\n",
    "            next_char = next_char_logits.argmax()\n",
    "            \n",
    "            # Добавление предсказанного символа к входной последовательности\n",
    "            input_ids = torch.cat([input_ids, next_char.unsqueeze(0)])\n",
    "\n",
    "            # Завершение генерации при появлении токена конца последовательности\n",
    "            if next_char.item() == dict_2ind['<eos>']:\n",
    "                break\n",
    "\n",
    "    # Преобразование индексов обратно в символы\n",
    "    words = ' '.join([ind2dict[idx.item()] for idx in input_ids])\n",
    "\n",
    "    return words"
   ]
  },
  {
   "cell_type": "code",
   "execution_count": null,
   "metadata": {
    "execution": {
     "iopub.execute_input": "2024-05-27T05:51:29.083304Z",
     "iopub.status.busy": "2024-05-27T05:51:29.083040Z",
     "iopub.status.idle": "2024-05-27T05:51:30.700241Z",
     "shell.execute_reply": "2024-05-27T05:51:30.699340Z",
     "shell.execute_reply.started": "2024-05-27T05:51:29.083283Z"
    },
    "trusted": true
   },
   "outputs": [
    {
     "data": {
      "text/plain": [
       "'<bos>источник может быть производственные программирования и программирования программирования в программировании в программировании в программировании в программировании в программировании в программировании в программировании в программировании в программировании в пр'"
      ]
     },
     "execution_count": 19,
     "metadata": {},
     "output_type": "execute_result"
    }
   ],
   "source": [
    "# Генерация примера текста\n",
    "generate_sequence(model, char2ind, ind2char, starting_seq='источник ')"
   ]
  },
  {
   "cell_type": "markdown",
   "metadata": {},
   "source": [
    "### Токенизация по словам"
   ]
  },
  {
   "cell_type": "code",
   "execution_count": null,
   "metadata": {
    "execution": {
     "iopub.execute_input": "2024-05-27T05:51:58.951154Z",
     "iopub.status.busy": "2024-05-27T05:51:58.950765Z",
     "iopub.status.idle": "2024-05-27T05:51:59.208922Z",
     "shell.execute_reply": "2024-05-27T05:51:59.208008Z",
     "shell.execute_reply.started": "2024-05-27T05:51:58.951126Z"
    },
    "trusted": true
   },
   "outputs": [
    {
     "data": {
      "text/plain": [
       "1086"
      ]
     },
     "execution_count": 20,
     "metadata": {},
     "output_type": "execute_result"
    }
   ],
   "source": [
    "# Очистка памяти\n",
    "import gc\n",
    "torch.cuda.empty_cache()\n",
    "gc.collect()"
   ]
  },
  {
   "cell_type": "code",
   "execution_count": null,
   "metadata": {
    "execution": {
     "iopub.execute_input": "2024-05-27T05:52:00.823855Z",
     "iopub.status.busy": "2024-05-27T05:52:00.823499Z",
     "iopub.status.idle": "2024-05-27T05:52:40.365583Z",
     "shell.execute_reply": "2024-05-27T05:52:40.364736Z",
     "shell.execute_reply.started": "2024-05-27T05:52:00.823828Z"
    },
    "trusted": true
   },
   "outputs": [
    {
     "name": "stderr",
     "output_type": "stream",
     "text": [
      "100%|██████████| 3300/3300 [00:10<00:00, 319.10it/s]\n"
     ]
    },
    {
     "name": "stdout",
     "output_type": "stream",
     "text": [
      "Количество предложений 120873\n"
     ]
    },
    {
     "name": "stderr",
     "output_type": "stream",
     "text": [
      "100%|██████████| 120873/120873 [00:29<00:00, 4159.08it/s]\n"
     ]
    },
    {
     "name": "stdout",
     "output_type": "stream",
     "text": [
      "Всего слов в словаре: 40004\n"
     ]
    }
   ],
   "source": [
    "# Повторное извлечение предложений\n",
    "sentences = []\n",
    "\n",
    "for sentence in tqdm(df['body_text']):\n",
    "    sentences.extend(\n",
    "        [x.lower() for x in sent_tokenize(sentence, language='russian') if len(x) < 256]\n",
    "    )\n",
    "    \n",
    "print(\"Количество предложений\", len(sentences))\n",
    "\n",
    "# Обработка и токенизация на уровне слов\n",
    "words = Counter()\n",
    "\n",
    "for sentence in tqdm(sentences):\n",
    "    for word in nltk.word_tokenize(sentence):\n",
    "            words[word] += 1\n",
    "            \n",
    "vocab = set(['<unk>', '<bos>', '<eos>', '<pad>'])\n",
    "vocab_size = 40000\n",
    "\n",
    "for elem in words.most_common(vocab_size):\n",
    "    vocab.add(elem[0])\n",
    "    \n",
    "print(\"Всего слов в словаре:\", len(vocab))"
   ]
  },
  {
   "cell_type": "code",
   "execution_count": 22,
   "metadata": {
    "execution": {
     "iopub.execute_input": "2024-05-27T05:52:42.346792Z",
     "iopub.status.busy": "2024-05-27T05:52:42.345901Z",
     "iopub.status.idle": "2024-05-27T05:52:42.370966Z",
     "shell.execute_reply": "2024-05-27T05:52:42.370017Z",
     "shell.execute_reply.started": "2024-05-27T05:52:42.346761Z"
    },
    "trusted": true
   },
   "outputs": [],
   "source": [
    "word2ind = {char: i for i, char in enumerate(vocab)}\n",
    "ind2word = {i: char for char, i in word2ind.items()}"
   ]
  },
  {
   "cell_type": "code",
   "execution_count": null,
   "metadata": {
    "execution": {
     "iopub.execute_input": "2024-05-27T05:52:45.839241Z",
     "iopub.status.busy": "2024-05-27T05:52:45.838575Z",
     "iopub.status.idle": "2024-05-27T05:52:45.846300Z",
     "shell.execute_reply": "2024-05-27T05:52:45.845307Z",
     "shell.execute_reply.started": "2024-05-27T05:52:45.839207Z"
    },
    "trusted": true
   },
   "outputs": [],
   "source": [
    "class WordDataset:\n",
    "    \"\"\"\n",
    "    Description:\n",
    "    ---------------\n",
    "        Датасет для работы с пословной токенизацией текста.\n",
    "\n",
    "    Args:\n",
    "    ---------------\n",
    "        sentences: Список предложений для обработки\n",
    "\n",
    "    Examples:\n",
    "    ---------------\n",
    "        >>> dataset = WordDataset(sentences)\n",
    "        >>> sample = dataset[0]\n",
    "        >>> len(sample)\n",
    "        # Длина токенизированного предложения\n",
    "    \"\"\"\n",
    "    def __init__(self, sentences: List[str]) -> None:\n",
    "        self.data = sentences\n",
    "        self.unk_id = word2ind['<unk>']\n",
    "        self.bos_id = word2ind['<bos>']\n",
    "        self.eos_id = word2ind['<eos>']\n",
    "        self.pad_id = word2ind['<pad>']\n",
    "\n",
    "    def __getitem__(self, idx: int) -> List[int]:\n",
    "        \"\"\"\n",
    "        Description:\n",
    "        ---------------\n",
    "            Преобразует предложение в последовательность индексов слов.\n",
    "\n",
    "        Args:\n",
    "        ---------------\n",
    "            idx: Индекс предложения в датасете\n",
    "\n",
    "        Returns:\n",
    "        ---------------\n",
    "            List[int]: Токенизированное предложение как список индексов\n",
    "        \"\"\"\n",
    "        tokenized_sentence = [self.bos_id]\n",
    "        tokenized_sentence += [\n",
    "            word2ind.get(word, self.unk_id) \n",
    "            for word in nltk.word_tokenize(self.data[idx])\n",
    "        ]\n",
    "        tokenized_sentence += [self.eos_id]\n",
    "        \n",
    "        return tokenized_sentence\n",
    "\n",
    "    def __len__(self) -> int:\n",
    "        \"\"\"\n",
    "        Description:\n",
    "        ---------------\n",
    "            Возвращает размер датасета.\n",
    "\n",
    "        Returns:\n",
    "        ---------------\n",
    "            int: Количество предложений в датасете\n",
    "        \"\"\"\n",
    "        return len(self.data)"
   ]
  },
  {
   "cell_type": "code",
   "execution_count": null,
   "metadata": {
    "execution": {
     "iopub.execute_input": "2024-05-27T05:56:30.942479Z",
     "iopub.status.busy": "2024-05-27T05:56:30.941687Z",
     "iopub.status.idle": "2024-05-27T05:56:30.948993Z",
     "shell.execute_reply": "2024-05-27T05:56:30.948104Z",
     "shell.execute_reply.started": "2024-05-27T05:56:30.942451Z"
    },
    "trusted": true
   },
   "outputs": [],
   "source": [
    "def collate_fn_with_padding(\n",
    "    input_batch: List[List[int]], \n",
    "    pad_id: int = word2ind['<pad>']\n",
    ") -> Dict[str, torch.Tensor]:\n",
    "    \"\"\"\n",
    "    Description:\n",
    "    ---------------\n",
    "        Функция для преобразования батча данных: добавляет паддинг и \n",
    "        создает тензоры ввода и целевых значений.\n",
    "\n",
    "    Args:\n",
    "    ---------------\n",
    "        input_batch: Пакет токенизированных предложений\n",
    "        pad_id: Идентификатор токена для заполнения (паддинга)\n",
    "\n",
    "    Returns:\n",
    "    ---------------\n",
    "        Dict[str, torch.Tensor]: Словарь с тензорами входных и целевых id\n",
    "    \"\"\"\n",
    "    seq_lens = [len(x) for x in input_batch]\n",
    "    max_seq_len = max(seq_lens)\n",
    "\n",
    "    new_batch = []\n",
    "    for sequence in input_batch:\n",
    "        for _ in range(max_seq_len - len(sequence)):\n",
    "            sequence.append(pad_id)\n",
    "        new_batch.append(sequence)\n",
    "\n",
    "    sequences = torch.LongTensor(new_batch).to(device)\n",
    "\n",
    "    new_batch = {\n",
    "        'input_ids': sequences[:, :-1],\n",
    "        'target_ids': sequences[:, 1:]\n",
    "    }\n",
    "\n",
    "    return new_batch"
   ]
  },
  {
   "cell_type": "code",
   "execution_count": null,
   "metadata": {
    "execution": {
     "iopub.execute_input": "2024-05-27T05:56:31.264119Z",
     "iopub.status.busy": "2024-05-27T05:56:31.263627Z",
     "iopub.status.idle": "2024-05-27T05:56:31.312778Z",
     "shell.execute_reply": "2024-05-27T05:56:31.311962Z",
     "shell.execute_reply.started": "2024-05-27T05:56:31.264093Z"
    },
    "trusted": true
   },
   "outputs": [],
   "source": [
    "# Разделение данных на обучающую и тестовую выборки\n",
    "train_sentences, eval_sentences = train_test_split(\n",
    "    sentences, test_size=0.2\n",
    ")\n",
    "\n",
    "# Создание датасетов и загрузчиков данных для словесной модели\n",
    "train_dataset = WordDataset(train_sentences)\n",
    "eval_dataset = WordDataset(eval_sentences)\n",
    "\n",
    "train_dataloader = DataLoader(\n",
    "    train_dataset, \n",
    "    collate_fn=collate_fn_with_padding, \n",
    "    batch_size=64\n",
    ")\n",
    "\n",
    "eval_dataloader = DataLoader(\n",
    "    eval_dataset, \n",
    "    collate_fn=collate_fn_with_padding, \n",
    "    batch_size=64\n",
    ")"
   ]
  },
  {
   "cell_type": "code",
   "execution_count": null,
   "metadata": {
    "execution": {
     "iopub.execute_input": "2024-05-27T05:56:56.908649Z",
     "iopub.status.busy": "2024-05-27T05:56:56.907809Z",
     "iopub.status.idle": "2024-05-27T05:56:57.171935Z",
     "shell.execute_reply": "2024-05-27T05:56:57.171022Z",
     "shell.execute_reply.started": "2024-05-27T05:56:56.908619Z"
    },
    "trusted": true
   },
   "outputs": [
    {
     "name": "stdout",
     "output_type": "stream",
     "text": [
      "CharLM(\n",
      "  (embedding): Embedding(40004, 256)\n",
      "  (rnn): GRU(256, 256, batch_first=True)\n",
      "  (linear): Linear(in_features=256, out_features=256, bias=True)\n",
      "  (projection): Linear(in_features=256, out_features=40004, bias=True)\n",
      "  (non_lin): Tanh()\n",
      "  (dropout): Dropout(p=0.1, inplace=False)\n",
      ")\n",
      "Number of model parameters: 20,982,596\n"
     ]
    }
   ],
   "source": [
    "# Инициализация и обучение модели на словесных данных\n",
    "model = CharLM(hidden_dim=256, vocab_size=len(vocab)).to(device)\n",
    "\n",
    "num_params = sum(p.numel() for p in model.parameters())\n",
    "print(model)\n",
    "print(f\"Number of model parameters: {num_params:,}\")"
   ]
  },
  {
   "cell_type": "code",
   "execution_count": null,
   "metadata": {
    "execution": {
     "iopub.execute_input": "2024-05-27T06:03:48.775286Z",
     "iopub.status.busy": "2024-05-27T06:03:48.774603Z",
     "iopub.status.idle": "2024-05-27T06:21:19.020363Z",
     "shell.execute_reply": "2024-05-27T06:21:19.019472Z",
     "shell.execute_reply.started": "2024-05-27T06:03:48.775254Z"
    },
    "trusted": true
   },
   "outputs": [
    {
     "name": "stderr",
     "output_type": "stream",
     "text": [
      "epoch:  10%|█         | 1/10 [01:45<15:45, 105.00s/it]"
     ]
    },
    {
     "name": "stdout",
     "output_type": "stream",
     "text": [
      "\n",
      "Epoch 001 train_loss: 4.8116     val_loss 5.2675 train_perplexirty 125.5927 val_perplexirty 198.0715\n"
     ]
    },
    {
     "name": "stderr",
     "output_type": "stream",
     "text": [
      "epoch:  20%|██        | 2/10 [03:30<14:00, 105.06s/it]"
     ]
    },
    {
     "name": "stdout",
     "output_type": "stream",
     "text": [
      "\n",
      "Epoch 002 train_loss: 4.4128     val_loss 5.2255 train_perplexirty 83.7987 val_perplexirty 190.3353\n"
     ]
    },
    {
     "name": "stderr",
     "output_type": "stream",
     "text": [
      "epoch:  30%|███       | 3/10 [05:15<12:16, 105.16s/it]"
     ]
    },
    {
     "name": "stdout",
     "output_type": "stream",
     "text": [
      "\n",
      "Epoch 003 train_loss: 4.1199     val_loss 5.2401 train_perplexirty 62.4511 val_perplexirty 193.5814\n"
     ]
    },
    {
     "name": "stderr",
     "output_type": "stream",
     "text": [
      "epoch:  40%|████      | 4/10 [07:00<10:30, 105.16s/it]"
     ]
    },
    {
     "name": "stdout",
     "output_type": "stream",
     "text": [
      "\n",
      "Epoch 004 train_loss: 3.8801     val_loss 5.2854 train_perplexirty 49.1157 val_perplexirty 203.0046\n"
     ]
    },
    {
     "name": "stderr",
     "output_type": "stream",
     "text": [
      "epoch:  50%|█████     | 5/10 [08:45<08:45, 105.08s/it]"
     ]
    },
    {
     "name": "stdout",
     "output_type": "stream",
     "text": [
      "\n",
      "Epoch 005 train_loss: 3.6778     val_loss 5.3549 train_perplexirty 40.0971 val_perplexirty 218.1294\n"
     ]
    },
    {
     "name": "stderr",
     "output_type": "stream",
     "text": [
      "epoch:  60%|██████    | 6/10 [10:30<07:00, 105.04s/it]"
     ]
    },
    {
     "name": "stdout",
     "output_type": "stream",
     "text": [
      "\n",
      "Epoch 006 train_loss: 3.5041     val_loss 5.4265 train_perplexirty 33.6972 val_perplexirty 234.8418\n"
     ]
    },
    {
     "name": "stderr",
     "output_type": "stream",
     "text": [
      "epoch:  70%|███████   | 7/10 [12:15<05:14, 105.00s/it]"
     ]
    },
    {
     "name": "stdout",
     "output_type": "stream",
     "text": [
      "\n",
      "Epoch 007 train_loss: 3.3560     val_loss 5.5033 train_perplexirty 29.0495 val_perplexirty 254.1279\n"
     ]
    },
    {
     "name": "stderr",
     "output_type": "stream",
     "text": [
      "epoch:  80%|████████  | 8/10 [14:00<03:29, 104.98s/it]"
     ]
    },
    {
     "name": "stdout",
     "output_type": "stream",
     "text": [
      "\n",
      "Epoch 008 train_loss: 3.2282     val_loss 5.5834 train_perplexirty 25.5596 val_perplexirty 275.9186\n"
     ]
    },
    {
     "name": "stderr",
     "output_type": "stream",
     "text": [
      "epoch:  90%|█████████ | 9/10 [15:45<01:44, 104.99s/it]"
     ]
    },
    {
     "name": "stdout",
     "output_type": "stream",
     "text": [
      "\n",
      "Epoch 009 train_loss: 3.1171     val_loss 5.6592 train_perplexirty 22.8660 val_perplexirty 298.2022\n"
     ]
    },
    {
     "name": "stderr",
     "output_type": "stream",
     "text": [
      "epoch: 100%|██████████| 10/10 [17:30<00:00, 105.02s/it]"
     ]
    },
    {
     "name": "stdout",
     "output_type": "stream",
     "text": [
      "\n",
      "Epoch 010 train_loss: 3.0210     val_loss 5.7391 train_perplexirty 20.7655 val_perplexirty 323.7256\n",
      "Best val perplexirty: 190.335309\n"
     ]
    },
    {
     "name": "stderr",
     "output_type": "stream",
     "text": [
      "\n"
     ]
    }
   ],
   "source": [
    "best_model, losses = train(\n",
    "    train_dataloader, \n",
    "    eval_dataloader, \n",
    "    model, \n",
    "    10, \n",
    "    ignore_index=word2ind[\"<pad>\"]\n",
    ")"
   ]
  },
  {
   "cell_type": "code",
   "execution_count": null,
   "metadata": {
    "execution": {
     "iopub.execute_input": "2024-05-27T06:27:51.198159Z",
     "iopub.status.busy": "2024-05-27T06:27:51.197592Z",
     "iopub.status.idle": "2024-05-27T06:27:51.296002Z",
     "shell.execute_reply": "2024-05-27T06:27:51.295026Z",
     "shell.execute_reply.started": "2024-05-27T06:27:51.198129Z"
    },
    "trusted": true
   },
   "outputs": [
    {
     "data": {
      "text/plain": [
       "'<bos> кот высотой 2 марта 2008 года выборы президента российской федерации выборы уважаемый избиратель ! <eos>'"
      ]
     },
     "execution_count": 52,
     "metadata": {},
     "output_type": "execute_result"
    }
   ],
   "source": [
    "# Генерация текста с использованием словесной модели\n",
    "generate_sequence(\n",
    "    model, \n",
    "    word2ind, \n",
    "    ind2word, \n",
    "    starting_seq=nltk.word_tokenize('кот')\n",
    ")"
   ]
  },
  {
   "cell_type": "markdown",
   "metadata": {},
   "source": [
    "### Выводы\n",
    "\n",
    "**Simple RNN**\n",
    "\n",
    "GRU продемонстрировала базовую способность к генерации текста, GRU не имеет long памяти, как у LSTM (long short-term memory), поэтому на этапе создании модели было ясно, что качество генерации на больших последовательностях будет храмать очень сильно, а на маленьких последовательностях показывать приемлемые результаты. При посимвольной токенизации модель показала, как было сказано ранее, приемлимые результаты при генерации небольшого текста (2-4 слова). По-словная токенизация улучшила семантическую целостность текста, но остались такие же проблемы как и при посимвольной токенизации.\n",
    "\n",
    "**Плюсы:**\n",
    "- Простота реализации и быстрая скорость обучения на коротких текстах.\n",
    "- Меньшая вычислительная сложность по сравнению с более сложными архитектурами.\n",
    "\n",
    "**Минусы:**\n",
    "- Плохая работа с длинными зависимостями.\n",
    "- Посимвольная токенизация может приводить к потере смысла текста."
   ]
  }
 ],
 "metadata": {
  "kaggle": {
   "accelerator": "gpu",
   "dataSources": [
    {
     "datasetId": 1167113,
     "sourceId": 2730445,
     "sourceType": "datasetVersion"
    }
   ],
   "dockerImageVersionId": 30699,
   "isGpuEnabled": true,
   "isInternetEnabled": true,
   "language": "python",
   "sourceType": "notebook"
  },
  "kernelspec": {
   "display_name": "Python 3",
   "language": "python",
   "name": "python3"
  },
  "language_info": {
   "codemirror_mode": {
    "name": "ipython",
    "version": 3
   },
   "file_extension": ".py",
   "mimetype": "text/x-python",
   "name": "python",
   "nbconvert_exporter": "python",
   "pygments_lexer": "ipython3",
   "version": "3.10.13"
  }
 },
 "nbformat": 4,
 "nbformat_minor": 4
}
