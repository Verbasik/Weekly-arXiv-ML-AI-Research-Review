{
 "cells": [
  {
   "cell_type": "markdown",
   "metadata": {},
   "source": [
    "## 📘 Двунаправленная LSTM от посимвольной до пословной токенизации"
   ]
  },
  {
   "cell_type": "markdown",
   "metadata": {},
   "source": [
    "### Подключим необходимые библиотеки"
   ]
  },
  {
   "cell_type": "code",
   "execution_count": null,
   "metadata": {
    "execution": {
     "iopub.execute_input": "2024-05-27T08:02:25.407080Z",
     "iopub.status.busy": "2024-05-27T08:02:25.406496Z",
     "iopub.status.idle": "2024-05-27T08:02:25.439306Z",
     "shell.execute_reply": "2024-05-27T08:02:25.438367Z",
     "shell.execute_reply.started": "2024-05-27T08:02:25.407026Z"
    },
    "trusted": true
   },
   "outputs": [
    {
     "data": {
      "text/plain": [
       "'cuda'"
      ]
     },
     "execution_count": 2,
     "metadata": {},
     "output_type": "execute_result"
    }
   ],
   "source": [
    "\"\"\"\n",
    "Реализация двунаправленной LSTM-модели для генерации текста на русском языке.\n",
    "\n",
    "Данный модуль обеспечивает создание, обучение и применение глубокой двунаправленной \n",
    "LSTM-сети для обработки и генерации текста. Реализована архитектура с четырьмя LSTM-слоями,\n",
    "каждый из которых является двунаправленным, что позволяет модели учитывать\n",
    "как предыдущий, так и последующий контекст при анализе текста.\n",
    "\"\"\"\n",
    "\n",
    "# Библиотеки для работы с данными и базами данных\n",
    "import sqlite3\n",
    "from collections import Counter\n",
    "from typing import List, Dict, Any, Optional, Union, Tuple\n",
    "\n",
    "import pandas as pd\n",
    "from datasets import load_dataset\n",
    "from sklearn.model_selection import train_test_split\n",
    "\n",
    "# Библиотеки для обработки текста\n",
    "import nltk\n",
    "from nltk.tokenize import sent_tokenize\n",
    "\n",
    "# Библиотеки глубокого обучения\n",
    "import torch\n",
    "import torch.nn as nn\n",
    "from torch.utils.data import Dataset, DataLoader\n",
    "\n",
    "# Библиотеки для визуализации и анализа\n",
    "import matplotlib.pyplot as plt\n",
    "import seaborn as sns\n",
    "import numpy as np\n",
    "\n",
    "# Утилиты\n",
    "from tqdm import tqdm\n",
    "\n",
    "# Настройка визуализации\n",
    "seaborn.set(palette='summer')\n",
    "\n",
    "# Определение устройства для вычислений\n",
    "device = 'cuda' if torch.cuda.is_available() else 'cpu'\n",
    "device"
   ]
  },
  {
   "cell_type": "markdown",
   "metadata": {},
   "source": [
    "### Загрузка датасета"
   ]
  },
  {
   "cell_type": "code",
   "execution_count": 3,
   "metadata": {
    "execution": {
     "iopub.execute_input": "2024-05-27T08:02:25.441146Z",
     "iopub.status.busy": "2024-05-27T08:02:25.440594Z",
     "iopub.status.idle": "2024-05-27T08:02:27.674657Z",
     "shell.execute_reply": "2024-05-27T08:02:27.673847Z",
     "shell.execute_reply.started": "2024-05-27T08:02:25.441115Z"
    },
    "trusted": true
   },
   "outputs": [],
   "source": [
    "conn = sqlite3.connect('/kaggle/input/wikibooks-dataset/wikibooks.sqlite')\n",
    "\n",
    "df = pd.read_sql_query(\"SELECT * FROM ru LIMIT 3300\", conn)"
   ]
  },
  {
   "cell_type": "code",
   "execution_count": null,
   "metadata": {
    "execution": {
     "iopub.execute_input": "2024-05-27T08:02:27.676884Z",
     "iopub.status.busy": "2024-05-27T08:02:27.676595Z",
     "iopub.status.idle": "2024-05-27T08:02:37.924493Z",
     "shell.execute_reply": "2024-05-27T08:02:37.923576Z",
     "shell.execute_reply.started": "2024-05-27T08:02:27.676860Z"
    },
    "trusted": true
   },
   "outputs": [
    {
     "name": "stderr",
     "output_type": "stream",
     "text": [
      "100%|██████████| 3300/3300 [00:10<00:00, 322.32it/s]"
     ]
    },
    {
     "name": "stdout",
     "output_type": "stream",
     "text": [
      "Количество предложений 120873\n"
     ]
    },
    {
     "name": "stderr",
     "output_type": "stream",
     "text": [
      "\n"
     ]
    }
   ],
   "source": [
    "# Извлечение предложений из текстов\n",
    "sentences = []\n",
    "\n",
    "for sentence in tqdm(df['body_text']):\n",
    "    sentences.extend(\n",
    "        [x.lower() for x in sent_tokenize(sentence, language='russian') if len(x) < 256]\n",
    "    )\n",
    "    \n",
    "print(\"Количество предложений\", len(sentences))"
   ]
  },
  {
   "cell_type": "markdown",
   "metadata": {},
   "source": [
    "### Train loop"
   ]
  },
  {
   "cell_type": "code",
   "execution_count": null,
   "metadata": {
    "execution": {
     "iopub.execute_input": "2024-05-27T08:03:53.281940Z",
     "iopub.status.busy": "2024-05-27T08:03:53.281254Z",
     "iopub.status.idle": "2024-05-27T08:03:53.297773Z",
     "shell.execute_reply": "2024-05-27T08:03:53.296704Z",
     "shell.execute_reply.started": "2024-05-27T08:03:53.281909Z"
    },
    "trusted": true
   },
   "outputs": [],
   "source": [
    "def fit_epoch(\n",
    "    model: nn.Module, \n",
    "    train_loader: DataLoader, \n",
    "    criterion: nn.Module, \n",
    "    optimizer: torch.optim.Optimizer, \n",
    "    sheduler: Optional[torch.optim.lr_scheduler._LRScheduler] = None\n",
    ") -> Tuple[float, float]:\n",
    "    \"\"\"\n",
    "    Description:\n",
    "    ---------------\n",
    "        Выполняет одну эпоху обучения модели.\n",
    "\n",
    "    Args:\n",
    "    ---------------\n",
    "        model: Модель для обучения\n",
    "        train_loader: Загрузчик обучающих данных\n",
    "        criterion: Функция потерь\n",
    "        optimizer: Оптимизатор\n",
    "        sheduler: Планировщик скорости обучения (опционально)\n",
    "\n",
    "    Returns:\n",
    "    ---------------\n",
    "        Tuple[float, float]: Перплексия и значение функции потерь\n",
    "    \"\"\"\n",
    "    model.train()\n",
    "    running_loss = 0.0\n",
    "    running_corrects = 0\n",
    "    processed_data = 0\n",
    "    losses = []\n",
    "    perplexity = []\n",
    "    \n",
    "    for batch in train_loader:\n",
    "        optimizer.zero_grad()\n",
    "\n",
    "        # Распространение прямое и обратное\n",
    "        logits = model(batch['input_ids']).flatten(start_dim=0, end_dim=1)\n",
    "        loss = criterion(\n",
    "            logits, batch['target_ids'].flatten()\n",
    "        )\n",
    "        loss.backward()\n",
    "        optimizer.step()\n",
    "        \n",
    "        # Сохранение метрик\n",
    "        perplexity.append(torch.exp(loss).item())\n",
    "        losses.append(loss.item())\n",
    "        \n",
    "    # Расчет средних значений метрик\n",
    "    perplexity_avg = sum(perplexity) / len(perplexity)\n",
    "    losses_avg = sum(losses) / len(losses)    \n",
    "    \n",
    "    return perplexity_avg, losses_avg\n",
    "\n",
    "\n",
    "def eval_epoch(\n",
    "    model: nn.Module, \n",
    "    val_loader: DataLoader, \n",
    "    criterion: nn.Module\n",
    ") -> Tuple[float, float]:\n",
    "    \"\"\"\n",
    "    Description:\n",
    "    ---------------\n",
    "        Оценивает модель на валидационном наборе данных.\n",
    "\n",
    "    Args:\n",
    "    ---------------\n",
    "        model: Модель для оценки\n",
    "        val_loader: Загрузчик валидационных данных\n",
    "        criterion: Функция потерь\n",
    "\n",
    "    Returns:\n",
    "    ---------------\n",
    "        Tuple[float, float]: Перплексия и значение функции потерь\n",
    "    \"\"\"\n",
    "    model.eval()\n",
    "    perplexity = []\n",
    "    losses = []\n",
    "    \n",
    "    with torch.no_grad():\n",
    "        for batch in val_loader:\n",
    "            logits = model(batch['input_ids']).flatten(start_dim=0, end_dim=1)\n",
    "            loss = criterion(\n",
    "                logits,\n",
    "                batch['target_ids'].flatten()\n",
    "            )\n",
    "            perplexity.append(torch.exp(loss).item())\n",
    "            losses.append(loss.item())\n",
    "\n",
    "    # Расчет средних значений метрик\n",
    "    perplexity_avg = sum(perplexity) / len(perplexity)\n",
    "    losses_avg = sum(losses) / len(losses)\n",
    "    \n",
    "    return perplexity_avg, losses_avg\n",
    "\n",
    "\n",
    "def train(\n",
    "    train_dataloader: DataLoader, \n",
    "    eval_dataloader: DataLoader, \n",
    "    model: nn.Module, \n",
    "    epochs: int, \n",
    "    ignore_index: int = word2ind['<pad>'],\n",
    "    optimizer: Optional[torch.optim.Optimizer] = None, \n",
    "    criterion: Optional[nn.Module] = None, \n",
    "    sheduler: Optional[torch.optim.lr_scheduler._LRScheduler] = None\n",
    ") -> Tuple[nn.Module, List[Tuple[float, float, float, float]]]:\n",
    "    \"\"\"\n",
    "    Description:\n",
    "    ---------------\n",
    "        Обучает модель на заданном количестве эпох.\n",
    "\n",
    "    Args:\n",
    "    ---------------\n",
    "        train_dataloader: Загрузчик обучающих данных\n",
    "        eval_dataloader: Загрузчик валидационных данных\n",
    "        model: Модель для обучения\n",
    "        epochs: Количество эпох обучения\n",
    "        ignore_index: Индекс токена, который не учитывается в функции потерь\n",
    "        optimizer: Оптимизатор (по умолчанию Adam)\n",
    "        criterion: Функция потерь (по умолчанию CrossEntropyLoss)\n",
    "        sheduler: Планировщик скорости обучения (опционально)\n",
    "\n",
    "    Returns:\n",
    "    ---------------\n",
    "        Tuple[nn.Module, List[Tuple[float, float, float, float]]]: \n",
    "            Обученная модель и история обучения\n",
    "    \"\"\"\n",
    "    # Инициализация оптимизатора и функции потерь, если не указаны\n",
    "    if optimizer is None:\n",
    "      optimizer = torch.optim.Adam(model.parameters())\n",
    "\n",
    "    if criterion is None:\n",
    "      criterion = nn.CrossEntropyLoss(ignore_index=ignore_index)\n",
    "\n",
    "    # Сохранение лучших весов модели\n",
    "    best_model_wts = model.state_dict()\n",
    "    best_perplexity = 10e10\n",
    "\n",
    "    # История обучения\n",
    "    history = []\n",
    "    log_template = \"\\nEpoch {ep:03d} train_loss: {t_loss:0.4f} \\\n",
    "    val_loss {v_loss:0.4f} train_perplexirty {t_acc:0.4f} val_perplexirty {v_acc:0.4f}\"\n",
    "\n",
    "    with tqdm(desc=\"epoch\", total=epochs) as pbar_outer:\n",
    "        for epoch in range(epochs):\n",
    "            # Обучение на одной эпохе\n",
    "            train_perplexirty, train_loss = fit_epoch(\n",
    "                model, train_dataloader, criterion, optimizer\n",
    "            )\n",
    "            \n",
    "            # Валидация модели\n",
    "            val_perplexirty, val_loss = eval_epoch(\n",
    "                model, eval_dataloader, criterion\n",
    "            )\n",
    "            \n",
    "            # Сохранение метрик\n",
    "            history.append((train_loss, train_perplexirty, val_loss, val_perplexirty))\n",
    "            \n",
    "            # Сохранение лучшей модели\n",
    "            if val_perplexirty < best_perplexity:\n",
    "                best_perplexity = val_perplexirty\n",
    "                best_model_wts = model.state_dict()\n",
    "\n",
    "            # Обновление прогресс-бара и вывод результатов\n",
    "            pbar_outer.update(1)\n",
    "            tqdm.write(log_template.format(\n",
    "                ep=epoch+1, \n",
    "                t_loss=train_loss,\n",
    "                v_loss=val_loss, \n",
    "                t_acc=train_perplexirty, \n",
    "                v_acc=val_perplexirty\n",
    "            ))\n",
    "\n",
    "    print('Best val perplexirty: {:4f}'.format(best_perplexity))\n",
    "    \n",
    "    # Загрузка лучших весов\n",
    "    model.load_state_dict(best_model_wts)\n",
    "\n",
    "    return model, history"
   ]
  },
  {
   "cell_type": "markdown",
   "metadata": {},
   "source": [
    "### Функции необходимые при обучении/загрузке датасета/генерации текста"
   ]
  },
  {
   "cell_type": "code",
   "execution_count": null,
   "metadata": {
    "execution": {
     "iopub.execute_input": "2024-05-27T08:03:54.154377Z",
     "iopub.status.busy": "2024-05-27T08:03:54.153996Z",
     "iopub.status.idle": "2024-05-27T08:03:54.168526Z",
     "shell.execute_reply": "2024-05-27T08:03:54.167505Z",
     "shell.execute_reply.started": "2024-05-27T08:03:54.154347Z"
    },
    "trusted": true
   },
   "outputs": [],
   "source": [
    "class WordDataset:\n",
    "    \"\"\"\n",
    "    Description:\n",
    "    ---------------\n",
    "        Датасет для работы с пословной токенизацией текста.\n",
    "\n",
    "    Args:\n",
    "    ---------------\n",
    "        sentences: Список предложений для обработки\n",
    "\n",
    "    Examples:\n",
    "    ---------------\n",
    "        >>> dataset = WordDataset(sentences)\n",
    "        >>> sample = dataset[0]\n",
    "        >>> len(sample)\n",
    "        # Длина токенизированного предложения\n",
    "    \"\"\"\n",
    "    def __init__(self, sentences: List[str]) -> None:\n",
    "        self.data = sentences\n",
    "        self.unk_id = word2ind['<unk>']\n",
    "        self.bos_id = word2ind['<bos>']\n",
    "        self.eos_id = word2ind['<eos>']\n",
    "        self.pad_id = word2ind['<pad>']\n",
    "\n",
    "    def __getitem__(self, idx: int) -> List[int]:\n",
    "        \"\"\"\n",
    "        Description:\n",
    "        ---------------\n",
    "            Преобразует предложение в последовательность индексов слов.\n",
    "\n",
    "        Args:\n",
    "        ---------------\n",
    "            idx: Индекс предложения в датасете\n",
    "\n",
    "        Returns:\n",
    "        ---------------\n",
    "            List[int]: Токенизированное предложение как список индексов\n",
    "        \"\"\"\n",
    "        tokenized_sentence = [self.bos_id]\n",
    "        tokenized_sentence += [\n",
    "            word2ind.get(word, self.unk_id) \n",
    "            for word in nltk.word_tokenize(self.data[idx])\n",
    "        ]\n",
    "        tokenized_sentence += [self.eos_id]\n",
    "        \n",
    "        return tokenized_sentence\n",
    "\n",
    "    def __len__(self) -> int:\n",
    "        \"\"\"\n",
    "        Description:\n",
    "        ---------------\n",
    "            Возвращает размер датасета.\n",
    "\n",
    "        Returns:\n",
    "        ---------------\n",
    "            int: Количество предложений в датасете\n",
    "        \"\"\"\n",
    "        return len(self.data)\n",
    "    \n",
    "\n",
    "def collate_fn_with_padding(\n",
    "    input_batch: List[List[int]], \n",
    "    pad_id: int = word2ind['<pad>']\n",
    ") -> Dict[str, torch.Tensor]:\n",
    "    \"\"\"\n",
    "    Description:\n",
    "    ---------------\n",
    "        Функция для преобразования батча данных: добавляет паддинг и \n",
    "        создает тензоры ввода и целевых значений.\n",
    "\n",
    "    Args:\n",
    "    ---------------\n",
    "        input_batch: Пакет токенизированных предложений\n",
    "        pad_id: Идентификатор токена для заполнения (паддинга)\n",
    "\n",
    "    Returns:\n",
    "    ---------------\n",
    "        Dict[str, torch.Tensor]: Словарь с тензорами входных и целевых id\n",
    "    \"\"\"\n",
    "    seq_lens = [len(x) for x in input_batch]\n",
    "    max_seq_len = max(seq_lens)\n",
    "\n",
    "    new_batch = []\n",
    "    for sequence in input_batch:\n",
    "        for _ in range(max_seq_len - len(sequence)):\n",
    "            sequence.append(pad_id)\n",
    "        new_batch.append(sequence)\n",
    "\n",
    "    sequences = torch.LongTensor(new_batch).to(device)\n",
    "\n",
    "    new_batch = {\n",
    "        'input_ids': sequences[:, :-1],\n",
    "        'target_ids': sequences[:, 1:]\n",
    "    }\n",
    "\n",
    "    return new_batch\n",
    "\n",
    "\n",
    "def generate_sequence(\n",
    "    model: nn.Module, \n",
    "    dict_2ind: Dict[str, int], \n",
    "    ind2dict: Dict[int, str], \n",
    "    starting_seq: str, \n",
    "    max_seq_len: int = 256\n",
    ") -> str:\n",
    "    \"\"\"\n",
    "    Description:\n",
    "    ---------------\n",
    "        Генерирует текстовую последовательность, начиная с заданной.\n",
    "\n",
    "    Args:\n",
    "    ---------------\n",
    "        model: Обученная языковая модель\n",
    "        dict_2ind: Словарь для преобразования токенов в индексы\n",
    "        ind2dict: Словарь для преобразования индексов в токены\n",
    "        starting_seq: Начальная последовательность\n",
    "        max_seq_len: Максимальная длина генерируемой последовательности\n",
    "\n",
    "    Returns:\n",
    "    ---------------\n",
    "        str: Сгенерированная последовательность\n",
    "\n",
    "    Examples:\n",
    "    ---------------\n",
    "        >>> result = generate_sequence(model, word2ind, ind2word, \"история\")\n",
    "        >>> print(result)\n",
    "        'история россии...'\n",
    "    \"\"\"\n",
    "    device = 'cpu'\n",
    "    model = model.to(device)\n",
    "    \n",
    "    # Преобразование начальной последовательности в индексы\n",
    "    input_ids = [dict_2ind['<bos>']] + [\n",
    "        dict_2ind.get(char, dict_2ind['<unk>']) for char in starting_seq\n",
    "    ]\n",
    "    input_ids = torch.LongTensor(input_ids).to(device)\n",
    "\n",
    "    model.eval()\n",
    "    with torch.no_grad():\n",
    "        for i in range(max_seq_len):\n",
    "            # Получение распределения вероятностей для следующего токена\n",
    "            next_token_distribution = model(input_ids.unsqueeze(0))\n",
    "            next_token_logits = next_token_distribution[0, -1, :]\n",
    "            next_token = next_token_logits.argmax()\n",
    "            \n",
    "            # Добавление предсказанного токена к входной последовательности\n",
    "            input_ids = torch.cat([input_ids, next_token.unsqueeze(0)])\n",
    "\n",
    "            # Завершение генерации при появлении токена конца последовательности\n",
    "            if next_token.item() == dict_2ind['<eos>']:\n",
    "                break\n",
    "\n",
    "    # Преобразование индексов обратно в текст\n",
    "    words = ' '.join([ind2dict[idx.item()] for idx in input_ids])\n",
    "\n",
    "    return words"
   ]
  },
  {
   "cell_type": "markdown",
   "metadata": {},
   "source": [
    "### Main Model"
   ]
  },
  {
   "cell_type": "code",
   "execution_count": null,
   "metadata": {
    "execution": {
     "iopub.execute_input": "2024-05-27T08:12:24.211157Z",
     "iopub.status.busy": "2024-05-27T08:12:24.210610Z",
     "iopub.status.idle": "2024-05-27T08:12:24.222040Z",
     "shell.execute_reply": "2024-05-27T08:12:24.221034Z",
     "shell.execute_reply.started": "2024-05-27T08:12:24.211126Z"
    },
    "trusted": true
   },
   "outputs": [],
   "source": [
    "class LanguageModel(nn.Module):\n",
    "    \"\"\"\n",
    "    Description:\n",
    "    ---------------\n",
    "        Глубокая двунаправленная LSTM-модель для языкового моделирования.\n",
    "\n",
    "    Args:\n",
    "    ---------------\n",
    "        vocab_size: Размер словаря\n",
    "        hidden_dim: Размерность скрытого состояния\n",
    "\n",
    "    Examples:\n",
    "    ---------------\n",
    "        >>> model = LanguageModel(vocab_size=1000, hidden_dim=256)\n",
    "        >>> input_tensor = torch.LongTensor([[1, 2, 3, 4]])\n",
    "        >>> output = model(input_tensor)\n",
    "        >>> output.shape\n",
    "        torch.Size([1, 4, 1000])\n",
    "    \"\"\"\n",
    "    def __init__(\n",
    "        self, \n",
    "        vocab_size: int, \n",
    "        hidden_dim: int\n",
    "    ) -> None:\n",
    "        super().__init__()\n",
    "        # Слой эмбеддингов\n",
    "        self.embedding = nn.Embedding(vocab_size, hidden_dim)\n",
    "        \n",
    "        # Четыре последовательных двунаправленных LSTM-слоя\n",
    "        self.lstm_1 = nn.LSTM(\n",
    "            hidden_dim, hidden_dim, batch_first=True, bidirectional=True\n",
    "        )\n",
    "        self.lstm_2 = nn.LSTM(\n",
    "            hidden_dim*2, hidden_dim, batch_first=True, bidirectional=True\n",
    "        )\n",
    "        self.lstm_3 = nn.LSTM(\n",
    "            hidden_dim*2, hidden_dim, batch_first=True, bidirectional=True\n",
    "        )\n",
    "        self.lstm_4 = nn.LSTM(\n",
    "            hidden_dim*2, hidden_dim, batch_first=True, bidirectional=True\n",
    "        )\n",
    "            \n",
    "        # Проекционные слои\n",
    "        self.linear = nn.Linear(hidden_dim*2, hidden_dim)\n",
    "        self.projection = nn.Linear(hidden_dim, vocab_size)\n",
    "\n",
    "        # Нелинейность и регуляризация\n",
    "        self.non_lin = nn.Tanh()\n",
    "        self.dropout = nn.Dropout(0.2)\n",
    "\n",
    "    def forward(self, input_batch: torch.Tensor) -> torch.Tensor:\n",
    "        \"\"\"\n",
    "        Description:\n",
    "        ---------------\n",
    "            Прямой проход модели.\n",
    "\n",
    "        Args:\n",
    "        ---------------\n",
    "            input_batch: Тензор с индексами входных токенов\n",
    "\n",
    "        Returns:\n",
    "        ---------------\n",
    "            torch.Tensor: Предсказанные логиты для каждого токена\n",
    "        \"\"\"\n",
    "        # Преобразование индексов в эмбеддинги\n",
    "        embeddings = self.embedding(input_batch)  # [batch_size, seq_len, hidden_dim]\n",
    "        \n",
    "        # Последовательное прохождение через LSTM-слои\n",
    "        output, _ = self.lstm_1(embeddings)  # [batch_size, seq_len, hidden_dim*2]\n",
    "        output, _ = self.lstm_2(output)      # [batch_size, seq_len, hidden_dim*2]\n",
    "        output, _ = self.lstm_3(output)      # [batch_size, seq_len, hidden_dim*2]\n",
    "        output, _ = self.lstm_4(output)      # [batch_size, seq_len, hidden_dim*2]\n",
    "        \n",
    "        # Применение дополнительных преобразований\n",
    "        output = self.dropout(\n",
    "            self.linear(self.non_lin(output))\n",
    "        )  # [batch_size, seq_len, hidden_dim]\n",
    "        \n",
    "        # Проекция на размер словаря\n",
    "        projection = self.projection(\n",
    "            self.non_lin(output)\n",
    "        )  # [batch_size, seq_len, vocab_size]\n",
    "\n",
    "        return projection"
   ]
  },
  {
   "cell_type": "markdown",
   "metadata": {},
   "source": [
    "### Train"
   ]
  },
  {
   "cell_type": "code",
   "execution_count": null,
   "metadata": {
    "execution": {
     "iopub.execute_input": "2024-05-27T08:11:14.033265Z",
     "iopub.status.busy": "2024-05-27T08:11:14.032742Z",
     "iopub.status.idle": "2024-05-27T08:11:43.125402Z",
     "shell.execute_reply": "2024-05-27T08:11:43.124486Z",
     "shell.execute_reply.started": "2024-05-27T08:11:14.033238Z"
    },
    "trusted": true
   },
   "outputs": [
    {
     "name": "stderr",
     "output_type": "stream",
     "text": [
      "100%|██████████| 120873/120873 [00:28<00:00, 4174.65it/s]\n"
     ]
    },
    {
     "name": "stdout",
     "output_type": "stream",
     "text": [
      "Всего слов в словаре: 40004\n"
     ]
    }
   ],
   "source": [
    "# Подготовка данных для словесной модели\n",
    "words = Counter()\n",
    "\n",
    "for sentence in tqdm(sentences):\n",
    "    for word in nltk.word_tokenize(sentence):\n",
    "            words[word] += 1\n",
    "            \n",
    "vocab = set(['<unk>', '<bos>', '<eos>', '<pad>'])\n",
    "vocab_size = 40000\n",
    "\n",
    "for elem in words.most_common(vocab_size):\n",
    "    vocab.add(elem[0])\n",
    "    \n",
    "print(\"Всего слов в словаре:\", len(vocab))"
   ]
  },
  {
   "cell_type": "code",
   "execution_count": 39,
   "metadata": {
    "execution": {
     "iopub.execute_input": "2024-05-27T08:11:43.128034Z",
     "iopub.status.busy": "2024-05-27T08:11:43.127132Z",
     "iopub.status.idle": "2024-05-27T08:11:43.151741Z",
     "shell.execute_reply": "2024-05-27T08:11:43.150823Z",
     "shell.execute_reply.started": "2024-05-27T08:11:43.127995Z"
    },
    "trusted": true
   },
   "outputs": [],
   "source": [
    "word2ind = {char: i for i, char in enumerate(vocab)}\n",
    "ind2word = {i: char for char, i in word2ind.items()}"
   ]
  },
  {
   "cell_type": "code",
   "execution_count": null,
   "metadata": {
    "execution": {
     "iopub.execute_input": "2024-05-27T08:11:43.153533Z",
     "iopub.status.busy": "2024-05-27T08:11:43.152952Z",
     "iopub.status.idle": "2024-05-27T08:11:43.197936Z",
     "shell.execute_reply": "2024-05-27T08:11:43.197108Z",
     "shell.execute_reply.started": "2024-05-27T08:11:43.153501Z"
    },
    "trusted": true
   },
   "outputs": [],
   "source": [
    "# Разделение данных на обучающую и тестовую выборки\n",
    "train_sentences, eval_sentences = train_test_split(\n",
    "    sentences, test_size=0.2\n",
    ")\n",
    "\n",
    "# Создание датасетов и загрузчиков данных\n",
    "train_dataset = WordDataset(train_sentences)\n",
    "eval_dataset = WordDataset(eval_sentences)\n",
    "\n",
    "train_dataloader = DataLoader(\n",
    "    train_dataset, \n",
    "    collate_fn=collate_fn_with_padding, \n",
    "    batch_size=64\n",
    ")\n",
    "\n",
    "eval_dataloader = DataLoader(\n",
    "    eval_dataset, \n",
    "    collate_fn=collate_fn_with_padding, \n",
    "    batch_size=64\n",
    ")"
   ]
  },
  {
   "cell_type": "code",
   "execution_count": null,
   "metadata": {
    "execution": {
     "iopub.execute_input": "2024-05-27T08:12:27.844291Z",
     "iopub.status.busy": "2024-05-27T08:12:27.843820Z",
     "iopub.status.idle": "2024-05-27T08:12:28.129201Z",
     "shell.execute_reply": "2024-05-27T08:12:28.128278Z",
     "shell.execute_reply.started": "2024-05-27T08:12:27.844256Z"
    },
    "trusted": true
   },
   "outputs": [
    {
     "name": "stdout",
     "output_type": "stream",
     "text": [
      "LanguageModel(\n",
      "  (embedding): Embedding(40004, 256)\n",
      "  (lstm_1): LSTM(256, 256, batch_first=True, bidirectional=True)\n",
      "  (lstm_2): LSTM(512, 256, batch_first=True, bidirectional=True)\n",
      "  (lstm_3): LSTM(512, 256, batch_first=True, bidirectional=True)\n",
      "  (lstm_4): LSTM(512, 256, batch_first=True, bidirectional=True)\n",
      "  (linear): Linear(in_features=512, out_features=256, bias=True)\n",
      "  (projection): Linear(in_features=256, out_features=40004, bias=True)\n",
      "  (non_lin): Tanh()\n",
      "  (dropout): Dropout(p=0.2, inplace=False)\n",
      ")\n",
      "Number of model parameters: 26,436,932\n"
     ]
    }
   ],
   "source": [
    "# Создание и обучение модели\n",
    "model = LanguageModel(\n",
    "    hidden_dim=256, \n",
    "    vocab_size=len(vocab)\n",
    ").to(device)\n",
    "\n",
    "num_params = sum(p.numel() for p in model.parameters())\n",
    "print(model)\n",
    "print(f\"Number of model parameters: {num_params:,}\")"
   ]
  },
  {
   "cell_type": "code",
   "execution_count": null,
   "metadata": {
    "execution": {
     "iopub.execute_input": "2024-05-27T08:12:30.544725Z",
     "iopub.status.busy": "2024-05-27T08:12:30.543908Z",
     "iopub.status.idle": "2024-05-27T08:40:11.378810Z",
     "shell.execute_reply": "2024-05-27T08:40:11.377791Z",
     "shell.execute_reply.started": "2024-05-27T08:12:30.544696Z"
    },
    "trusted": true
   },
   "outputs": [
    {
     "name": "stderr",
     "output_type": "stream",
     "text": [
      "epoch:  10%|█         | 1/10 [02:46<24:56, 166.31s/it]"
     ]
    },
    {
     "name": "stdout",
     "output_type": "stream",
     "text": [
      "\n",
      "Epoch 001 train_loss: 6.2165     val_loss 4.4502 train_perplexirty 950.2023 val_perplexirty 86.3828\n"
     ]
    },
    {
     "name": "stderr",
     "output_type": "stream",
     "text": [
      "epoch:  20%|██        | 2/10 [05:32<22:08, 166.07s/it]"
     ]
    },
    {
     "name": "stdout",
     "output_type": "stream",
     "text": [
      "\n",
      "Epoch 002 train_loss: 3.6826     val_loss 3.0068 train_perplexirty 43.8529 val_perplexirty 20.3645\n"
     ]
    },
    {
     "name": "stderr",
     "output_type": "stream",
     "text": [
      "epoch:  30%|███       | 3/10 [08:18<19:21, 165.97s/it]"
     ]
    },
    {
     "name": "stdout",
     "output_type": "stream",
     "text": [
      "\n",
      "Epoch 003 train_loss: 2.6966     val_loss 2.2747 train_perplexirty 15.2892 val_perplexirty 9.7852\n"
     ]
    },
    {
     "name": "stderr",
     "output_type": "stream",
     "text": [
      "epoch:  40%|████      | 4/10 [11:03<16:35, 165.89s/it]"
     ]
    },
    {
     "name": "stdout",
     "output_type": "stream",
     "text": [
      "\n",
      "Epoch 004 train_loss: 1.9999     val_loss 1.7284 train_perplexirty 7.5591 val_perplexirty 5.6607\n"
     ]
    },
    {
     "name": "stderr",
     "output_type": "stream",
     "text": [
      "epoch:  50%|█████     | 5/10 [13:49<13:48, 165.78s/it]"
     ]
    },
    {
     "name": "stdout",
     "output_type": "stream",
     "text": [
      "\n",
      "Epoch 005 train_loss: 1.5587     val_loss 1.4527 train_perplexirty 4.7937 val_perplexirty 4.2946\n"
     ]
    },
    {
     "name": "stderr",
     "output_type": "stream",
     "text": [
      "epoch:  60%|██████    | 6/10 [16:35<11:03, 165.76s/it]"
     ]
    },
    {
     "name": "stdout",
     "output_type": "stream",
     "text": [
      "\n",
      "Epoch 006 train_loss: 1.2813     val_loss 1.2659 train_perplexirty 3.6192 val_perplexirty 3.5613\n"
     ]
    },
    {
     "name": "stderr",
     "output_type": "stream",
     "text": [
      "epoch:  70%|███████   | 7/10 [19:20<08:17, 165.76s/it]"
     ]
    },
    {
     "name": "stdout",
     "output_type": "stream",
     "text": [
      "\n",
      "Epoch 007 train_loss: 1.0773     val_loss 1.1091 train_perplexirty 2.9480 val_perplexirty 3.0433\n"
     ]
    },
    {
     "name": "stderr",
     "output_type": "stream",
     "text": [
      "epoch:  80%|████████  | 8/10 [22:07<05:32, 166.09s/it]"
     ]
    },
    {
     "name": "stdout",
     "output_type": "stream",
     "text": [
      "\n",
      "Epoch 008 train_loss: 0.8751     val_loss 0.9516 train_perplexirty 2.4070 val_perplexirty 2.5987\n"
     ]
    },
    {
     "name": "stderr",
     "output_type": "stream",
     "text": [
      "epoch:  90%|█████████ | 9/10 [24:54<02:46, 166.18s/it]"
     ]
    },
    {
     "name": "stdout",
     "output_type": "stream",
     "text": [
      "\n",
      "Epoch 009 train_loss: 0.7142     val_loss 0.8469 train_perplexirty 2.0487 val_perplexirty 2.3398\n"
     ]
    },
    {
     "name": "stderr",
     "output_type": "stream",
     "text": [
      "epoch: 100%|██████████| 10/10 [27:40<00:00, 166.08s/it]"
     ]
    },
    {
     "name": "stdout",
     "output_type": "stream",
     "text": [
      "\n",
      "Epoch 010 train_loss: 0.5945     val_loss 0.7705 train_perplexirty 1.8150 val_perplexirty 2.1671\n",
      "Best val perplexirty: 2.167140\n"
     ]
    },
    {
     "name": "stderr",
     "output_type": "stream",
     "text": [
      "\n"
     ]
    }
   ],
   "source": [
    "# Обучение модели\n",
    "best_model, losses = train(\n",
    "    train_dataloader, \n",
    "    eval_dataloader, \n",
    "    model, \n",
    "    10, \n",
    "    ignore_index=word2ind[\"<pad>\"]\n",
    ")"
   ]
  },
  {
   "cell_type": "code",
   "execution_count": null,
   "metadata": {
    "execution": {
     "iopub.execute_input": "2024-05-27T08:45:34.688893Z",
     "iopub.status.busy": "2024-05-27T08:45:34.688567Z",
     "iopub.status.idle": "2024-05-27T08:45:34.728929Z",
     "shell.execute_reply": "2024-05-27T08:45:34.728045Z",
     "shell.execute_reply.started": "2024-05-27T08:45:34.688870Z"
    },
    "trusted": true
   },
   "outputs": [
    {
     "data": {
      "text/plain": [
       "'<bos> империя чистый англ <eos>'"
      ]
     },
     "execution_count": 77,
     "metadata": {},
     "output_type": "execute_result"
    }
   ],
   "source": [
    "# Тестирование генерации текста\n",
    "generate_sequence(\n",
    "    model, \n",
    "    word2ind, \n",
    "    ind2word,\n",
    "    starting_seq=nltk.word_tokenize('империя')\n",
    ")"
   ]
  },
  {
   "cell_type": "markdown",
   "metadata": {},
   "source": [
    "### Выводы\n",
    "\n",
    "**Двунаправленная LSTM**\n",
    "\n",
    "Двунаправленная LSTM показала наилучшие результаты среди всех рассмотренных архитектур по метрике перплексии. Благодаря способности учитывать как предыдущий, так и последующий контексты. Но данная архитектура не подходит для генерации текста с 0 или начиная с начального предложения. Двунаправленная LSTM подходит для предсказания слова, если оно находится в середине некоторого контекста.\n",
    "\n",
    "**Плюсы:**\n",
    "\n",
    "- Лучшее качество за счет учета контекста в обеих направлениях.\n",
    "\n",
    "**Минусы:**\n",
    "\n",
    "- Высокая вычислительная сложность и потребность в большом объеме памяти.\n",
    "- Увеличенное время на обучение и предсказание.\n",
    "- Неподходящая архитектура для генерации текста с 0 или же последовательно."
   ]
  }
 ],
 "metadata": {
  "kaggle": {
   "accelerator": "gpu",
   "dataSources": [
    {
     "datasetId": 1167113,
     "sourceId": 2730445,
     "sourceType": "datasetVersion"
    }
   ],
   "dockerImageVersionId": 30699,
   "isGpuEnabled": true,
   "isInternetEnabled": true,
   "language": "python",
   "sourceType": "notebook"
  },
  "kernelspec": {
   "display_name": "Python 3",
   "language": "python",
   "name": "python3"
  },
  "language_info": {
   "codemirror_mode": {
    "name": "ipython",
    "version": 3
   },
   "file_extension": ".py",
   "mimetype": "text/x-python",
   "name": "python",
   "nbconvert_exporter": "python",
   "pygments_lexer": "ipython3",
   "version": "3.10.13"
  }
 },
 "nbformat": 4,
 "nbformat_minor": 4
}
