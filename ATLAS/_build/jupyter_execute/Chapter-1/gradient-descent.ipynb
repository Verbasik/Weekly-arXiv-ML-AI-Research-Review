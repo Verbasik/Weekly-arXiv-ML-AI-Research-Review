{
 "cells": [
  {
   "cell_type": "markdown",
   "id": "9790b794",
   "metadata": {},
   "source": [
    "## Что такое производная функции и зачем она нужна\n",
    "\n",
    "Чтобы понять тему производной функции, давайте сначала вспомним понятие функции. Представьте, как вы катаетесь на велосипеде: разгоняетесь, тормозите и едете с постоянной скоростью. Скорость велосипеда меняется с течением времени — это и есть пример функции времени.\n",
    "\n",
    "**Функция** — это математическое правило, которое принимает на вход число (аргумент) и возвращает определённый результат. В нашем примере результатом будет скорость велосипеда, а аргументом — время движения.\n",
    "\n",
    "Если представить зависимость скорости от времени в виде формулы, она примет следующий вид:  \n",
    "$V = f(t)$.  \n",
    "\n",
    "Распишем значения этой формулы:\n",
    "\n",
    "- **Скорость велосипеда (V)** — зависимая переменная, которая изменяется с течением времени. Например:\n",
    "  - в начале поездки: `0 км/ч`\n",
    "  - через 5 минут: `20 км/ч`\n",
    "  - через 10 минут: `30 км/ч`\n",
    "  \n",
    "- **Время (t)** — независимая переменная, которую мы задаём самостоятельно. Она служит аргументом функции.\n",
    "\n",
    "- **Функция `f(t)`** описывает зависимость скорости от времени. Например:  \n",
    "  $f(t) = 3t + 2$.  \n",
    "\n",
    "  Эта функция означает, что:\n",
    "  - каждую минуту скорость увеличивается на `3 км/ч`\n",
    "  - начальная скорость (при `t = 0`): `2 км/ч`  \n",
    "  Тогда через 5 минут скорость будет равна:  \n",
    "  `3 × 5 + 2 = 17 км/ч`.\n",
    "\n",
    "Построим график изменения скорости велосипеда в двумерной системе координат $X$ и $Y$:\n",
    "- По горизонтальной оси $X$ откладываем **время движения**\n",
    "- По вертикальной оси $Y$ — **скорость велосипеда**"
   ]
  },
  {
   "cell_type": "code",
   "execution_count": 1,
   "id": "c0119ec2",
   "metadata": {},
   "outputs": [
    {
     "data": {
      "application/vnd.plotly.v1+json": {
       "config": {
        "plotlyServerURL": "https://plot.ly"
       },
       "data": [
        {
         "fill": "tonexty",
         "fillcolor": "rgba(99, 102, 241, 0.1)",
         "hovertemplate": "<b>Время:</b> %{x:.1f} мин<br><b>Скорость:</b> %{y:.1f} км/ч<br><extra></extra>",
         "line": {
          "color": "#6366f1",
          "shape": "spline",
          "width": 4
         },
         "mode": "lines",
         "name": "Скорость велосипеда",
         "type": "scatter",
         "x": {
          "bdata": "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",
          "dtype": "f8"
         },
         "y": {
          "bdata": "AAAAAAAAFEBL0ZUCHaMUQE9/d81tRBVAIDY1S+zjFUDmFjOqkoEWQIwE/VxbHRdAV3mQGkG3F0BqY5zePk8YQLIHt+lP5RhALOyJwW95GUDKy/MwmgsaQPCXIEjLmxpAw4yXXP8pG0D+Xj8JM7YbQI2LWC5jQBxAeNJt8YzIHEA46Dq9rU4dQM9piUHD0h1AniEEc8tUHkAirACLxNQeQEaNPwetUh9ATciiqYPOH0DWhu27IyQgQNDJhd37XyBAuVey/8maIEB0o9oJjtQgQDyZeQRIDSFAI1XdGPhEIUCRbOKQnnshQP7YqtY7sSFAy5JQdNDlIUCv65MTXRkiQMG4hX3iSyJA2FwtmmF9IkBmxCpw260iQKpkVCRR3SJAhlBR+cMLI0DudS9PNTkjQEMX9qKmZSNAoZQ0jhmRI0CDmY3Gj7sjQMHDPh0L5SNALtmkfo0NJEDpobzxGDUkQI19oJevWyRAJcoCq1OBJEALNKV/B6YkQEMGzYHNySRAfpO0NajsJEDzz/k2mg4lQAE1CjimLyVAlweMAc9PJUDkGsVxF28lQBUp/3uCjSVAJdzpJxOrJUA4ofqQzMclQABhyuWx4yVAOThxZ8b+JUA6S+BoDRkmQBrQOU6KMiZA3GonjEBLJkB79y6nM2MmQL7dBTNneiZA7Arj0d6QJkCXrc8znqYmQObP9hWpuyZA0ezzQQPQJkDdnCCNsOMmQPB24de09iZAAELyDBQJJ0BMlLEg0honQNn8axDzKydACNSm4Xo8J0Dez2qhbUwnQOF4jmPPWydAFJwAQqRqJ0C01hJc8HgnQDpYxNW3hidAHfcM1/6TJ0CCtCiLyaAnQDPL4x8crSdAtmXnxPq4J0CMFweracQnQCE1jwNtzydADiaU/wjaJ0DVzELPQeQnQDcfMqEb7idA4Am2oZr3J0ACujP6wgAoQB9nd9CYCShA7LYLRiASKEAQ1ZJ3XRooQP5XIXxUIihA+AubZAkqKEDsvBE7gDEoQFkXJgK9OChAO7hqtMM/KECCg8lDmEYoQB9Y65g+TShAYTiikrpTKEDy/FUFEFooQBKoc7pCYChAr27fb1ZmKEDzi2nXTmwoQN/zRZYvcihAvviGRPx3KEDa9ppsuH0oQFgZzYpngyhAi0rJDA2JKEB+YSNRrI4oQCCe4aZIlChAk4QKTeWZKEDSJzZyhZ8oQFDzIjQspShASgJOn9yqKECCE4+umbAoQMgmuEpmtihAttE4SkW8KEAaWMVwOcIoQOeTAW9FyChACLgv4mvOKECk+OJTr9QoQOgitjkS2yhAoi0G9ZbhKEBgy7DSP+goQBcG1woP7yhAx+ujwAb2KEC4UhcCKf0oQFi71Md3BClANlX29PQLKUCjK+RWohMpQBp+L6WBGylApkdygZQjKUAR+DJ33CspQK1gzPtaNClAGtZZbhE9KUCah6cXAUYpQN8LJyorTylAiiLowZBYKUD2qJXkMmIpQCbAdoESbClAByF0cTB2KUCimyF3jYApQOi8yz4qiylAjZaJXgeWKUAuo1JWJaEpQNrAGJCErClAAjvmXyW4KUB53P8DCMQpQGIBC6Us0ClASqA3VpPcKUAIQW4VPOkpQHTXgcsm9ilAOXdlTFMDKkCN1WVXwRAqQAKNZpdwHipA3BYjo2AsKkDzbHP9kDoqQHBGlBUBSSpAQOFyR7BXKkBcSfzbnWYqQKYOcAnJdSpAWFm28zCFKkDBTLms1JQqQDqnwTSzpCpA5o3Wesu0KkA5ciBdHMUqQPD+Tqmk1SpAQ/kBHWPmKkA+AzVmVvcqQPsqriN9CCtAujJv5dUZK0DzfCktXysrQByHtG4XPStAy92GEP1OK0DdczFsDmErQLRG3c5JcytAZjjLea2FK0ALCdaiN5grQLlX9nTmqitAR5PIELi9K0AEwxSNqtArQN0OWPe74ytAY+5PVOr2K0Dj5YagMwosQEm44tCVHSxAkPQz0w4xLEArxcaOnEQsQH3n9OQ8WCxAqbG4se1rLEBfDEHMrH8sQHZGhgd4kyxAA6jfMk2nLEAgqpkaKrssQC+5jIgMzyxAWma0RPLiLED57cYV2fYsQNf3zMG+Ci1AYXa5DqEeLUAQigHDfTItQPRNNKZSRi1An3KSgR1aLUCNjKUg3G0tQDP71lGMgS1A/00G5yuVLUCcDB+2uKgtQPjHrZkwvC1Ad1l0cZHPLUAxNv0i2eItQNq7LZoF9i1AiF3XyRQJLkBIlkesBBwuQBKI1kPTLi5AmS10m35BLkCxBTTHBFQuQHof1+RjZi5Aj25UHJp4LkCrTl+gpYouQOse7K6EnC5AdNyykTWuLkBbpa+etr8uQFkMoTgG0S5AiiaEzyLiLkDVPA7hCvMuQLYKJPm8Ay9A3XROsjcUL0Axoiy2eSQvQHRi472BNC9A8s2Jkk5EL0BICpMN31MvQKYgNRkyYy9AidLMsEZyL0AqWj7hG4EvQJ4EU8mwjy9AA5QTmgSeL0B8WB+XFqwvQKnv/xbmuS9AM5p5g3LHL0A+GNhZu9QvQI39NyvA4S9AHW/MnIDuL0BMPCFo/PovQC6jrK2ZAzBA1ZS0rJIJMEBGDictaQ8wQDZ8oDUdFTBAHbFy164aMEAMhLouHiAwQFh1c2JrJTBAjFSJpJYqMECX4+cxoC8wQFRziFKINDBA63V9WU85MEDpA/yk9T0wQCJRY557QjBA+g5CuuFGMEDJuVl4KEswQJbPn2NQTzBApO48ElpTMECb2oklRlcwQJNnCkoVWzBAZkpmN8heMEA8zl+wX2IwQHxvyILcZTBAn1xzhz9pMEDc3SWiiWwwQNmkhcG7bzBA4wUF39ZyMEDAHM3+23UwQBffpS/MeDBAPR/ciqh7MEA6giU0cn4wQDNsglkqgTBA9uYdM9KDMEBwhisDa4YwQGJPwxX2iDBA16S7wHSLMEBVQYFj6I0wQOVA7WZSkDBAp0EZPbSSMECUoDFhD5UwQNvYRVdllzBAGQwXrLeZMEBjuuT0B5wwQBaxN89XnjBA8Ter4KigMEALhLTW/KIwQLV4aGZVpTBAeL4/TLSnMEDIONlLG6owQD7jui+MrDBAVB8RyQivMEAufGzvkrEwQOEBfoAstDBAKwrSX9e2MEC/sIl2lbkwQG/lErNovDBA6irfCFO/MEDEDBlwVsIwQO1XWOV0xTBA3SBVabDIMEDfopkAC8wwQEUEM7OGzzBAXAthjCXTMEA80ESa6dYwQLR3ju3U2jBAxAMqmeneMEBcRuuxKeMwQPYCOU6X5zBANEy3hTTsMEBuKvFwA/EwQIyYASkG9jBAYeQ7xz77MEApgNNkrwAxQLZSgxpaBjFA8JM0AEEMMUCgQ6UsZhIxQElIDrXLGDFAGETJrHMfMUAJLvYkYCYxQFK9ICyTLTFAUrXlzQ41MUA3IJgS1TwxQK6G5v7nRDFA9DKAk0lNMUCTjbrM+1UxQC6iNqIAXzFA0NqGBlpoMUDz/9TmCXIxQNGLiCoSfDFAKl/tsnSGMUDt5dpaM5ExQBa6W/ZPnDFA29JVUsynMUCBTjM0qrMxQPXki1nrvzFAIBHPd5HMMUAS/+47ntkxQO1MDEoT5zFAQ6wiPfL0MUDFcbamPAMyQLIggw70ETJAtf8q8hkhMkBfxOfErzAyQJRiPO+2QDJA/AyozjBRMkBPc1q1HmIyQGtL6emBczJAsjEHp1uFMkAf7TsbrZcyQG8jnmh3qjJAPomOpLu9MkA6mnTXetEyQMvkfPy15TJA4vRYAW76MkAK6QDGow8zQMe8dhxYJTNAEVOLyIs7M0BtS6V/P1IzQPariehzaTNAZWommymBM0DR3V4gYZkzQMsi2vEasjNAAXvTeVfLM0BrsewSF+UzQLSLAgha/zNAT1EDlCAaNEBOcMfhajU0QNlH7As5UTRAwB+xHIttNEBsVNYNYYo0QAu+fsi6pzRAkVkTJZjFNEDjOSnr+OM0QPvGadHcAjVAzFB9fUMiNUAE+/eDLEI1QM0GSWiXYjVA+36snIODNUAOSx+C8KQ1QN6sVWjdxjVAiiy0jUnpNUDu9UofNAw2QGOq0zicLzZAaqmx5IBTNkBb0vQb4Xc2QM/AXsa7nDZAa4Vqug/CNkDc21a92+c2QO3eMoMeDjdA+jrtrtY0N0Ch3mXSAlw3QJEpgm6hgzdAYZhD87CrN0Ce7OC/L9Q3QFvP4SIc/TdAfuw8WnQmOECdhHiTNlA4QLdyzetgejhA/6JMcPGkOEA/9wYe5s84QDqVN+I8+zhAHZtwmvMmOUBvNcoUCFM5QM0RFBB4fzlAeCkJPEGsOUAa3oU5Ydk5QANjwJrVBjpAymyD45s0OkCeIGuJsWI6QM08JPQTkTpA7XKtfcC/OkB/7JpytO46QPzxWxLtHTtARKyCj2dNO0Dw9w0QIX07QKtBta0WrTtAkWI2dkXdO0APc6Vrqg08QJyKvoRCPjxAXGI5rQpvPEAZ0B7G/588QFgPIKYe0TxAW83vGWQCPUAW7ZzkzDM9QKX37r9VZT1AcC3EXPuWPUBRLHFjusg9QD0eInSP+j1ARWQ9J3csPkASsccNbl4+QP6FybFwkD5AygW2lnvCPkBmD9M5i/Q+QFqTohKcJj9AGhZNk6pYP0AjUQ0ps4o/QPLknDyyvD9AXg2iMqTuP0DzJA+2QhBAQKr1biMpKUBA3Tv0jgNCQEAR6/gk0FpAQEUZ5hCNc0BAg0VtfTiMQEB568GU0KRAQBhc04BTvUBAvtOGa7/VQEDfxfF+Eu5AQFdWlOVKBkFAm/iTymYeQUCYLPZZZDZBQH9R28BBTkFAV4a5Lf1lQUBakJfQlH1BQAa/R9sGlUFA5MWigVGsQUDZg8L5csNBQP+vPHxp2kFA8GNdRDPxQUBle2GQzgdCQCnBsKE5HkJAPuEXvXI0QkBKGAIreEpCQCKYsjdIYEJAo5l9M+F1QkC9EwFzQYtCQOgPXU9noEJACJRrJlG1QkD9Gfha/clCQBuN9lRq3kJAtsW5gZbyQkA3eylUgAZDQBKl90QmGkNABEPV0oYtQ0BJhaaCoEBDQDFNtt9xU0NA+f7oe/llQ0CFne7vNXhDQPEodNslikNA3zhU5cebQ0CPy8a7Gq1DQO9CkBQdvkNA3ogvrc3OQ0D2UwtLK99DQGyGnrs070NAeqCj1Oj+Q0AmQD90Rg5EQC+oKYFMHURAA0jX6vkrRED4PqCpTTpEQNDU5r5GSERACuI8NeRVREBtIoggJWNEQFxsJZ4IcERA5scK1Y18REBXYOj1s4hEQGdLSDt6lERAUiGt6d+fREAzYa9P5KpEQB2dGcaGtURAyWkDsMa/RECnDet6o8lEQEvrzZ4c00RAnqM/njHcRED3638G4uREQO8Uj28t7URAXj5BfBP1REC9NVDak/xEQL37a0KuA0VAn+5JeGIKRUBhlrJKsBBFQOcQjpOXFkVAaxvvNxgcRUCttxwoMiFFQMJqml/lJUVAIRQv5TEqRUBPW+rKFy5FQD2zKC6XMUVA7PGVN7A0RUDoey4bYzdFQJwCPxiwOUVAWtVieZc7RUCOxICUGT1FQFKXxso2PkVATxOjiO8+RUBhl75FRD9FQHNJ8oQ1P0VAY9g91MM+RUCz0rvM7z1FQF+TlBK6PEVA18XvVCM7RUD3guRNLDlFQFcIaMLVNkVAJgw7giA0RUBer9VnDTFFQNEQUlidLUVAR4NVQ9EpRUCXafgiqiVFQEa7rPsoIUVA+TQj3E4cRUCfNy/dHBdFQAZaqSGUEUVAHLBQ1rULRUDby6oxgwVFQJd74nP9/kRA6kml5iX4REBkw//c/fBEQH+GOLOG6URAZCKqzsHhREBeyZudsNlEQKbbGJdU0URABlDHOq/IREAe/7wQwr9EQArXU6mOtkRAwvz8nBatRED74BKMW6NEQFROqh5fmURA1nZiBCOPREDhBjT0qIREQMhDP6zyeURAdDyZ8QFvRECsEhiQ2GNEQI1jHlp4WERAEdZlKONMREBg1sjZGkFEQBaFC1MhNURAeeGjfvgoREDwNYFMohxEQO7N0rEgEERA5PzNqHUDRECMfXMwo/ZDQFwxVEyr6UNApEdVBJDcQ0BD1HNkU89DQKPdh3z3wUNAJ+oGYH60Q0CvFMYl6qZDQLKwu+c8mUNAm4XAwniLQ0D7qVDWn31DQH4GTES0b0NAHom2MLhhQ0DIEHjBrVNDQOcZHB6XRUNAHzSRb3Y3Q0DESejfTSlDQF/BE5ofG0NA6oGmye0MQ0D24ZKauv5CQJKK6TiI8EJAJ1aY0FjiQkACNCmNLtRCQO4YgZkLxkJAaQWfH/K3QkDwKVtI5KlCQNwxJjvkm0JAOL3IHfSNQkASEiMUFoBCQIwN7T9MckJAN112wJhkQkDLCGey/VZCQMVUgC99SUJA8gVeThk8QkA6Djgi1C5CQJmqpLqvIUJAn/paI64UQkATGfZj0QdCQAy+uH8b+0FA/nFRdY7uQUDGWZ8+LOJBQCSjd9D21UFAhZlrGvDJQUBOao8GGr5BQFqgQXl2skFAv13zUAenQUA/W/FlzptBQFi0LYrNkEFAFYcKiQaGQUBQbiUne3tBQGTdIyItcUFAsmOAMB5nQUCt3lgBUF1BQKugPTzEU0FA3pIBgXxKQUBcWItnekFBQG14p3+/OEFAvpXbUE0wQUBRuDpaJShBQI+vOhJJIEFA95GK5rkYQUCSX+o7eRFBQGXMA26ICkFAezdEz+gDQUCz07eom/1AQG0G5jmi90BABgGvuP3xQEDUmCpRr+xAQDliiCW450BAUBLxTRnjQEAlK2nY095AQOv1tMjo2kBAnM49GFnXQEAfxPi1JdRAQAuQToZP0UBAyOgEY9fOQECnMCkbvsxAQIKE/HIEy0BA/SvhI6vJQECSbUncsshAQETIpz8cyEBAlpRg5ufHQEBSDr1dFshAQHDI3yeoyEBAF4y6u53JQEDSowWF98pAQG+TOOS1zEBAUT2ELtnOQEA+dc6tYdFAQBEBr6BP1EBA+AZuOqPXQEA06QOjXNtAQLuOGvd730BALRgQSAHkQEAyAPub7OhAQEGmr+097kBAjELHLPXzQECfQag9EvpAQC4GkPmUAEFAEA+eLn0HQUChf+Cfyg5BQCoIYgV9FkFAHCw5DJQeQUBj45hWDydBQCuU4nvuL0FAQmK5CDE5QUDE0BZ/1kJBQPyyYFbeTEFA62iA+0dXQUDlY/vQEmJBQGLvDC8+bUFAHDrBY8l4QUBWmxGzs4RBQPMPAlf8kEFA5eq/f6KdQUB0tMFTpapBQGEz6O8DuEFAKJugZ73FQUAi2gfF0NNBQGkCDwk94kFAEcigKwHxQUAnD8gbHABCQNmD17+MD0JABTeS9VEfQkAXOVWSai9CQGUtQmPVP0JAmM9qLZFQQkAUZf2tnGFCQLcTcpr2ckJAjBe5oJ2EQkDC0GlnkJZCQByj8o3NqEJADKDJrFO7QkB19J1VIc5CQAgTihM14UJALJRGa430QkAIxF3bKAhDQJjXX9wFHENAL8EX4SIwQ0AQncBWfkRDQIiuO6UWWUNA7OVGL+ptQ0De57NS94JDQPmNn2g8mENAQ9mpxbetQ0CITi66Z8NDQJ20fJJK2UNA2CwSl17vQ0CVndIMogVEQN1mQjUTHERATFnATrAyREDw5r+Ud0lEQFCGA0BnYERAXz/Xhn13REBZWkuduI5EQIgob7UWpkRArN6L/5W9REA2eV+qNNVEQPyhV+Pw7ERAm4/M1sgERUBN1juwuhxFQFgig5rENEVA+dMawORMRUDwdFBLGWVFQKT/gGZgfUVAN/BSPLiVRUBnF/D3Hq5FQMgnP8WSxkVAUvUc0RHfRUDFX5VJmvdFQDjgG14qEEZAULLDP8AoRkCVkXchWkFGQI4DMTj2WUZASicvu5JyRkAhAy3kLYtGQHdJl+/Fo0ZAi43BHFm8RkAy4Rqu5dRGQMfUYelp7UZAd9LXF+QFR0A5znOGUh5HQAFEFIazNkdAkH2wawVPR0CxGYmQRmdHQKTOV1J1f0dAlWF+E5CXR0BDzTQ7la9HQN+RtjWDx0dAjihvdFjfR0DulCVuE/dHQDsPJ5+yDkhAvcFwiTQmSEBnlNi0lz1IQKoBNa/aVEhAi++DDPxrSEB3iBBn+oJIQBUPmF/UmUhA7KhtnYiwSEBmG53OFcdIQFZ3DKh63UhA/66c5bXzSEDkEklKxglJQMOxRaCqH0lAepgcuWE1SUBd7slt6kpJQDHr1p5DYElAv6NzNGx1SUBKqo8eY4pJQGyA8VQnn0lABdhM17ezSUD0oFetE8hJQK3h3eY53ElA2VjUmynwSUBP5mns4QNKQP65FwFiF0pAgEewCqkqSkAt/WxCtj1KQOC9+umIUEpAmByFSyBjSkB7WcC5e3VKQNwf8o+ah0pACgX5MXyZSkD2x1IMIKtKQORRIZSFvEpAZXguR6zNSkBage6rk95KQI5pgVE770pA4+6yz6L/SkAzX/nGyQ9LQA0tc+CvH0tA40vjzVQvS0A6VaxJuD5LQJZ4yhbaTUtAPTjMALpcS0Dj9MnbV2tLQI9KXISzeUtAQUGR38yHS0DwU+Dao5VLQNFQHWw4o0tAsxVqkYqwS0DKKydRmr1LQBJG47lnyktAz6VJ4vLWS0DTaA/pO+NLQDjF3/RC70tAjTZHNAj7S0CMoJ3diwZMQIBr7y7OEUxAxZ7lbc8cTEDh/aznjydMQM8s3PAPMkxAWuBY5U88TEBTHzwoUEZMQLyZtSMRUExAGBvuSJNZTEAEHekP12JMQL9/Zffca0xA2229hKV0TEDpcMVDMX1MQOG8qsaAhUxA5LfQpZSNTECcxK1/bZVMQP1Up/gLnUxAqEvtunCkTEA9slR2nKtMQLLKMeCPskxAW4Ixs0u5TEDkTDKv0L9MQN1tHJkfxkxAi7e5OjnMTEB0xYxiHtJMQMC5p+PP10xA0IOClU7dTEBIt9BTm+JMQED6Vv6250xAlBHAeKLsTEB0knGqXvFMQBRAYH7s9UxAohzk4kz6TECxNIzJgP5MQAMs8iaJAk1AFpON8mYGTUBuDIcmGwpNQN9Ii7+mDU1ACeKdvAoRTUAnGuweSBRNQHCIn+lfF01AK7mwIVMaTUC2yLnNIh1NQI8AyfXPH01AlX0zo1siTUCr5mfgxiRNQK86wbgSJ01A9rxZOEApTUBhB95rUCtNQMpIYGBELU1AFbcrIx0vTUByO5jB2zBNQPFf3kiBMk1AF4XrxQ40TUAdZjZFhTVNQLTyk9LlNk1AvoQMeTE4TUCgeLFCaTlNQKcucziOOk1AtXv3YaE7TUDXj3DFozxNQJ5YdGeWPU1AomXUSno+TUAgVXZwUD9NQIrOLNcZQE1AIBGRe9dATUD6G91XikFNQHd1xmMzQk1AXZdZlNNCTUAhBdbba0NNQL0Riyn9Q01ADVq1aYhETUDs+FyFDkVNQPR5NGKQRU1AkI944g5GTUA7kdDkikZNQEPGL0QFR01Ao4G3135HTUAUE5py+EdNQIWR/uNySE1A7ILl9u5ITUBJZQ5ybUlNQI4c3hfvSU1A5UhGpnRKTUDIiK3W/kpNQBiq2F2OS01ASc3U6yNMTUCbfeIrwExNQATBYcRjTU1AjCK/Vg9OTUBWuWF/w05NQOUumtWAT01AZMaS60dQTUAwZ0BOGVFNQDKsVIX1UU1AyfkwE91STUCom9p00FNNQOrr7yHQVE1AgYSejNxVTUDye5oh9lZNQA2uFkgdWE1AUxG+YVJZTUBxGa7KlVpNQP8mctnnW01AsgQA30hdTUDXcbUmuV5NQOe5VvY4YE1AtlgOjshhTUCrqm0oaGNNQEWobvoXZU1A8at2M9hmTUAaQVr9qGhNQD/7YXyKak1Ad1NQz3xsTUALi2gPgG5NQBKRdlCUcE1AaOnXoLlyTUDCkoUJ8HRNQKzpHo43d01ACob1LJB5TUB+EBrf+XtNQBwNaph0fk1AYpieRwCBTUCGE1zWnINNQAG9QilKhk1AxDEAIAiJTUD702GV1otNQGkTaF+1jk1A2pNaT6SRTUCtLd0xo5RNQHbEBc+xl01Aie9y6s+aTUA2cGND/Z1NQCxxzpQ5oU1AnIp8lYSkTUBWhiH43adNQCLfdmtFq01AefZWmrquTUB3+9grPbJNQCB+bcPMtU1Adan7AGm5TUBEH/+AEb1NQCZwptzFwE1ADCryqYXETUD8d9R7UMhNQO1MUeIlzE1AWBSfagXQTUA74kef7tNNQOEcSwjh101ARJo/K9zbTUDZKnaL399NQM6LHKrq401ATLpgBv3nTUB2oZQdFuxNQO0cUms18E1ALkmfaVr0TUCfGxORhPhNQIs7+liz/E1AmBV8N+YATkBII8ChHAVOQIZfEwxWCU5AEeIN6pENTkDHmriuzxFOQDAms8wOFk5AwbRZtk4aTkDW/erdjh5OQO83rrXOIk5AXQ8ZsA0nTkCBlPU/SytOQDgbiNiGL05AYwS17b8zTkAeayb09TdOQNmucWEoPE5AndM8rFZATkAdsmNMgEROQIjwHLukSE5AFr4ec8NMTkBLSsPw21BOQMDxLLLtVE5A9BlqN/hYTkCZtZgC+1xOQE5rCZj1YE5APVhifudkTkA=",
          "dtype": "f8"
         }
        },
        {
         "hovertemplate": "<b>Время:</b> %{x} мин<br><b>Скорость:</b> %{y:.1f} км/ч<br><extra></extra>",
         "marker": {
          "color": "#ef4444",
          "line": {
           "color": "white",
           "width": 2
          },
          "size": 12,
          "symbol": "circle"
         },
         "mode": "markers+text",
         "name": "Ключевые точки",
         "text": [
          "5 км/ч",
          "16 км/ч",
          "41 км/ч",
          "46 км/ч",
          "61 км/ч"
         ],
         "textfont": {
          "color": "#374151",
          "size": 12
         },
         "textposition": "top center",
         "type": "scatter",
         "x": [
          0,
          5,
          10,
          15,
          20
         ],
         "y": [
          5.0,
          16.181166872911426,
          41.377008782763454,
          45.9026326247895,
          60.78831462671267
         ]
        }
       ],
       "layout": {
        "annotations": [
         {
          "bgcolor": "rgba(99, 102, 241, 0.1)",
          "bordercolor": "#6366f1",
          "borderpad": 4,
          "borderwidth": 1,
          "font": {
           "color": "#6366f1",
           "size": 18
          },
          "showarrow": false,
          "text": "f(t) = 3t + 2",
          "x": 0.5,
          "xref": "paper",
          "y": 0.85,
          "yref": "paper"
         },
         {
          "align": "center",
          "font": {
           "color": "#6b7280",
           "size": 14
          },
          "showarrow": false,
          "text": "Начальная скорость: 2 км/ч<br>Увеличение: 3 км/ч за каждую минуту",
          "x": 0.05,
          "xref": "paper",
          "y": 0.75,
          "yref": "paper"
         }
        ],
        "font": {
         "family": "Arial, sans-serif"
        },
        "hovermode": "x unified",
        "legend": {
         "bgcolor": "rgba(255,255,255,0.8)",
         "bordercolor": "rgba(0,0,0,0.1)",
         "borderwidth": 1,
         "x": 0.02,
         "y": 0.98
        },
        "margin": {
         "b": 80,
         "l": 80,
         "r": 80,
         "t": 100
        },
        "paper_bgcolor": "white",
        "plot_bgcolor": "white",
        "showlegend": true,
        "template": {
         "data": {
          "bar": [
           {
            "error_x": {
             "color": "#2a3f5f"
            },
            "error_y": {
             "color": "#2a3f5f"
            },
            "marker": {
             "line": {
              "color": "#E5ECF6",
              "width": 0.5
             },
             "pattern": {
              "fillmode": "overlay",
              "size": 10,
              "solidity": 0.2
             }
            },
            "type": "bar"
           }
          ],
          "barpolar": [
           {
            "marker": {
             "line": {
              "color": "#E5ECF6",
              "width": 0.5
             },
             "pattern": {
              "fillmode": "overlay",
              "size": 10,
              "solidity": 0.2
             }
            },
            "type": "barpolar"
           }
          ],
          "carpet": [
           {
            "aaxis": {
             "endlinecolor": "#2a3f5f",
             "gridcolor": "white",
             "linecolor": "white",
             "minorgridcolor": "white",
             "startlinecolor": "#2a3f5f"
            },
            "baxis": {
             "endlinecolor": "#2a3f5f",
             "gridcolor": "white",
             "linecolor": "white",
             "minorgridcolor": "white",
             "startlinecolor": "#2a3f5f"
            },
            "type": "carpet"
           }
          ],
          "choropleth": [
           {
            "colorbar": {
             "outlinewidth": 0,
             "ticks": ""
            },
            "type": "choropleth"
           }
          ],
          "contour": [
           {
            "colorbar": {
             "outlinewidth": 0,
             "ticks": ""
            },
            "colorscale": [
             [
              0.0,
              "#0d0887"
             ],
             [
              0.1111111111111111,
              "#46039f"
             ],
             [
              0.2222222222222222,
              "#7201a8"
             ],
             [
              0.3333333333333333,
              "#9c179e"
             ],
             [
              0.4444444444444444,
              "#bd3786"
             ],
             [
              0.5555555555555556,
              "#d8576b"
             ],
             [
              0.6666666666666666,
              "#ed7953"
             ],
             [
              0.7777777777777778,
              "#fb9f3a"
             ],
             [
              0.8888888888888888,
              "#fdca26"
             ],
             [
              1.0,
              "#f0f921"
             ]
            ],
            "type": "contour"
           }
          ],
          "contourcarpet": [
           {
            "colorbar": {
             "outlinewidth": 0,
             "ticks": ""
            },
            "type": "contourcarpet"
           }
          ],
          "heatmap": [
           {
            "colorbar": {
             "outlinewidth": 0,
             "ticks": ""
            },
            "colorscale": [
             [
              0.0,
              "#0d0887"
             ],
             [
              0.1111111111111111,
              "#46039f"
             ],
             [
              0.2222222222222222,
              "#7201a8"
             ],
             [
              0.3333333333333333,
              "#9c179e"
             ],
             [
              0.4444444444444444,
              "#bd3786"
             ],
             [
              0.5555555555555556,
              "#d8576b"
             ],
             [
              0.6666666666666666,
              "#ed7953"
             ],
             [
              0.7777777777777778,
              "#fb9f3a"
             ],
             [
              0.8888888888888888,
              "#fdca26"
             ],
             [
              1.0,
              "#f0f921"
             ]
            ],
            "type": "heatmap"
           }
          ],
          "histogram": [
           {
            "marker": {
             "pattern": {
              "fillmode": "overlay",
              "size": 10,
              "solidity": 0.2
             }
            },
            "type": "histogram"
           }
          ],
          "histogram2d": [
           {
            "colorbar": {
             "outlinewidth": 0,
             "ticks": ""
            },
            "colorscale": [
             [
              0.0,
              "#0d0887"
             ],
             [
              0.1111111111111111,
              "#46039f"
             ],
             [
              0.2222222222222222,
              "#7201a8"
             ],
             [
              0.3333333333333333,
              "#9c179e"
             ],
             [
              0.4444444444444444,
              "#bd3786"
             ],
             [
              0.5555555555555556,
              "#d8576b"
             ],
             [
              0.6666666666666666,
              "#ed7953"
             ],
             [
              0.7777777777777778,
              "#fb9f3a"
             ],
             [
              0.8888888888888888,
              "#fdca26"
             ],
             [
              1.0,
              "#f0f921"
             ]
            ],
            "type": "histogram2d"
           }
          ],
          "histogram2dcontour": [
           {
            "colorbar": {
             "outlinewidth": 0,
             "ticks": ""
            },
            "colorscale": [
             [
              0.0,
              "#0d0887"
             ],
             [
              0.1111111111111111,
              "#46039f"
             ],
             [
              0.2222222222222222,
              "#7201a8"
             ],
             [
              0.3333333333333333,
              "#9c179e"
             ],
             [
              0.4444444444444444,
              "#bd3786"
             ],
             [
              0.5555555555555556,
              "#d8576b"
             ],
             [
              0.6666666666666666,
              "#ed7953"
             ],
             [
              0.7777777777777778,
              "#fb9f3a"
             ],
             [
              0.8888888888888888,
              "#fdca26"
             ],
             [
              1.0,
              "#f0f921"
             ]
            ],
            "type": "histogram2dcontour"
           }
          ],
          "mesh3d": [
           {
            "colorbar": {
             "outlinewidth": 0,
             "ticks": ""
            },
            "type": "mesh3d"
           }
          ],
          "parcoords": [
           {
            "line": {
             "colorbar": {
              "outlinewidth": 0,
              "ticks": ""
             }
            },
            "type": "parcoords"
           }
          ],
          "pie": [
           {
            "automargin": true,
            "type": "pie"
           }
          ],
          "scatter": [
           {
            "fillpattern": {
             "fillmode": "overlay",
             "size": 10,
             "solidity": 0.2
            },
            "type": "scatter"
           }
          ],
          "scatter3d": [
           {
            "line": {
             "colorbar": {
              "outlinewidth": 0,
              "ticks": ""
             }
            },
            "marker": {
             "colorbar": {
              "outlinewidth": 0,
              "ticks": ""
             }
            },
            "type": "scatter3d"
           }
          ],
          "scattercarpet": [
           {
            "marker": {
             "colorbar": {
              "outlinewidth": 0,
              "ticks": ""
             }
            },
            "type": "scattercarpet"
           }
          ],
          "scattergeo": [
           {
            "marker": {
             "colorbar": {
              "outlinewidth": 0,
              "ticks": ""
             }
            },
            "type": "scattergeo"
           }
          ],
          "scattergl": [
           {
            "marker": {
             "colorbar": {
              "outlinewidth": 0,
              "ticks": ""
             }
            },
            "type": "scattergl"
           }
          ],
          "scattermap": [
           {
            "marker": {
             "colorbar": {
              "outlinewidth": 0,
              "ticks": ""
             }
            },
            "type": "scattermap"
           }
          ],
          "scattermapbox": [
           {
            "marker": {
             "colorbar": {
              "outlinewidth": 0,
              "ticks": ""
             }
            },
            "type": "scattermapbox"
           }
          ],
          "scatterpolar": [
           {
            "marker": {
             "colorbar": {
              "outlinewidth": 0,
              "ticks": ""
             }
            },
            "type": "scatterpolar"
           }
          ],
          "scatterpolargl": [
           {
            "marker": {
             "colorbar": {
              "outlinewidth": 0,
              "ticks": ""
             }
            },
            "type": "scatterpolargl"
           }
          ],
          "scatterternary": [
           {
            "marker": {
             "colorbar": {
              "outlinewidth": 0,
              "ticks": ""
             }
            },
            "type": "scatterternary"
           }
          ],
          "surface": [
           {
            "colorbar": {
             "outlinewidth": 0,
             "ticks": ""
            },
            "colorscale": [
             [
              0.0,
              "#0d0887"
             ],
             [
              0.1111111111111111,
              "#46039f"
             ],
             [
              0.2222222222222222,
              "#7201a8"
             ],
             [
              0.3333333333333333,
              "#9c179e"
             ],
             [
              0.4444444444444444,
              "#bd3786"
             ],
             [
              0.5555555555555556,
              "#d8576b"
             ],
             [
              0.6666666666666666,
              "#ed7953"
             ],
             [
              0.7777777777777778,
              "#fb9f3a"
             ],
             [
              0.8888888888888888,
              "#fdca26"
             ],
             [
              1.0,
              "#f0f921"
             ]
            ],
            "type": "surface"
           }
          ],
          "table": [
           {
            "cells": {
             "fill": {
              "color": "#EBF0F8"
             },
             "line": {
              "color": "white"
             }
            },
            "header": {
             "fill": {
              "color": "#C8D4E3"
             },
             "line": {
              "color": "white"
             }
            },
            "type": "table"
           }
          ]
         },
         "layout": {
          "annotationdefaults": {
           "arrowcolor": "#2a3f5f",
           "arrowhead": 0,
           "arrowwidth": 1
          },
          "autotypenumbers": "strict",
          "coloraxis": {
           "colorbar": {
            "outlinewidth": 0,
            "ticks": ""
           }
          },
          "colorscale": {
           "diverging": [
            [
             0,
             "#8e0152"
            ],
            [
             0.1,
             "#c51b7d"
            ],
            [
             0.2,
             "#de77ae"
            ],
            [
             0.3,
             "#f1b6da"
            ],
            [
             0.4,
             "#fde0ef"
            ],
            [
             0.5,
             "#f7f7f7"
            ],
            [
             0.6,
             "#e6f5d0"
            ],
            [
             0.7,
             "#b8e186"
            ],
            [
             0.8,
             "#7fbc41"
            ],
            [
             0.9,
             "#4d9221"
            ],
            [
             1,
             "#276419"
            ]
           ],
           "sequential": [
            [
             0.0,
             "#0d0887"
            ],
            [
             0.1111111111111111,
             "#46039f"
            ],
            [
             0.2222222222222222,
             "#7201a8"
            ],
            [
             0.3333333333333333,
             "#9c179e"
            ],
            [
             0.4444444444444444,
             "#bd3786"
            ],
            [
             0.5555555555555556,
             "#d8576b"
            ],
            [
             0.6666666666666666,
             "#ed7953"
            ],
            [
             0.7777777777777778,
             "#fb9f3a"
            ],
            [
             0.8888888888888888,
             "#fdca26"
            ],
            [
             1.0,
             "#f0f921"
            ]
           ],
           "sequentialminus": [
            [
             0.0,
             "#0d0887"
            ],
            [
             0.1111111111111111,
             "#46039f"
            ],
            [
             0.2222222222222222,
             "#7201a8"
            ],
            [
             0.3333333333333333,
             "#9c179e"
            ],
            [
             0.4444444444444444,
             "#bd3786"
            ],
            [
             0.5555555555555556,
             "#d8576b"
            ],
            [
             0.6666666666666666,
             "#ed7953"
            ],
            [
             0.7777777777777778,
             "#fb9f3a"
            ],
            [
             0.8888888888888888,
             "#fdca26"
            ],
            [
             1.0,
             "#f0f921"
            ]
           ]
          },
          "colorway": [
           "#636efa",
           "#EF553B",
           "#00cc96",
           "#ab63fa",
           "#FFA15A",
           "#19d3f3",
           "#FF6692",
           "#B6E880",
           "#FF97FF",
           "#FECB52"
          ],
          "font": {
           "color": "#2a3f5f"
          },
          "geo": {
           "bgcolor": "white",
           "lakecolor": "white",
           "landcolor": "#E5ECF6",
           "showlakes": true,
           "showland": true,
           "subunitcolor": "white"
          },
          "hoverlabel": {
           "align": "left"
          },
          "hovermode": "closest",
          "mapbox": {
           "style": "light"
          },
          "paper_bgcolor": "white",
          "plot_bgcolor": "#E5ECF6",
          "polar": {
           "angularaxis": {
            "gridcolor": "white",
            "linecolor": "white",
            "ticks": ""
           },
           "bgcolor": "#E5ECF6",
           "radialaxis": {
            "gridcolor": "white",
            "linecolor": "white",
            "ticks": ""
           }
          },
          "scene": {
           "xaxis": {
            "backgroundcolor": "#E5ECF6",
            "gridcolor": "white",
            "gridwidth": 2,
            "linecolor": "white",
            "showbackground": true,
            "ticks": "",
            "zerolinecolor": "white"
           },
           "yaxis": {
            "backgroundcolor": "#E5ECF6",
            "gridcolor": "white",
            "gridwidth": 2,
            "linecolor": "white",
            "showbackground": true,
            "ticks": "",
            "zerolinecolor": "white"
           },
           "zaxis": {
            "backgroundcolor": "#E5ECF6",
            "gridcolor": "white",
            "gridwidth": 2,
            "linecolor": "white",
            "showbackground": true,
            "ticks": "",
            "zerolinecolor": "white"
           }
          },
          "shapedefaults": {
           "line": {
            "color": "#2a3f5f"
           }
          },
          "ternary": {
           "aaxis": {
            "gridcolor": "white",
            "linecolor": "white",
            "ticks": ""
           },
           "baxis": {
            "gridcolor": "white",
            "linecolor": "white",
            "ticks": ""
           },
           "bgcolor": "#E5ECF6",
           "caxis": {
            "gridcolor": "white",
            "linecolor": "white",
            "ticks": ""
           }
          },
          "title": {
           "x": 0.05
          },
          "xaxis": {
           "automargin": true,
           "gridcolor": "white",
           "linecolor": "white",
           "ticks": "",
           "title": {
            "standoff": 15
           },
           "zerolinecolor": "white",
           "zerolinewidth": 2
          },
          "yaxis": {
           "automargin": true,
           "gridcolor": "white",
           "linecolor": "white",
           "ticks": "",
           "title": {
            "standoff": 15
           },
           "zerolinecolor": "white",
           "zerolinewidth": 2
          }
         }
        },
        "title": {
         "font": {
          "color": "#1f2937",
          "size": 24
         },
         "text": "🚴 Скорость велосипеда в зависимости от времени",
         "x": 0.5,
         "y": 0.95
        },
        "xaxis": {
         "gridcolor": "rgba(0,0,0,0.1)",
         "range": [
          0,
          20
         ],
         "showgrid": true,
         "title": {
          "font": {
           "color": "#374151",
           "size": 16
          },
          "text": "Время (минуты)"
         },
         "zerolinecolor": "rgba(0,0,0,0.2)"
        },
        "yaxis": {
         "gridcolor": "rgba(0,0,0,0.1)",
         "range": [
          0,
          65
         ],
         "showgrid": true,
         "title": {
          "font": {
           "color": "#374151",
           "size": 16
          },
          "text": "Скорость (км/ч)"
         },
         "zerolinecolor": "rgba(0,0,0,0.2)"
        }
       }
      }
     },
     "metadata": {},
     "output_type": "display_data"
    },
    {
     "data": {
      "text/markdown": [
       "\n",
       "<div class=\"plotly-plot\">\n",
       "    <iframe src=\"_static/plots/speed_plot.html\" width=\"100%\" height=\"600px\" frameborder=\"0\"></iframe>\n",
       "</div>\n"
      ],
      "text/plain": [
       "<IPython.core.display.Markdown object>"
      ]
     },
     "metadata": {},
     "output_type": "display_data"
    }
   ],
   "source": [
    "# Импорт библиотек\n",
    "import numpy as np\n",
    "import plotly.graph_objects as go\n",
    "import plotly.express as px\n",
    "from plotly.subplots import make_subplots\n",
    "import os\n",
    "\n",
    "def create_speed_function(t):\n",
    "    \"\"\"\n",
    "    Функция скорости велосипеда с сильными изгибами\n",
    "    Args:\n",
    "        t: время в минутах\n",
    "    Returns:\n",
    "        Скорость в км/ч\n",
    "    \"\"\"\n",
    "    # Создаем сложную кривую с крутыми изгибами\n",
    "    base = 3 * t + 2  # Базовый линейный тренд\n",
    "    wave1 = 5 * np.sin(t * 0.8)  # Основная волна\n",
    "    wave2 = 3 * np.cos(t * 1.2)  # Дополнительная волна\n",
    "    steepness = 2 * np.sin(t * 0.5) * np.cos(t * 0.3)  # Компонент для крутых изгибов\n",
    "    \n",
    "    return base + wave1 + wave2 + steepness\n",
    "\n",
    "def generate_data(t_max=20, points=1000):  # Увеличили количество точек для гладкости\n",
    "    \"\"\"\n",
    "    Генерирует данные для графика\n",
    "    Args:\n",
    "        t_max: максимальное время в минутах\n",
    "        points: количество точек для плавности\n",
    "    Returns:\n",
    "        Кортеж (время, скорость)\n",
    "    \"\"\"\n",
    "    t = np.linspace(0, t_max, points)\n",
    "    v = create_speed_function(t)\n",
    "    return t, v\n",
    "\n",
    "# Генерация данных\n",
    "t, v = generate_data()\n",
    "\n",
    "# Создание основного графика\n",
    "fig = go.Figure()\n",
    "\n",
    "# Основная линия графика с градиентом\n",
    "fig.add_trace(go.Scatter(\n",
    "    x=t,\n",
    "    y=v,\n",
    "    mode='lines',\n",
    "    name='Скорость велосипеда',\n",
    "    line=dict(\n",
    "        color='#6366f1',\n",
    "        width=4,\n",
    "        shape='spline'\n",
    "    ),\n",
    "    fill='tonexty',\n",
    "    fillcolor='rgba(99, 102, 241, 0.1)',\n",
    "    hovertemplate='<b>Время:</b> %{x:.1f} мин<br>' +\n",
    "                  '<b>Скорость:</b> %{y:.1f} км/ч<br>' +\n",
    "                  '<extra></extra>'\n",
    "))\n",
    "\n",
    "# Добавление точек для ключевых значений\n",
    "key_points = [0, 5, 10, 15, 20]\n",
    "key_speeds = [create_speed_function(t) for t in key_points]\n",
    "\n",
    "fig.add_trace(go.Scatter(\n",
    "    x=key_points,\n",
    "    y=key_speeds,\n",
    "    mode='markers+text',\n",
    "    name='Ключевые точки',\n",
    "    marker=dict(\n",
    "        size=12,\n",
    "        color='#ef4444',\n",
    "        symbol='circle',\n",
    "        line=dict(color='white', width=2)\n",
    "    ),\n",
    "    text=[f'{v:.0f} км/ч' for v in key_speeds],\n",
    "    textposition='top center',\n",
    "    textfont=dict(size=12, color='#374151'),\n",
    "    hovertemplate='<b>Время:</b> %{x} мин<br>' +\n",
    "                  '<b>Скорость:</b> %{y:.1f} км/ч<br>' +\n",
    "                  '<extra></extra>'\n",
    "))\n",
    "\n",
    "# Настройка макета\n",
    "fig.update_layout(\n",
    "    title=dict(\n",
    "        text='🚴 Скорость велосипеда в зависимости от времени',\n",
    "        font=dict(size=24, color='#1f2937'),\n",
    "        x=0.5,\n",
    "        y=0.95\n",
    "    ),\n",
    "    xaxis=dict(\n",
    "        title=dict(\n",
    "            text='Время (минуты)',\n",
    "            font=dict(size=16, color='#374151')\n",
    "        ),\n",
    "        gridcolor='rgba(0,0,0,0.1)',\n",
    "        zerolinecolor='rgba(0,0,0,0.2)',\n",
    "        showgrid=True,\n",
    "        range=[0, 20]\n",
    "    ),\n",
    "    yaxis=dict(\n",
    "        title=dict(\n",
    "            text='Скорость (км/ч)',\n",
    "            font=dict(size=16, color='#374151')\n",
    "        ),\n",
    "        gridcolor='rgba(0,0,0,0.1)',\n",
    "        zerolinecolor='rgba(0,0,0,0.2)',\n",
    "        showgrid=True,\n",
    "        range=[0, 65]\n",
    "    ),\n",
    "    plot_bgcolor='white',\n",
    "    paper_bgcolor='white',\n",
    "    font=dict(family='Arial, sans-serif'),\n",
    "    showlegend=True,\n",
    "    legend=dict(\n",
    "        x=0.02,\n",
    "        y=0.98,\n",
    "        bgcolor='rgba(255,255,255,0.8)',\n",
    "        bordercolor='rgba(0,0,0,0.1)',\n",
    "        borderwidth=1\n",
    "    ),\n",
    "    margin=dict(l=80, r=80, t=100, b=80),\n",
    "    hovermode='x unified'\n",
    ")\n",
    "\n",
    "# Добавление аннотаций\n",
    "fig.add_annotation(\n",
    "    x=0.5,\n",
    "    y=0.85,\n",
    "    xref='paper',\n",
    "    yref='paper',\n",
    "    text='f(t) = 3t + 2',\n",
    "    showarrow=False,\n",
    "    font=dict(size=18, color='#6366f1'),\n",
    "    bgcolor='rgba(99, 102, 241, 0.1)',\n",
    "    bordercolor='#6366f1',\n",
    "    borderwidth=1,\n",
    "    borderpad=4\n",
    ")\n",
    "\n",
    "fig.add_annotation(\n",
    "    x=0.05,\n",
    "    y=0.75,\n",
    "    xref='paper',\n",
    "    yref='paper',\n",
    "    text='Начальная скорость: 2 км/ч<br>Увеличение: 3 км/ч за каждую минуту',\n",
    "    showarrow=False,\n",
    "    font=dict(size=14, color='#6b7280'),\n",
    "    align='center'\n",
    ")\n",
    "\n",
    "# Создаем директорию для сохранения графиков, если её нет\n",
    "os.makedirs('_static/plots', exist_ok=True)\n",
    "\n",
    "# Сохраняем график как HTML файл\n",
    "fig.write_html('_static/plots/speed_plot.html', include_plotlyjs='cdn', full_html=False)\n",
    "\n",
    "# Отображаем график в ноутбуке\n",
    "fig.show()\n",
    "\n",
    "# Создаем markdown-ячейку с встроенным графиком\n",
    "from IPython.display import Markdown\n",
    "display(Markdown(\"\"\"\n",
    "<div class=\"plotly-plot\">\n",
    "    <iframe src=\"_static/plots/speed_plot.html\" width=\"100%\" height=\"600px\" frameborder=\"0\"></iframe>\n",
    "</div>\n",
    "\"\"\"))"
   ]
  },
  {
   "cell_type": "markdown",
   "id": "1d3c9df8",
   "metadata": {},
   "source": [
    "Мы вспомнили понятие функции, и теперь давайте рассмотрим изменение скорости велосипеда в разные промежутки времени. Для этого разберём два понятия: приращение аргумента и приращение функции.\n",
    "\n",
    "Отметим на графике точки **A** и **B**, опустим из них перпендикуляры на оси **X** и **Y**. Точки пересечения этих перпендикуляров с осями будут координатами точек **A** и **B**. Пусть точка **A** имеет координаты $(x_1, y_1)$, а точка **B** — $(x_2, y_2)$:"
   ]
  },
  {
   "cell_type": "code",
   "execution_count": 2,
   "id": "c5db4b47",
   "metadata": {},
   "outputs": [
    {
     "data": {
      "application/vnd.plotly.v1+json": {
       "config": {
        "plotlyServerURL": "https://plot.ly"
       },
       "data": [
        {
         "fill": "tonexty",
         "fillcolor": "rgba(99, 102, 241, 0.1)",
         "hovertemplate": "<b>Время:</b> %{x:.1f} мин<br><b>Скорость:</b> %{y:.1f} км/ч<br><extra></extra>",
         "line": {
          "color": "#6366f1",
          "shape": "spline",
          "smoothing": 1.3,
          "width": 4
         },
         "mode": "lines",
         "name": "Скорость велосипеда",
         "type": "scatter",
         "x": {
          "bdata": "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",
          "dtype": "f8"
         },
         "y": {
          "bdata": "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",
          "dtype": "f8"
         }
        },
        {
         "hovertemplate": "<b>Точка %{text}:</b><br><b>Время:</b> %{x:.1f} мин<br><b>Скорость:</b> %{y:.1f} км/ч<br><extra></extra>",
         "marker": {
          "color": "#ef4444",
          "line": {
           "color": "white",
           "width": 2
          },
          "size": 12,
          "symbol": "circle"
         },
         "mode": "markers+text",
         "name": "Ключевые точки",
         "text": [
          "A",
          "B"
         ],
         "textfont": {
          "color": "#374151",
          "size": 16
         },
         "textposition": "top right",
         "type": "scatter",
         "x": [
          5,
          10
         ],
         "y": [
          16.181166872911426,
          41.377008782763454
         ]
        },
        {
         "hoverinfo": "skip",
         "line": {
          "color": "#ef4444",
          "dash": "dash",
          "width": 1
         },
         "mode": "lines",
         "name": "Проекция A",
         "showlegend": false,
         "type": "scatter",
         "x": [
          5,
          5
         ],
         "y": [
          0,
          16.181166872911426
         ]
        },
        {
         "hoverinfo": "skip",
         "line": {
          "color": "#ef4444",
          "dash": "dash",
          "width": 1
         },
         "mode": "lines",
         "name": "Проекция B",
         "showlegend": false,
         "type": "scatter",
         "x": [
          10,
          10
         ],
         "y": [
          0,
          41.377008782763454
         ]
        },
        {
         "hoverinfo": "skip",
         "line": {
          "color": "#ef4444",
          "dash": "dash",
          "width": 1
         },
         "mode": "lines",
         "name": "Проекция A",
         "showlegend": false,
         "type": "scatter",
         "x": [
          0,
          5
         ],
         "y": [
          16.181166872911426,
          16.181166872911426
         ]
        },
        {
         "hoverinfo": "skip",
         "line": {
          "color": "#ef4444",
          "dash": "dash",
          "width": 1
         },
         "mode": "lines",
         "name": "Проекция B",
         "showlegend": false,
         "type": "scatter",
         "x": [
          0,
          10
         ],
         "y": [
          41.377008782763454,
          41.377008782763454
         ]
        }
       ],
       "layout": {
        "annotations": [
         {
          "font": {
           "color": "#374151",
           "size": 14
          },
          "showarrow": false,
          "text": "y₁ = 16.2",
          "x": 0,
          "xanchor": "right",
          "xshift": -10,
          "y": 16.181166872911426
         },
         {
          "font": {
           "color": "#374151",
           "size": 14
          },
          "showarrow": false,
          "text": "y₂ = 41.4",
          "x": 0,
          "xanchor": "right",
          "xshift": -10,
          "y": 41.377008782763454
         },
         {
          "font": {
           "color": "#374151",
           "size": 14
          },
          "showarrow": false,
          "text": "x₁ = 5",
          "x": 5,
          "y": 0,
          "yanchor": "top",
          "yshift": -10
         },
         {
          "font": {
           "color": "#374151",
           "size": 14
          },
          "showarrow": false,
          "text": "x₂ = 10",
          "x": 10,
          "y": 0,
          "yanchor": "top",
          "yshift": -10
         },
         {
          "align": "center",
          "bgcolor": "rgba(99, 102, 241, 0.1)",
          "bordercolor": "#6366f1",
          "borderpad": 4,
          "borderwidth": 1,
          "font": {
           "color": "#6366f1",
           "size": 16
          },
          "showarrow": false,
          "text": "Приращение аргумента: Δx = x₂ - x₁<br>Приращение функции: Δy = y₂ - y₁",
          "x": 0.5,
          "xref": "paper",
          "y": 0.98,
          "yref": "paper"
         }
        ],
        "font": {
         "family": "Arial, sans-serif"
        },
        "hovermode": "x unified",
        "legend": {
         "bgcolor": "rgba(255,255,255,0.8)",
         "bordercolor": "rgba(0,0,0,0.1)",
         "borderwidth": 1,
         "x": 0.02,
         "y": 0.98
        },
        "margin": {
         "b": 80,
         "l": 80,
         "r": 80,
         "t": 100
        },
        "paper_bgcolor": "white",
        "plot_bgcolor": "white",
        "showlegend": true,
        "template": {
         "data": {
          "bar": [
           {
            "error_x": {
             "color": "#2a3f5f"
            },
            "error_y": {
             "color": "#2a3f5f"
            },
            "marker": {
             "line": {
              "color": "#E5ECF6",
              "width": 0.5
             },
             "pattern": {
              "fillmode": "overlay",
              "size": 10,
              "solidity": 0.2
             }
            },
            "type": "bar"
           }
          ],
          "barpolar": [
           {
            "marker": {
             "line": {
              "color": "#E5ECF6",
              "width": 0.5
             },
             "pattern": {
              "fillmode": "overlay",
              "size": 10,
              "solidity": 0.2
             }
            },
            "type": "barpolar"
           }
          ],
          "carpet": [
           {
            "aaxis": {
             "endlinecolor": "#2a3f5f",
             "gridcolor": "white",
             "linecolor": "white",
             "minorgridcolor": "white",
             "startlinecolor": "#2a3f5f"
            },
            "baxis": {
             "endlinecolor": "#2a3f5f",
             "gridcolor": "white",
             "linecolor": "white",
             "minorgridcolor": "white",
             "startlinecolor": "#2a3f5f"
            },
            "type": "carpet"
           }
          ],
          "choropleth": [
           {
            "colorbar": {
             "outlinewidth": 0,
             "ticks": ""
            },
            "type": "choropleth"
           }
          ],
          "contour": [
           {
            "colorbar": {
             "outlinewidth": 0,
             "ticks": ""
            },
            "colorscale": [
             [
              0.0,
              "#0d0887"
             ],
             [
              0.1111111111111111,
              "#46039f"
             ],
             [
              0.2222222222222222,
              "#7201a8"
             ],
             [
              0.3333333333333333,
              "#9c179e"
             ],
             [
              0.4444444444444444,
              "#bd3786"
             ],
             [
              0.5555555555555556,
              "#d8576b"
             ],
             [
              0.6666666666666666,
              "#ed7953"
             ],
             [
              0.7777777777777778,
              "#fb9f3a"
             ],
             [
              0.8888888888888888,
              "#fdca26"
             ],
             [
              1.0,
              "#f0f921"
             ]
            ],
            "type": "contour"
           }
          ],
          "contourcarpet": [
           {
            "colorbar": {
             "outlinewidth": 0,
             "ticks": ""
            },
            "type": "contourcarpet"
           }
          ],
          "heatmap": [
           {
            "colorbar": {
             "outlinewidth": 0,
             "ticks": ""
            },
            "colorscale": [
             [
              0.0,
              "#0d0887"
             ],
             [
              0.1111111111111111,
              "#46039f"
             ],
             [
              0.2222222222222222,
              "#7201a8"
             ],
             [
              0.3333333333333333,
              "#9c179e"
             ],
             [
              0.4444444444444444,
              "#bd3786"
             ],
             [
              0.5555555555555556,
              "#d8576b"
             ],
             [
              0.6666666666666666,
              "#ed7953"
             ],
             [
              0.7777777777777778,
              "#fb9f3a"
             ],
             [
              0.8888888888888888,
              "#fdca26"
             ],
             [
              1.0,
              "#f0f921"
             ]
            ],
            "type": "heatmap"
           }
          ],
          "histogram": [
           {
            "marker": {
             "pattern": {
              "fillmode": "overlay",
              "size": 10,
              "solidity": 0.2
             }
            },
            "type": "histogram"
           }
          ],
          "histogram2d": [
           {
            "colorbar": {
             "outlinewidth": 0,
             "ticks": ""
            },
            "colorscale": [
             [
              0.0,
              "#0d0887"
             ],
             [
              0.1111111111111111,
              "#46039f"
             ],
             [
              0.2222222222222222,
              "#7201a8"
             ],
             [
              0.3333333333333333,
              "#9c179e"
             ],
             [
              0.4444444444444444,
              "#bd3786"
             ],
             [
              0.5555555555555556,
              "#d8576b"
             ],
             [
              0.6666666666666666,
              "#ed7953"
             ],
             [
              0.7777777777777778,
              "#fb9f3a"
             ],
             [
              0.8888888888888888,
              "#fdca26"
             ],
             [
              1.0,
              "#f0f921"
             ]
            ],
            "type": "histogram2d"
           }
          ],
          "histogram2dcontour": [
           {
            "colorbar": {
             "outlinewidth": 0,
             "ticks": ""
            },
            "colorscale": [
             [
              0.0,
              "#0d0887"
             ],
             [
              0.1111111111111111,
              "#46039f"
             ],
             [
              0.2222222222222222,
              "#7201a8"
             ],
             [
              0.3333333333333333,
              "#9c179e"
             ],
             [
              0.4444444444444444,
              "#bd3786"
             ],
             [
              0.5555555555555556,
              "#d8576b"
             ],
             [
              0.6666666666666666,
              "#ed7953"
             ],
             [
              0.7777777777777778,
              "#fb9f3a"
             ],
             [
              0.8888888888888888,
              "#fdca26"
             ],
             [
              1.0,
              "#f0f921"
             ]
            ],
            "type": "histogram2dcontour"
           }
          ],
          "mesh3d": [
           {
            "colorbar": {
             "outlinewidth": 0,
             "ticks": ""
            },
            "type": "mesh3d"
           }
          ],
          "parcoords": [
           {
            "line": {
             "colorbar": {
              "outlinewidth": 0,
              "ticks": ""
             }
            },
            "type": "parcoords"
           }
          ],
          "pie": [
           {
            "automargin": true,
            "type": "pie"
           }
          ],
          "scatter": [
           {
            "fillpattern": {
             "fillmode": "overlay",
             "size": 10,
             "solidity": 0.2
            },
            "type": "scatter"
           }
          ],
          "scatter3d": [
           {
            "line": {
             "colorbar": {
              "outlinewidth": 0,
              "ticks": ""
             }
            },
            "marker": {
             "colorbar": {
              "outlinewidth": 0,
              "ticks": ""
             }
            },
            "type": "scatter3d"
           }
          ],
          "scattercarpet": [
           {
            "marker": {
             "colorbar": {
              "outlinewidth": 0,
              "ticks": ""
             }
            },
            "type": "scattercarpet"
           }
          ],
          "scattergeo": [
           {
            "marker": {
             "colorbar": {
              "outlinewidth": 0,
              "ticks": ""
             }
            },
            "type": "scattergeo"
           }
          ],
          "scattergl": [
           {
            "marker": {
             "colorbar": {
              "outlinewidth": 0,
              "ticks": ""
             }
            },
            "type": "scattergl"
           }
          ],
          "scattermap": [
           {
            "marker": {
             "colorbar": {
              "outlinewidth": 0,
              "ticks": ""
             }
            },
            "type": "scattermap"
           }
          ],
          "scattermapbox": [
           {
            "marker": {
             "colorbar": {
              "outlinewidth": 0,
              "ticks": ""
             }
            },
            "type": "scattermapbox"
           }
          ],
          "scatterpolar": [
           {
            "marker": {
             "colorbar": {
              "outlinewidth": 0,
              "ticks": ""
             }
            },
            "type": "scatterpolar"
           }
          ],
          "scatterpolargl": [
           {
            "marker": {
             "colorbar": {
              "outlinewidth": 0,
              "ticks": ""
             }
            },
            "type": "scatterpolargl"
           }
          ],
          "scatterternary": [
           {
            "marker": {
             "colorbar": {
              "outlinewidth": 0,
              "ticks": ""
             }
            },
            "type": "scatterternary"
           }
          ],
          "surface": [
           {
            "colorbar": {
             "outlinewidth": 0,
             "ticks": ""
            },
            "colorscale": [
             [
              0.0,
              "#0d0887"
             ],
             [
              0.1111111111111111,
              "#46039f"
             ],
             [
              0.2222222222222222,
              "#7201a8"
             ],
             [
              0.3333333333333333,
              "#9c179e"
             ],
             [
              0.4444444444444444,
              "#bd3786"
             ],
             [
              0.5555555555555556,
              "#d8576b"
             ],
             [
              0.6666666666666666,
              "#ed7953"
             ],
             [
              0.7777777777777778,
              "#fb9f3a"
             ],
             [
              0.8888888888888888,
              "#fdca26"
             ],
             [
              1.0,
              "#f0f921"
             ]
            ],
            "type": "surface"
           }
          ],
          "table": [
           {
            "cells": {
             "fill": {
              "color": "#EBF0F8"
             },
             "line": {
              "color": "white"
             }
            },
            "header": {
             "fill": {
              "color": "#C8D4E3"
             },
             "line": {
              "color": "white"
             }
            },
            "type": "table"
           }
          ]
         },
         "layout": {
          "annotationdefaults": {
           "arrowcolor": "#2a3f5f",
           "arrowhead": 0,
           "arrowwidth": 1
          },
          "autotypenumbers": "strict",
          "coloraxis": {
           "colorbar": {
            "outlinewidth": 0,
            "ticks": ""
           }
          },
          "colorscale": {
           "diverging": [
            [
             0,
             "#8e0152"
            ],
            [
             0.1,
             "#c51b7d"
            ],
            [
             0.2,
             "#de77ae"
            ],
            [
             0.3,
             "#f1b6da"
            ],
            [
             0.4,
             "#fde0ef"
            ],
            [
             0.5,
             "#f7f7f7"
            ],
            [
             0.6,
             "#e6f5d0"
            ],
            [
             0.7,
             "#b8e186"
            ],
            [
             0.8,
             "#7fbc41"
            ],
            [
             0.9,
             "#4d9221"
            ],
            [
             1,
             "#276419"
            ]
           ],
           "sequential": [
            [
             0.0,
             "#0d0887"
            ],
            [
             0.1111111111111111,
             "#46039f"
            ],
            [
             0.2222222222222222,
             "#7201a8"
            ],
            [
             0.3333333333333333,
             "#9c179e"
            ],
            [
             0.4444444444444444,
             "#bd3786"
            ],
            [
             0.5555555555555556,
             "#d8576b"
            ],
            [
             0.6666666666666666,
             "#ed7953"
            ],
            [
             0.7777777777777778,
             "#fb9f3a"
            ],
            [
             0.8888888888888888,
             "#fdca26"
            ],
            [
             1.0,
             "#f0f921"
            ]
           ],
           "sequentialminus": [
            [
             0.0,
             "#0d0887"
            ],
            [
             0.1111111111111111,
             "#46039f"
            ],
            [
             0.2222222222222222,
             "#7201a8"
            ],
            [
             0.3333333333333333,
             "#9c179e"
            ],
            [
             0.4444444444444444,
             "#bd3786"
            ],
            [
             0.5555555555555556,
             "#d8576b"
            ],
            [
             0.6666666666666666,
             "#ed7953"
            ],
            [
             0.7777777777777778,
             "#fb9f3a"
            ],
            [
             0.8888888888888888,
             "#fdca26"
            ],
            [
             1.0,
             "#f0f921"
            ]
           ]
          },
          "colorway": [
           "#636efa",
           "#EF553B",
           "#00cc96",
           "#ab63fa",
           "#FFA15A",
           "#19d3f3",
           "#FF6692",
           "#B6E880",
           "#FF97FF",
           "#FECB52"
          ],
          "font": {
           "color": "#2a3f5f"
          },
          "geo": {
           "bgcolor": "white",
           "lakecolor": "white",
           "landcolor": "#E5ECF6",
           "showlakes": true,
           "showland": true,
           "subunitcolor": "white"
          },
          "hoverlabel": {
           "align": "left"
          },
          "hovermode": "closest",
          "mapbox": {
           "style": "light"
          },
          "paper_bgcolor": "white",
          "plot_bgcolor": "#E5ECF6",
          "polar": {
           "angularaxis": {
            "gridcolor": "white",
            "linecolor": "white",
            "ticks": ""
           },
           "bgcolor": "#E5ECF6",
           "radialaxis": {
            "gridcolor": "white",
            "linecolor": "white",
            "ticks": ""
           }
          },
          "scene": {
           "xaxis": {
            "backgroundcolor": "#E5ECF6",
            "gridcolor": "white",
            "gridwidth": 2,
            "linecolor": "white",
            "showbackground": true,
            "ticks": "",
            "zerolinecolor": "white"
           },
           "yaxis": {
            "backgroundcolor": "#E5ECF6",
            "gridcolor": "white",
            "gridwidth": 2,
            "linecolor": "white",
            "showbackground": true,
            "ticks": "",
            "zerolinecolor": "white"
           },
           "zaxis": {
            "backgroundcolor": "#E5ECF6",
            "gridcolor": "white",
            "gridwidth": 2,
            "linecolor": "white",
            "showbackground": true,
            "ticks": "",
            "zerolinecolor": "white"
           }
          },
          "shapedefaults": {
           "line": {
            "color": "#2a3f5f"
           }
          },
          "ternary": {
           "aaxis": {
            "gridcolor": "white",
            "linecolor": "white",
            "ticks": ""
           },
           "baxis": {
            "gridcolor": "white",
            "linecolor": "white",
            "ticks": ""
           },
           "bgcolor": "#E5ECF6",
           "caxis": {
            "gridcolor": "white",
            "linecolor": "white",
            "ticks": ""
           }
          },
          "title": {
           "x": 0.05
          },
          "xaxis": {
           "automargin": true,
           "gridcolor": "white",
           "linecolor": "white",
           "ticks": "",
           "title": {
            "standoff": 15
           },
           "zerolinecolor": "white",
           "zerolinewidth": 2
          },
          "yaxis": {
           "automargin": true,
           "gridcolor": "white",
           "linecolor": "white",
           "ticks": "",
           "title": {
            "standoff": 15
           },
           "zerolinecolor": "white",
           "zerolinewidth": 2
          }
         }
        },
        "title": {
         "font": {
          "color": "#1f2937",
          "size": 24
         },
         "text": "🚴 Приращение скорости велосипеда",
         "x": 0.5,
         "y": 0.95
        },
        "xaxis": {
         "gridcolor": "rgba(0,0,0,0.1)",
         "range": [
          -1,
          21
         ],
         "showgrid": true,
         "title": {
          "font": {
           "color": "#374151",
           "size": 16
          },
          "text": "Время (минуты)"
         },
         "zerolinecolor": "rgba(0,0,0,0.2)"
        },
        "yaxis": {
         "gridcolor": "rgba(0,0,0,0.1)",
         "range": [
          -1,
          65
         ],
         "showgrid": true,
         "title": {
          "font": {
           "color": "#374151",
           "size": 16
          },
          "text": "Скорость (км/ч)"
         },
         "zerolinecolor": "rgba(0,0,0,0.2)"
        }
       }
      }
     },
     "metadata": {},
     "output_type": "display_data"
    }
   ],
   "source": [
    "# Генерация данных\n",
    "t, v = generate_data()\n",
    "\n",
    "# Выбираем точки A и B\n",
    "x1, x2 = 5, 10  # Время в минутах\n",
    "y1, y2 = create_speed_function(x1), create_speed_function(x2)\n",
    "\n",
    "# Создание основного графика\n",
    "fig = go.Figure()\n",
    "\n",
    "# Основная линия графика с градиентом\n",
    "fig.add_trace(go.Scatter(\n",
    "    x=t,\n",
    "    y=v,\n",
    "    mode='lines',\n",
    "    name='Скорость велосипеда',\n",
    "    line=dict(\n",
    "        color='#6366f1',\n",
    "        width=4,\n",
    "        shape='spline',\n",
    "        smoothing=1.3\n",
    "    ),\n",
    "    fill='tonexty',\n",
    "    fillcolor='rgba(99, 102, 241, 0.1)',\n",
    "    hovertemplate='<b>Время:</b> %{x:.1f} мин<br>' +\n",
    "                  '<b>Скорость:</b> %{y:.1f} км/ч<br>' +\n",
    "                  '<extra></extra>'\n",
    "))\n",
    "\n",
    "# Добавление точек A и B\n",
    "fig.add_trace(go.Scatter(\n",
    "    x=[x1, x2],\n",
    "    y=[y1, y2],\n",
    "    mode='markers+text',\n",
    "    name='Ключевые точки',\n",
    "    marker=dict(\n",
    "        size=12,\n",
    "        color='#ef4444',\n",
    "        symbol='circle',\n",
    "        line=dict(color='white', width=2)\n",
    "    ),\n",
    "    text=['A', 'B'],\n",
    "    textposition='top right',\n",
    "    textfont=dict(size=16, color='#374151'),\n",
    "    hovertemplate='<b>Точка %{text}:</b><br>' +\n",
    "                  '<b>Время:</b> %{x:.1f} мин<br>' +\n",
    "                  '<b>Скорость:</b> %{y:.1f} км/ч<br>' +\n",
    "                  '<extra></extra>'\n",
    "))\n",
    "\n",
    "# Добавление перпендикуляров и проекций\n",
    "fig.add_trace(go.Scatter(\n",
    "    x=[x1, x1],\n",
    "    y=[0, y1],\n",
    "    mode='lines',\n",
    "    name='Проекция A',\n",
    "    line=dict(color='#ef4444', width=1, dash='dash'),\n",
    "    showlegend=False,\n",
    "    hoverinfo='skip'\n",
    "))\n",
    "\n",
    "fig.add_trace(go.Scatter(\n",
    "    x=[x2, x2],\n",
    "    y=[0, y2],\n",
    "    mode='lines',\n",
    "    name='Проекция B',\n",
    "    line=dict(color='#ef4444', width=1, dash='dash'),\n",
    "    showlegend=False,\n",
    "    hoverinfo='skip'\n",
    "))\n",
    "\n",
    "fig.add_trace(go.Scatter(\n",
    "    x=[0, x1],\n",
    "    y=[y1, y1],\n",
    "    mode='lines',\n",
    "    name='Проекция A',\n",
    "    line=dict(color='#ef4444', width=1, dash='dash'),\n",
    "    showlegend=False,\n",
    "    hoverinfo='skip'\n",
    "))\n",
    "\n",
    "fig.add_trace(go.Scatter(\n",
    "    x=[0, x2],\n",
    "    y=[y2, y2],\n",
    "    mode='lines',\n",
    "    name='Проекция B',\n",
    "    line=dict(color='#ef4444', width=1, dash='dash'),\n",
    "    showlegend=False,\n",
    "    hoverinfo='skip'\n",
    "))\n",
    "\n",
    "# Добавление аннотаций для координат\n",
    "fig.add_annotation(\n",
    "    x=0,\n",
    "    y=y1,\n",
    "    text=f'y₁ = {y1:.1f}',\n",
    "    showarrow=False,\n",
    "    xanchor='right',\n",
    "    xshift=-10,\n",
    "    font=dict(size=14, color='#374151')\n",
    ")\n",
    "\n",
    "fig.add_annotation(\n",
    "    x=0,\n",
    "    y=y2,\n",
    "    text=f'y₂ = {y2:.1f}',\n",
    "    showarrow=False,\n",
    "    xanchor='right',\n",
    "    xshift=-10,\n",
    "    font=dict(size=14, color='#374151')\n",
    ")\n",
    "\n",
    "fig.add_annotation(\n",
    "    x=x1,\n",
    "    y=0,\n",
    "    text=f'x₁ = {x1}',\n",
    "    showarrow=False,\n",
    "    yanchor='top',\n",
    "    yshift=-10,\n",
    "    font=dict(size=14, color='#374151')\n",
    ")\n",
    "\n",
    "fig.add_annotation(\n",
    "    x=x2,\n",
    "    y=0,\n",
    "    text=f'x₂ = {x2}',\n",
    "    showarrow=False,\n",
    "    yanchor='top',\n",
    "    yshift=-10,\n",
    "    font=dict(size=14, color='#374151')\n",
    ")\n",
    "\n",
    "# Настройка макета\n",
    "fig.update_layout(\n",
    "    title=dict(\n",
    "        text='🚴 Приращение скорости велосипеда',\n",
    "        font=dict(size=24, color='#1f2937'),\n",
    "        x=0.5,\n",
    "        y=0.95\n",
    "    ),\n",
    "    xaxis=dict(\n",
    "        title=dict(\n",
    "            text='Время (минуты)',\n",
    "            font=dict(size=16, color='#374151')\n",
    "        ),\n",
    "        gridcolor='rgba(0,0,0,0.1)',\n",
    "        zerolinecolor='rgba(0,0,0,0.2)',\n",
    "        showgrid=True,\n",
    "        range=[-1, 21]\n",
    "    ),\n",
    "    yaxis=dict(\n",
    "        title=dict(\n",
    "            text='Скорость (км/ч)',\n",
    "            font=dict(size=16, color='#374151')\n",
    "        ),\n",
    "        gridcolor='rgba(0,0,0,0.1)',\n",
    "        zerolinecolor='rgba(0,0,0,0.2)',\n",
    "        showgrid=True,\n",
    "        range=[-1, 65]\n",
    "    ),\n",
    "    plot_bgcolor='white',\n",
    "    paper_bgcolor='white',\n",
    "    font=dict(family='Arial, sans-serif'),\n",
    "    showlegend=True,\n",
    "    legend=dict(\n",
    "        x=0.02,\n",
    "        y=0.98,\n",
    "        bgcolor='rgba(255,255,255,0.8)',\n",
    "        bordercolor='rgba(0,0,0,0.1)',\n",
    "        borderwidth=1\n",
    "    ),\n",
    "    margin=dict(l=80, r=80, t=100, b=80),\n",
    "    hovermode='x unified'\n",
    ")\n",
    "\n",
    "# Добавление аннотаций с пояснениями\n",
    "fig.add_annotation(\n",
    "    x=0.5,\n",
    "    y=0.98,\n",
    "    xref='paper',\n",
    "    yref='paper',\n",
    "    text='Приращение аргумента: Δx = x₂ - x₁<br>Приращение функции: Δy = y₂ - y₁',\n",
    "    showarrow=False,\n",
    "    font=dict(size=16, color='#6366f1'),\n",
    "    bgcolor='rgba(99, 102, 241, 0.1)',\n",
    "    bordercolor='#6366f1',\n",
    "    borderwidth=1,\n",
    "    borderpad=4,\n",
    "    align='center'\n",
    ")\n",
    "\n",
    "# Отображение графика\n",
    "fig.show()\n"
   ]
  },
  {
   "cell_type": "markdown",
   "id": "ae7d0e32",
   "metadata": {},
   "source": [
    "# Анализ изменения скорости велосипеда\n",
    "\n",
    "На графике в момент времени $x_1$ скорость велосипеда равна $y_1$, а в момент времени $x_2$ она становится равной $y_2$. За промежуток времени $\\Delta x = x_2 − x_1$ скорость изменяется на следующую величину $\\Delta y = y_2 − y_1$.\n",
    "\n",
    "## Понятие приращения\n",
    "\n",
    "**Приращение аргумента** — разность между двумя значениями аргумента. В нашем случае это изменение времени между двумя точками измерения скорости: если мы измеряем скорость в начале движения и через 5 минут, приращение аргумента составит 5 минут. В системе координат $XY$ оно обозначается как $\\Delta x$, где $\\Delta$ (дельта) — символ приращения.\n",
    "\n",
    "**Приращение функции** — изменение значения функции при изменении аргумента. В нашем примере это изменение скорости между двумя точками измерения. Например:\n",
    "- Если скорость в начале движения была $0$ км/ч\n",
    "- А через 5 минут стала $20$ км/ч\n",
    "- То приращение функции составит $20$ км/ч\n",
    "\n",
    "В системе координат $XY$ оно обозначается как $\\Delta y$.\n",
    "\n",
    "Для функции $y = f(x)$ приращение вычисляется по формуле:\n",
    "\n",
    "$$\n",
    "\\Delta y = f(x + \\Delta x) − f(x)\n",
    "$$\n",
    "\n",
    "Где:\n",
    "- $f(x)$ — значение функции в исходной точке\n",
    "- $f(x + \\Delta x)$ — значение функции в точке, смещённой на $\\Delta x$\n",
    "- $\\Delta x$ — приращение аргумента\n",
    "- $\\Delta y$ — приращение функции\n",
    "\n",
    "## Скорость изменения функции\n",
    "\n",
    "Приращение аргумента и функции позволяет определить **скорость изменения функции**:\n",
    "- Если $\\Delta y > 0$ — велосипед ускоряется\n",
    "- Если $\\Delta y < 0$ — замедляется\n",
    "- Если $\\Delta y = 0$ — движется с постоянной скоростью\n",
    "\n",
    "Скорость изменения вычисляется как отношение:\n",
    "\n",
    "$$\n",
    "\\text{Скорость изменения} = \\frac{\\Delta y}{\\Delta x}\n",
    "$$\n",
    "\n",
    "**Важно!** Точность увеличивается при уменьшении $\\Delta x$. Для максимальной точности нужно рассматривать малые значения $\\Delta x$.\n",
    "\n",
    "## Понятие производной\n",
    "\n",
    "Для определения **мгновенной скорости** в конкретный момент (а не средней на промежутке) необходимо рассмотреть предел при $\\Delta x \\to 0$. Это приводит нас к понятию производной:\n",
    "\n",
    "$$\n",
    "f'(x) = \\lim_{\\Delta x \\to 0} \\frac{f(x + \\Delta x) - f(x)}{\\Delta x}\n",
    "$$\n",
    "\n",
    "Элементы формулы:\n",
    "- $f'(x)$ — производная функции $f$ в точке $x$\n",
    "- $\\lim$ — предел выражения\n",
    "- $\\Delta x$ — приращение аргумента\n",
    "\n",
    "## Физический смысл производной\n",
    "\n",
    "В примере с велосипедом производная скорости по времени показывает **мгновенное ускорение**. Это позволяет:\n",
    "1. Определять изменение скорости в любой момент\n",
    "2. Анализировать ускорение и замедление\n",
    "3. Рассчитывать время достижения нужной скорости\n",
    "4. Оптимизировать маршрут с учётом изменения скорости\n",
    "\n",
    "> В следующем разделе мы подробнее рассмотрим физический смысл производной на практических примерах."
   ]
  },
  {
   "cell_type": "markdown",
   "id": "d19dced8",
   "metadata": {},
   "source": [
    "### **Производная**\n",
    "\n",
    "Производная функции в точке — это число, характеризующее скорость роста функции в этой точке. Обозначается $f'(x_0)$.\n",
    "\n",
    "### Объяснение:\n",
    "\n",
    "**Предел функции в точке и на бесконечности:**\n",
    "Предел функции в точке — это значение, к которому стремится функция по мере приближения аргумента к некоторому значению. Обозначается как $\\lim\\limits_{x \\to x_0} f(x) = L$. Для непрерывной функции предел в любой точке совпадает со значением функции в этой точке.\n",
    "\n",
    "**Производная функции:**\n",
    "Производная функции $f(x)$ в точке $x_0$ — это предел отношения приращения функции к приращению аргумента при стремлении приращения аргумента к нулю:\n",
    "$$\n",
    "f'(x_0) = \\lim\\limits_{\\Delta x \\to 0} \\frac{f(x_0 + \\Delta x) - f(x_0)}{\\Delta x}\n",
    "$$\n",
    "\n",
    "### Математическая формализация:\n",
    "\n",
    "1. **Определение производной:**\n",
    "   $$\n",
    "   f'(x_0) = \\lim\\limits_{\\Delta x \\to 0} \\frac{\\Delta y}{\\Delta x} = \\lim\\limits_{\\Delta x \\to 0} \\frac{f(x_0 + \\Delta x) - f(x_0)}{\\Delta x}\n",
    "   $$\n",
    "\n",
    "2. **Касательная к графику функции:**\n",
    "   Касательная к графику функции $y = f(x)$ в точке $x_0$ — это прямая, которая \"прикасается\" к графику в этой точке и имеет тот же наклон, что и график. Угловой коэффициент касательной равен значению производной в этой точке.\n",
    "\n",
    "### **Нахождение касательной к графику функции и расчет углового коэффициента**\n",
    "\n",
    "1. **Уравнение касательной:**\n",
    "   Уравнение касательной к графику функции $y = f(x)$ в точке $x_0$ можно записать в следующем виде:\n",
    "\n",
    "   $\n",
    "   y = f(x_0) + f'(x_0)(x - x_0)\n",
    "   $\n",
    "\n",
    "   где $f(x_0)$ — значение функции в точке $x_0$, а $f'(x_0)$ — значение производной функции в точке $x_0$.\n",
    "\n",
    "2. **Пример расчета:**\n",
    "\n",
    "   Рассмотрим функцию $f(x) = x^2$. Найдем уравнение касательной в точке $x_0 = 1$.\n",
    "\n",
    "   - Находим значение функции в этой точке: $f(1) = 1^2 = 1$.\n",
    "   - Находим производную функции: $f'(x) = 2x$, следовательно, $f'(1) = 2 \\cdot 1 = 2$.\n",
    "   - Подставляем значения в уравнение касательной:\n",
    "     $$\n",
    "     y = 1 + 2(x - 1)\n",
    "     $$\n",
    "     Таким образом, уравнение касательной имеет вид:\n",
    "     $$\n",
    "     y = 2x - 1\n",
    "     $$\n",
    "\n",
    "### Примеры интерпретации углового коэффициента\n",
    "\n",
    "#### **Положительный угловой коэффициент:**\n",
    "- Если $f'(x_0) > 0$, то функция возрастает в точке $x_0$. Чем больше значение $f'(x_0)$, тем круче поднимается график функции.\n",
    "\n",
    "#### **Отрицательный угловой коэффициент:**\n",
    "- Если $f'(x_0) < 0$, то функция убывает в точке $x_0$. Чем меньше значение $f'(x_0)$ (по модулю), тем круче опускается график функции.\n",
    "\n",
    "#### **Нулевой угловой коэффициент:**\n",
    "- Если $f'(x_0) = 0$, то касательная горизонтальна, и график функции в данной точке имеет горизонтальный наклон. Это может указывать на экстремум (максимум или минимум) функции в этой точке.\n",
    "\n",
    "#### Пример из физики:\n",
    "\n",
    "Рассмотрим движение автомобиля по прямой линии. Пусть координата автомобиля в момент времени $t$ задаётся функцией $s(t) = 5t^2 + 2t + 1$, где $s$ — путь, пройденный автомобилем в метрах, а $t$ — время в секундах.\n",
    "\n",
    "1. **Нахождение скорости:**\n",
    "   Скорость $v(t)$ — это первая производная координаты $s(t)$ по времени $t$:\n",
    "   $$\n",
    "   v(t) = s'(t) = \\frac{d}{dt}(5t^2 + 2t + 1) = 10t + 2\n",
    "   $$\n",
    "\n",
    "2. **Нахождение ускорения:**\n",
    "   Ускорение $a(t)$ — это первая производная скорости $v(t)$ по времени $t$:\n",
    "   $$\n",
    "   a(t) = v'(t) = \\frac{d}{dt}(10t + 2) = 10\n",
    "   $$\n",
    "   Таким образом, ускорение автомобиля постоянно и равно $10$ м/с².\n",
    "\n",
    "### **Геометрический смысл производной**\n",
    "\n",
    "Производная функции в точке также имеет геометрический смысл: она определяет наклон касательной к графику функции в этой точке. Наклон касательной показывает, как быстро и в каком направлении изменяется функция в данной точке.\n",
    "\n",
    "#### Пример из физики (продолжение):\n",
    "\n",
    "Возвращаясь к примеру с движением автомобиля, можно построить график функции $s(t) = 5t^2 + 2t + 1$ и найти касательную в точке $t_0 = 1$ секунда:\n",
    "\n",
    "- Значение функции в этой точке: $s(1) = 5(1)^2 + 2(1) + 1 = 8$ метра.\n",
    "- Значение производной (скорости) в этой точке: $v(1) = 10(1) + 2 = 12$ м/с.\n",
    "\n",
    "Уравнение касательной:\n",
    "$$\n",
    "s = 8 + 12(t - 1)\n",
    "$$\n",
    "\n",
    "Это уравнение показывает, как изменяется пройденный путь в окрестности $t = 1$ секунда. Таким образом, геометрически производная представляет собой наклон касательной к кривой, описывающей движение автомобиля.\n",
    "\n",
    "### Дополнения:\n",
    "\n",
    "Чем меньше приращение, тем больше кривая в точке похожа на свою касательную и тем ближе её мгновенная скорость к скорости роста прямой. При бесконечно малом приращении аргумента они становятся неразличимы.\n",
    "$$\n",
    "f'(x_0) = k = \\tan \\alpha,\n",
    "$$\n",
    "где $k$ — угловой коэффициент касательной в данной точке.\n",
    "\n",
    "Численное значение производной в точке $x_0$ зависит от $x_0$, поэтому производная функции тоже является функцией.\n",
    "\n",
    "У кусочных функций чаще всего нет производной в точке склейки (только в ней).\n",
    "\n",
    "Взятие производной также называется дифференцированием.\n",
    "\n",
    "### **Формулы дифференцирования**:\n",
    "\n",
    "$\n",
    "(c \\cdot f(x))' = c \\cdot f'(x),\n",
    "$\n",
    "где $c \\in \\mathbb{R}$,\n",
    "\n",
    "$\n",
    "(f(x) \\pm g(x))' = f'(x) \\pm g'(x),\n",
    "$\n",
    "\n",
    "$\n",
    "(f(x) \\cdot g(x))' = f'(x) \\cdot g(x) + f(x) \\cdot g'(x),\n",
    "$\n",
    "\n",
    "$\n",
    "\\left( \\frac{f(x)}{g(x)} \\right)' = \\frac{f'(x) \\cdot g(x) - f(x) \\cdot g'(x)}{g^2(x)},\n",
    "$\n",
    "\n",
    "$\n",
    "(f \\circ g)' = (f(g(x)))' = f'(g(x)) \\cdot g'(x).\n",
    "$\n",
    "\n",
    "Чтобы численно вычислить значение производной функции $f(x)$ в точке $x_0$ в Python, надо:\n",
    "\n",
    "1. выбрать маленькое значение приращения $dx$, оптимально использовать $dx = 10^{-8}$,\n",
    "2. найти $f(x_0)$,\n",
    "3. найти $f(x_0 + dx)$,\n",
    "4. вычислить значение производной в точке по определению:\n",
    "$$\n",
    "f'(x_0) \\approx \\frac{f(x_0 + dx) - f(x_0)}{dx}.\n",
    "$$\n",
    "\n",
    "### **Связь монотонности и производной**:\n",
    "\n",
    "1. Если $f'(x) > 0$ на интервале $(a, b)$, то функция $f(x)$ возрастает на этом интервале.\n",
    "2. Если $f'(x) < 0$ на интервале $(a, b)$, то функция $f(x)$ убывает на этом интервале.\n",
    "3. Если $f'(x) = 0$ в точке $x = x_0$ и производная меняет знак в этой точке, то $x_0$ является точкой экстремума функции $f(x)$.\n",
    "\n",
    "### **Вторая производная и выпуклость функции**\n",
    "\n",
    "В прошлых уроках мы обсуждали, как связан тип монотонности функции со знаком её производной. Оказывается, тип выпуклости тоже связан с производной, но уже не с первой, а со второй.\n",
    "\n",
    "**Вторая производная функции** — это производная, взятая от производной данной функции. Обозначается как $f''(x)$.\n",
    "\n",
    "Физический смысл второй производной — это скорость изменения скорости, то есть ускорение функции. Можно вычислять производные и более высоких порядков: третьего, четвёртого и так далее. Для третьего порядка используют обозначение $f'''(x)$, а для четвёртого и далее вместо штрихов пишут число в скобках: $f^{(4)}(x)$ или $f^{(IV)}(x)$. Скобки показывают, что цифра — это не степень, а порядок производной.\n",
    "\n",
    "**Пример:** Давайте вычислим вторую производную функции $y = 7x^3 - 13x^2 + 2$. Сначала находим первую производную: $y' = 21x^2 - 26x$. Теперь дифференцируем первую производную, чтобы получить вторую: $y'' = 42x - 26$.\n",
    "\n",
    "**Связь с выпуклостью:** Вторая производная связана с типом выпуклости функции:\n",
    "- Если $f''(x_0) > 0$, то точка $x_0$ лежит на выпуклом вниз участке графика.\n",
    "- Если $f''(x_0) < 0$, то точка $x_0$ лежит на выпуклом вверх участке графика.\n",
    "\n",
    "Это можно запомнить следующим образом: если вторая производная положительна, функция \"улыбается\" (выпукла вниз), если отрицательна — \"грустит\" (выпукла вверх).\n",
    "\n",
    "**Обратные утверждения:**\n",
    "- Если функция выпукла вниз на участке графика, то на этом участке её вторая производная положительна.\n",
    "- Если функция выпукла вверх, то её вторая производная отрицательна.\n",
    "\n",
    "### **Алгоритм нахождения экстремумов функции**\n",
    "\n",
    "#### Шаг 1: Нахождение производной функции\n",
    "1. Определите производную функции $ f(x) $:\n",
    "   $$\n",
    "   f'(x)\n",
    "   $$\n",
    "\n",
    "#### Шаг 2: Нахождение критических точек\n",
    "1. Найдите значения $ x $, при которых производная функции равна нулю:\n",
    "   $$\n",
    "   f'(x) = 0\n",
    "   $$\n",
    "\n",
    "#### Шаг 3: Исследование знака производной\n",
    "1. Разделите числовую прямую на интервалы, используя найденные критические точки.\n",
    "2. Определите знак производной $ f'(x) $ на каждом из интервалов.\n",
    "\n",
    "#### Шаг 4: Классификация экстремумов\n",
    "1. Если производная $ f'(x) $ меняет знак с положительного на отрицательный в критической точке, эта точка является локальным максимумом.\n",
    "2. Если производная $ f'(x) $ меняет знак с отрицательного на положительный в критической точке, эта точка является локальным минимумом.\n",
    "\n",
    "### Пример алгоритма на практике:\n",
    "\n",
    "Рассмотрим функцию $ f(x) = x^3 - 3x^2 + 2 $.\n",
    "\n",
    "#### Шаг 1: Нахождение производной функции\n",
    "   $$\n",
    "   f'(x) = 3x^2 - 6x\n",
    "   $$\n",
    "\n",
    "#### Шаг 2: Нахождение критических точек\n",
    "   $$\n",
    "   3x^2 - 6x = 0 \\implies 3x(x - 2) = 0 \\implies x = 0 \\text{ или } x = 2\n",
    "   $$\n",
    "\n",
    "#### Шаг 3: Исследование знака производной\n",
    "   - На интервале $ (-\\infty, 0) $: $ f'(x) = 3x^2 - 6x > 0 $ (функция возрастает).\n",
    "   - На интервале $ (0, 2) $: $ f'(x) = 3x^2 - 6x < 0 $ (функция убывает).\n",
    "   - На интервале $ (2, \\infty) $: $ f'(x) = 3x^2 - 6x > 0 $ (функция возрастает).\n",
    "\n",
    "#### Шаг 4: Классификация экстремумов\n",
    "   - В точке $ x = 0 $: $ f'(x) $ меняет знак с положительного на отрицательный (локальный максимум).\n",
    "   - В точке $ x = 2 $: $ f'(x) $ меняет знак с отрицательного на положительный (локальный минимум).\n",
    "\n",
    "Таким образом, функция $ f(x) $ имеет локальный максимум в точке $ x = 0 $ и локальный минимум в точке $ x = 2 $.\n",
    "\n",
    "### Пример из физики:\n",
    "\n",
    "Рассмотрим движение объекта, координата которого задана функцией $s(t) = t^3 - 6t^2 + 9t + 1$. Найдём точки максимальной и минимальной скорости.\n",
    "\n",
    "1. Находим скорость $v(t)$:\n",
    "   $$\n",
    "   v(t) = s'(t) = 3t^2 - 12t + 9\n",
    "   $$\n",
    "\n",
    "2. Решаем уравнение $v'(t) = 0$:\n",
    "   $$\n",
    "   3t^2 - 12t + 9 = 0 \\implies t^2 - 4t + 3 = 0 \\implies t = 1 \\text{ или } t = 3\n",
    "   $$\n",
    "\n",
    "3. Исследуем знак ускорения $a(t) = v'(t)$ на интервалах $(0, 1)$, $(1, 3)$ и $(3, \\infty)$:\n",
    "   - На интервале $(0, 1)$: $a(t) = 6t - 12 < 0$ (скорость убывает).\n",
    "   - На интервале $(1, 3)$: $a(t) = 6t - 12 > 0$ (скорость возрастает).\n",
    "   - На интервале $(3, \\infty)$: $a(t) = 6t - 12 > 0$ (скорость возрастает).\n",
    "\n",
    "Таким образом, в точке $t = 1$ объект имеет минимальную скорость, а в точке $t = 3$ — максимальную.\n",
    "\n",
    "### **Теорема о композиций функций**\n",
    "\n",
    "1. Если к функции $f$ применяется возрастающая функция $g$, то композиция $g \\circ f$ имеет экстремумы при тех же аргументах, что и исходная функция $f$. При этом сохраняется и их тип.\n",
    "2. Если к $f$ применяется убывающая функция $p$, то композиция $p \\circ f$ имеет экстремумы при тех же аргументах, что и исходная функция $f$, но меняется их тип.\n",
    "3. Если к $f$ применяется немонотонная функция, то сделать быстрый вывод об экстремумах их композиции нельзя.\n",
    "\n",
    "То есть если функция $f$ имела точку минимума в $x = 3$, то после применения к ней возрастающей функции $g$ получится $g \\circ f$, у которой, согласно теореме, тоже будет точка минимума при $x = 3$.\n",
    "\n",
    "А если к той же функции применить убывающую функцию $p$, то для $p \\circ f$ точка $x = 3$ будет являться уже точкой максимума. То есть она остаётся экстремальной, но меняет тип.\n",
    "\n",
    "Важно! Сами значения функций в точках экстремума будут разные, поскольку $f(x) \\neq g \\circ f(x)$.\n",
    "\n",
    "### **Точки перегиба**\n",
    "\n",
    "Точка перегиба — это аргумент $x \\in D(y)$, при котором меняется тип выпуклости: функция из выпуклой вверх становится выпуклой вниз или наоборот.\n",
    "\n",
    "У значения $y$ в этой точке специального имени нет, если его хотят найти, то так и пишут: «найдите значение функции в точке перегиба».\n",
    "\n",
    "У некоторых функций точка перегиба видна сразу: например, для $y = -x^3$ это точка $x = 0$. Здесь функция сначала была выпуклой вниз, а потом стала выпуклой вверх.\n",
    "\n",
    "Однако точки перегиба не всегда так просто определить на глаз, поэтому нужен формальный аналитический способ. И он связан со второй производной!\n",
    "\n",
    "Тут есть некоторая аналогия с точками экстремума и с их связью с первой производной. Давайте вспомним, как обстояли дела там:\n",
    "- если точка $x_0$ экстремальная, то производная в точке равна нулю или не существует;\n",
    "- если производная в точке равна нулю или не существует, то точка будет «кандидатом» в экстремальные, но нет гарантий, что она такой окажется.\n",
    "\n",
    "Похожим образом связаны точки перегиба и вторая производная:\n",
    "- если точка $x_0$ является точкой перегиба, то $f''(x_0) = 0$ или не существует в точке $x_0$;\n",
    "- если $f''(x_0) = 0$ или не существует в точке $x_0$, то точка будет «кандидатом» на звание точки перегиба, но нет гарантий, что она таковой окажется.\n",
    "\n",
    "### **Анализ функции**\n",
    "\n",
    "Анализировать функцию мы будем, добывая данные по следующему списку:\n",
    "\n",
    "1) Область определения функции.\n",
    "\n",
    "2) Асимптоты: вертикальные и горизонтальные.\n",
    "\n",
    "3) Промежутки монотонности и экстремумы.\n",
    "\n",
    "4) Наибольшее и наименьшее значения.\n",
    "\n",
    "5) Выпуклость и точки перегиба.\n",
    "\n",
    "- Иногда уже на этом этапе можно построить график. Если данных не хватает,\n",
    " то можно исследовать функцию дополнительно:\n",
    "\n",
    "6) Точки пересечения с осями координат. Если их найти сложно, то этот пункт пропускают.\n",
    "\n",
    "7) Множество значений функции.\n",
    "\n",
    "8) Если данных всё ещё недостаточно, составляют таблицу значений функции\n",
    " в дополнительных точках.\n",
    "\n"
   ]
  }
 ],
 "metadata": {
  "kernelspec": {
   "display_name": "venv",
   "language": "python",
   "name": "python3"
  },
  "language_info": {
   "codemirror_mode": {
    "name": "ipython",
    "version": 3
   },
   "file_extension": ".py",
   "mimetype": "text/x-python",
   "name": "python",
   "nbconvert_exporter": "python",
   "pygments_lexer": "ipython3",
   "version": "3.9.6"
  }
 },
 "nbformat": 4,
 "nbformat_minor": 5
}